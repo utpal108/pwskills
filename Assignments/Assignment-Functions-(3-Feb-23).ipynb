{
 "cells": [
  {
   "cell_type": "markdown",
   "id": "9a1379c3-ea80-49b3-844e-ad656187ebed",
   "metadata": {},
   "source": [
    "## Assignment on Functions"
   ]
  },
  {
   "cell_type": "markdown",
   "id": "32857122-f6bf-44a6-9f73-23727abb045e",
   "metadata": {},
   "source": [
    "**1. Which keyword is used to create a function? Create a function to return a list of odd numbers in the range of 1 to 25.**"
   ]
  },
  {
   "cell_type": "markdown",
   "id": "79065c5d-8312-4672-a06f-831f854b5819",
   "metadata": {},
   "source": [
    "The **\"def\"** keyword is used to create a function in Python. Here's an example function that returns a list of odd numbers in the range of 1 to 25:"
   ]
  },
  {
   "cell_type": "code",
   "execution_count": 3,
   "id": "17c229dd-103b-4645-b6a0-8b1803710200",
   "metadata": {},
   "outputs": [
    {
     "data": {
      "text/plain": [
       "[1, 3, 5, 7, 9, 11, 13, 15, 17, 19, 21, 23, 25]"
      ]
     },
     "execution_count": 3,
     "metadata": {},
     "output_type": "execute_result"
    }
   ],
   "source": [
    "def return_odd():\n",
    "    odd_numbers=[]\n",
    "    for n in range(1,26):\n",
    "        if n%2==1:\n",
    "            odd_numbers.append(n)\n",
    "    return odd_numbers\n",
    "\n",
    "return_odd()"
   ]
  },
  {
   "cell_type": "code",
   "execution_count": null,
   "id": "1be29088-e30b-4def-81bc-818013937549",
   "metadata": {},
   "outputs": [],
   "source": []
  },
  {
   "cell_type": "markdown",
   "id": "63c4a800-e243-4e08-8e37-eb49f903fd53",
   "metadata": {},
   "source": [
    "**2. Why args and kwargs is used in some functions? Create a function each for args and kwargs to demonstrate their use.**"
   ]
  },
  {
   "cell_type": "markdown",
   "id": "2fee545b-3045-4ac3-99e4-56fe1cbb0d79",
   "metadata": {},
   "source": [
    "The \\*args and \\**kwargs are used in Python to allow a function to accept an arbitrary number of positional and keyword arguments, respectively.\n",
    "\n",
    "*args is used to pass a variable number of arguments to a function. It allows a function to accept any number of arguments, which are passed as a tuple. Here's an example function that uses *args:"
   ]
  },
  {
   "cell_type": "code",
   "execution_count": 12,
   "id": "de31a704-a312-47be-a7e5-18255141b406",
   "metadata": {},
   "outputs": [
    {
     "name": "stdout",
     "output_type": "stream",
     "text": [
      "10\n",
      "100\n"
     ]
    }
   ],
   "source": [
    "def sum_numbers(*numbers):\n",
    "    sum=0\n",
    "    for n in numbers:\n",
    "        sum+=n\n",
    "    return sum\n",
    "\n",
    "print(sum_numbers(1,2,3,4))\n",
    "print(sum_numbers(10,20,30,40))"
   ]
  },
  {
   "cell_type": "markdown",
   "id": "eea7a48f-067c-49a8-ae7c-2f862f6c86e0",
   "metadata": {},
   "source": [
    "In the above example, the function sum_numbers() accepts any number of arguments and sums them up. The *args allows the function to take a variable number of arguments."
   ]
  },
  {
   "cell_type": "markdown",
   "id": "f2c9089d-acbd-472a-a1fd-bf945ccf246d",
   "metadata": {},
   "source": [
    "\\**kwargs is used to pass a variable number of keyword arguments to a function. It allows a function to accept any number of keyword arguments, which are passed as a dictionary. Here's an example function that uses \\**kwargs:"
   ]
  },
  {
   "cell_type": "code",
   "execution_count": 13,
   "id": "2e42e8ee-dd10-4d47-9fa0-d0d154655502",
   "metadata": {},
   "outputs": [
    {
     "name": "stdout",
     "output_type": "stream",
     "text": [
      "name : Utpal Paul\n",
      "email : utpalseu@gmail.com\n",
      "country : Bangladesh\n"
     ]
    }
   ],
   "source": [
    "def display_info(**user_info):\n",
    "    for key,value in user_info.items():\n",
    "        print(f\"{key} : {value}\")\n",
    "\n",
    "display_info(name=\"Utpal Paul\", email=\"utpalseu@gmail.com\", country=\"Bangladesh\")"
   ]
  },
  {
   "cell_type": "markdown",
   "id": "c8f998e7-fe37-4e7a-b220-e9b6f817b5b9",
   "metadata": {},
   "source": [
    "In the above example, the function display_info() accepts any number of keyword arguments and prints them out. The \\**kwargs allows the function to take a variable number of keyword arguments."
   ]
  },
  {
   "cell_type": "markdown",
   "id": "08e8fcad-8876-4647-86a6-c241245b82ad",
   "metadata": {},
   "source": [
    "When we use *args and \\**kwargs, it's important to remember that *args must come before \\**kwargs in the function definition, and any named arguments must come before *args and \\**kwargs."
   ]
  },
  {
   "cell_type": "code",
   "execution_count": 10,
   "id": "5a421059-28d4-424c-89e3-6dbe4afa420f",
   "metadata": {},
   "outputs": [
    {
     "name": "stdout",
     "output_type": "stream",
     "text": [
      "His name is : Utpal Paul\n",
      "He is from Bangladesh\n"
     ]
    }
   ],
   "source": [
    "def my_func(*args, **kwargs):\n",
    "    print(f\"His name is : {kwargs['name']}\")\n",
    "    print(f\"He is from {args[0]}\")\n",
    "    \n",
    "my_func(\"Bangladesh\", \"India\", name=\"Utpal Paul\", email=\"utpalseu@gmail.com\")"
   ]
  },
  {
   "cell_type": "code",
   "execution_count": null,
   "id": "e284d00c-af48-4266-b807-464646ed7eec",
   "metadata": {},
   "outputs": [],
   "source": []
  },
  {
   "cell_type": "markdown",
   "id": "07a95a15-5ef3-4618-b2ab-34295d5407e9",
   "metadata": {},
   "source": [
    "**3. What is an iterator in python? Name the method used to initialise the iterator object and the method\n",
    "used for iteration. Use these methods to print the first five elements of the given list [2, 4, 6, 8, 10, 12, 14, 16,\n",
    "18, 20].**\n"
   ]
  },
  {
   "cell_type": "markdown",
   "id": "f89baf7b-4836-41fd-83da-43bb9802b17c",
   "metadata": {},
   "source": [
    "In Python, an **iterator** is an object that allows sequential traversal of a collection of elements. It is an object that implements the iterator protocol, which requires the implementation of two methods - **__iter__()** and **__next__()**. The **__iter__()** method returns the iterator object itself, while the **__next__()** method returns the next element in the sequence.\n",
    "\n",
    "The **iter()** method is used to initialize an iterator object in Python. The **next()** method is used to iterate over the elements of an iterator object.\n",
    "\n",
    "Here's an example code to print the first five elements of the list [2, 4, 6, 8, 10, 12, 14, 16, 18, 20] using an iterator:"
   ]
  },
  {
   "cell_type": "code",
   "execution_count": 15,
   "id": "fe4da572-54de-408e-93f0-506f44690c3a",
   "metadata": {},
   "outputs": [
    {
     "name": "stdout",
     "output_type": "stream",
     "text": [
      "2\n",
      "4\n",
      "6\n",
      "8\n",
      "10\n"
     ]
    }
   ],
   "source": [
    "my_list = [2, 4, 6, 8, 10, 12, 14, 16, 18, 20]\n",
    "my_iter = iter(my_list)\n",
    "\n",
    "for i in range(5):\n",
    "    print(next(my_iter))"
   ]
  },
  {
   "cell_type": "markdown",
   "id": "22febaf0-bb8b-40a7-b9e8-688c1651000b",
   "metadata": {},
   "source": [
    "**4. What is a generator function in python? Why yield keyword is used? Give an example of a generator\n",
    "function.**\n"
   ]
  },
  {
   "cell_type": "markdown",
   "id": "d072c51c-d8eb-452b-a60b-e5b317d3adff",
   "metadata": {},
   "source": [
    "In Python, a generator function is a special type of function that uses the yield keyword to automatically create an iterator object that generates values on the fly. Unlike regular functions, which return a single value and then terminate, generator functions can be paused and resumed at any point during the execution to generate a sequence of values.\n",
    "\n",
    "The yield keyword is used to produce a value from the generator and pause the execution of the generator function until the next value is requested. When the next value is requested, the generator function resumes execution from where it left off and continues generating values.\n",
    "\n",
    "Here's an example of a generator function that generates a sequence of squares:"
   ]
  },
  {
   "cell_type": "code",
   "execution_count": 18,
   "id": "ce07e4fa-d8e5-4469-a7bb-d0df13fd4c8e",
   "metadata": {},
   "outputs": [
    {
     "name": "stdout",
     "output_type": "stream",
     "text": [
      "1\n",
      "4\n",
      "9\n",
      "16\n",
      "25\n",
      "25\n",
      "36\n",
      "36\n",
      "49\n"
     ]
    }
   ],
   "source": [
    "def squeres(numbers):\n",
    "    for n in numbers:\n",
    "        yield(n**2)\n",
    "        \n",
    "new_numbers = squeres([1,2,3,4,5,5,6,6,7])\n",
    "\n",
    "for n in new_numbers:\n",
    "    print(n)"
   ]
  },
  {
   "cell_type": "code",
   "execution_count": null,
   "id": "e253e0ea-4c8c-4f35-901e-dac904867b2e",
   "metadata": {},
   "outputs": [],
   "source": []
  },
  {
   "cell_type": "markdown",
   "id": "b44bf4bd-103a-49b9-a2b5-ae8ec4911c98",
   "metadata": {},
   "source": [
    "**5. Create a generator function for prime numbers less than 1000. Use the next() method to print the\n",
    "first 20 prime numbers.**"
   ]
  },
  {
   "cell_type": "code",
   "execution_count": 41,
   "id": "fecfbcc9-0ee7-4ac5-9913-06872c7a245e",
   "metadata": {},
   "outputs": [],
   "source": [
    "# Method - 01\n",
    "\n",
    "import math\n",
    "\n",
    "def get_prime_numbers():\n",
    "   \n",
    "    number = 2\n",
    "    \n",
    "    while(number < 1000):\n",
    "        is_prime = True\n",
    "        for i in range(2,int(math.sqrt(number))+1):\n",
    "            if number%i == 0:\n",
    "                is_prime=False\n",
    "                break\n",
    "            \n",
    "        if is_prime:\n",
    "            yield(number)\n",
    "        \n",
    "        number+=1"
   ]
  },
  {
   "cell_type": "code",
   "execution_count": 42,
   "id": "2c0af8b3-34d7-4b4d-a4bb-d6ac0aa61c80",
   "metadata": {},
   "outputs": [
    {
     "name": "stdout",
     "output_type": "stream",
     "text": [
      "2\n",
      "3\n",
      "5\n",
      "7\n",
      "11\n",
      "13\n",
      "17\n",
      "19\n",
      "23\n",
      "29\n",
      "31\n",
      "37\n",
      "41\n",
      "43\n",
      "47\n",
      "53\n",
      "59\n",
      "61\n",
      "67\n",
      "71\n"
     ]
    }
   ],
   "source": [
    "prime_numbers = get_prime_numbers()\n",
    "for i in range(20):\n",
    "    print(next(prime_numbers))"
   ]
  },
  {
   "cell_type": "code",
   "execution_count": null,
   "id": "04905b71-8399-42c6-8807-4d68ad03b89f",
   "metadata": {},
   "outputs": [],
   "source": []
  },
  {
   "cell_type": "code",
   "execution_count": 43,
   "id": "be193e9e-2ef2-4543-a006-b895bfc29a64",
   "metadata": {},
   "outputs": [],
   "source": [
    "# Method 02\n",
    "\n",
    "def get_prime_numbers():\n",
    "    primes = []\n",
    "    num = 2\n",
    "    while num < 1000:\n",
    "        is_prime = True\n",
    "        for prime in primes:\n",
    "            if num % prime == 0:\n",
    "                is_prime = False\n",
    "                break\n",
    "        if is_prime:\n",
    "            primes.append(num)\n",
    "            yield num\n",
    "        num += 1\n"
   ]
  },
  {
   "cell_type": "code",
   "execution_count": 44,
   "id": "db75b5e9-dcfe-4143-94e0-3f63e7236229",
   "metadata": {},
   "outputs": [
    {
     "name": "stdout",
     "output_type": "stream",
     "text": [
      "2\n",
      "3\n",
      "5\n",
      "7\n",
      "11\n",
      "13\n",
      "17\n",
      "19\n",
      "23\n",
      "29\n",
      "31\n",
      "37\n",
      "41\n",
      "43\n",
      "47\n",
      "53\n",
      "59\n",
      "61\n",
      "67\n",
      "71\n"
     ]
    }
   ],
   "source": [
    "prime_numbers = get_prime_numbers()\n",
    "for i in range(20):\n",
    "    print(next(prime_numbers))"
   ]
  },
  {
   "cell_type": "code",
   "execution_count": null,
   "id": "fb7c8b95-0065-4e5d-98ec-a76b0f9a4cef",
   "metadata": {},
   "outputs": [],
   "source": []
  }
 ],
 "metadata": {
  "kernelspec": {
   "display_name": "Python 3 (ipykernel)",
   "language": "python",
   "name": "python3"
  },
  "language_info": {
   "codemirror_mode": {
    "name": "ipython",
    "version": 3
   },
   "file_extension": ".py",
   "mimetype": "text/x-python",
   "name": "python",
   "nbconvert_exporter": "python",
   "pygments_lexer": "ipython3",
   "version": "3.10.9"
  }
 },
 "nbformat": 4,
 "nbformat_minor": 5
}
