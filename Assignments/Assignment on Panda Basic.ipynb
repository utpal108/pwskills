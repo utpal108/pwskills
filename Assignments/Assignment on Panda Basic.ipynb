{
 "cells": [
  {
   "cell_type": "markdown",
   "id": "7faf243d-5251-47e6-a594-6dc0e959042a",
   "metadata": {},
   "source": [
    "## Assignment on Panda Basic"
   ]
  },
  {
   "cell_type": "markdown",
   "id": "3186c740-5bd2-44f6-ab9d-4e0c364816ba",
   "metadata": {},
   "source": [
    "**Q1. Create a Pandas Series that contains the following data: 4, 8, 15, 16, 23, and 42. Then, print the series.**"
   ]
  },
  {
   "cell_type": "code",
   "execution_count": 1,
   "id": "e3e407de-9ecc-4f0e-9c43-a9a36f1fe0b4",
   "metadata": {},
   "outputs": [
    {
     "name": "stdout",
     "output_type": "stream",
     "text": [
      "0     4\n",
      "1     8\n",
      "2    15\n",
      "3    16\n",
      "4    23\n",
      "5    42\n",
      "dtype: int64\n"
     ]
    }
   ],
   "source": [
    "import pandas as pd\n",
    "my_data = [4, 8, 15, 16, 23, 42]\n",
    "my_series = pd.Series(my_data)\n",
    "print(my_series)"
   ]
  },
  {
   "cell_type": "code",
   "execution_count": null,
   "id": "fae486d9-caf5-48e9-9de1-e99e58338d7b",
   "metadata": {},
   "outputs": [],
   "source": []
  },
  {
   "cell_type": "markdown",
   "id": "16210184-51f1-4564-a506-b54b589a7516",
   "metadata": {},
   "source": [
    "**Q2. Create a variable of list type containing 10 elements in it, and apply pandas.Series function on the\n",
    "variable print it.**"
   ]
  },
  {
   "cell_type": "code",
   "execution_count": 4,
   "id": "79e88819-4cae-444e-a950-3e2c9b1901ac",
   "metadata": {},
   "outputs": [
    {
     "name": "stdout",
     "output_type": "stream",
     "text": [
      "0     1\n",
      "1     2\n",
      "2     3\n",
      "3     4\n",
      "4     5\n",
      "5     6\n",
      "6     7\n",
      "7     8\n",
      "8     9\n",
      "9    10\n",
      "dtype: int64\n"
     ]
    }
   ],
   "source": [
    "my_data = [1, 2, 3, 4, 5, 6, 7, 8, 9, 10]\n",
    "my_series = pd.Series(my_data)\n",
    "print(my_series)"
   ]
  },
  {
   "cell_type": "code",
   "execution_count": null,
   "id": "4dd9c5b2-c52c-44de-9c7d-0a902d255be8",
   "metadata": {},
   "outputs": [],
   "source": []
  },
  {
   "cell_type": "markdown",
   "id": "0fff3449-1518-482c-8e84-76f77e690eba",
   "metadata": {},
   "source": [
    "**Q3. Create a Pandas DataFrame that contains the following data:**"
   ]
  },
  {
   "cell_type": "code",
   "execution_count": 3,
   "id": "9d4fa236-d636-4340-9b57-76ce65d8bbd2",
   "metadata": {},
   "outputs": [
    {
     "name": "stdout",
     "output_type": "stream",
     "text": [
      "     Name  Age  Gender\n",
      "0   Alice   25  Female\n",
      "1     Bob   30    Male\n",
      "2  Claire   27  Female\n"
     ]
    }
   ],
   "source": [
    "# Dictionary of data\n",
    "data = {\"Name\":[\"Alice\", \"Bob\", \"Claire\"],\n",
    "        \"Age\":[25,30,27],\n",
    "        \"Gender\":[\"Female\", \"Male\", \"Female\"]\n",
    "       }\n",
    "# Create DataFrame\n",
    "df = pd.DataFrame(data)\n",
    "print(df)\n",
    "                "
   ]
  },
  {
   "cell_type": "code",
   "execution_count": null,
   "id": "493b12e4-40ab-48eb-8f4f-84c28bb259af",
   "metadata": {},
   "outputs": [],
   "source": []
  },
  {
   "cell_type": "markdown",
   "id": "215cd075-497d-4334-bf9a-4c55d23e3409",
   "metadata": {},
   "source": [
    "**Q4. What is ‘DataFrame’ in pandas and how is it different from pandas.series? Explain with an example.**"
   ]
  },
  {
   "cell_type": "markdown",
   "id": "6f62d556-eeed-49af-a56b-c364c78367da",
   "metadata": {},
   "source": [
    "In Pandas, a DataFrame is a two-dimensional labeled data structure with columns of potentially different types, and is similar to a spreadsheet or a SQL table. It is a more powerful data structure than a Pandas Series, which is a one-dimensional labeled array that can hold any data type.\n",
    "\n",
    "A Pandas DataFrame can be thought of as a collection of Pandas Series, where each column in the DataFrame is a separate Pandas Series. Each row in the DataFrame represents a single observation or record, and each column represents a different feature or variable.\n",
    "\n",
    "Here's an example that illustrates the difference between a Pandas Series and a Pandas DataFrame:"
   ]
  },
  {
   "cell_type": "code",
   "execution_count": 10,
   "id": "e6d24585-6edb-42e4-a7e1-f99550240b7b",
   "metadata": {},
   "outputs": [
    {
     "name": "stdout",
     "output_type": "stream",
     "text": [
      "DataFrame: \n",
      "      Name  Age  Gender\n",
      "0   Alice   25  Female\n",
      "1     Bob   30    Male\n",
      "2  Claire   27  Female \n",
      "\n",
      "Series: \n",
      " 0    25\n",
      "1    30\n",
      "2    27\n",
      "Name: Age, dtype: int64 \n",
      "\n"
     ]
    }
   ],
   "source": [
    "# Dictionary of data\n",
    "data = {\"Name\":[\"Alice\", \"Bob\", \"Claire\"],\n",
    "        \"Age\":[25,30,27],\n",
    "        \"Gender\":[\"Female\", \"Male\", \"Female\"]\n",
    "       }\n",
    "\n",
    "# Create DataFrame\n",
    "df = pd.DataFrame(data)\n",
    "\n",
    "# Create a Series from the 'Age' column of the DataFrame\n",
    "age_series = df[\"Age\"]\n",
    "\n",
    "# Print Data Frame\n",
    "print(\"DataFrame: \\n\" ,df,\"\\n\")\n",
    "\n",
    "# Print Series\n",
    "print(\"Series: \\n\" ,age_series,\"\\n\")\n"
   ]
  },
  {
   "cell_type": "code",
   "execution_count": null,
   "id": "fc855282-c14d-4180-9b6a-6292bbf67a1c",
   "metadata": {},
   "outputs": [],
   "source": []
  },
  {
   "cell_type": "markdown",
   "id": "1c704aba-3598-43f7-ad61-547178c5cecc",
   "metadata": {},
   "source": [
    "**Q5. What are some common functions you can use to manipulate data in a Pandas DataFrame? Can\n",
    "you give an example of when you might use one of these functions?**"
   ]
  },
  {
   "cell_type": "markdown",
   "id": "cff96473-dee6-48df-9874-c36659d46271",
   "metadata": {},
   "source": [
    "There are many functions available in Pandas for manipulating data in a DataFrame. Some of the most common functions include:\n",
    "\n",
    "* **head()** and **tail()**: These functions allow you to view the first or last n rows of a DataFrame. They are often used to quickly preview a DataFrame to ensure that it was read in correctly."
   ]
  },
  {
   "cell_type": "code",
   "execution_count": 11,
   "id": "c41a5631-ee95-4375-8f66-0189609e1fa4",
   "metadata": {},
   "outputs": [
    {
     "data": {
      "text/html": [
       "<div>\n",
       "<style scoped>\n",
       "    .dataframe tbody tr th:only-of-type {\n",
       "        vertical-align: middle;\n",
       "    }\n",
       "\n",
       "    .dataframe tbody tr th {\n",
       "        vertical-align: top;\n",
       "    }\n",
       "\n",
       "    .dataframe thead th {\n",
       "        text-align: right;\n",
       "    }\n",
       "</style>\n",
       "<table border=\"1\" class=\"dataframe\">\n",
       "  <thead>\n",
       "    <tr style=\"text-align: right;\">\n",
       "      <th></th>\n",
       "      <th>Name</th>\n",
       "      <th>Age</th>\n",
       "      <th>Gender</th>\n",
       "    </tr>\n",
       "  </thead>\n",
       "  <tbody>\n",
       "    <tr>\n",
       "      <th>0</th>\n",
       "      <td>Alice</td>\n",
       "      <td>25</td>\n",
       "      <td>Female</td>\n",
       "    </tr>\n",
       "    <tr>\n",
       "      <th>1</th>\n",
       "      <td>Bob</td>\n",
       "      <td>30</td>\n",
       "      <td>Male</td>\n",
       "    </tr>\n",
       "  </tbody>\n",
       "</table>\n",
       "</div>"
      ],
      "text/plain": [
       "    Name  Age  Gender\n",
       "0  Alice   25  Female\n",
       "1    Bob   30    Male"
      ]
     },
     "execution_count": 11,
     "metadata": {},
     "output_type": "execute_result"
    }
   ],
   "source": [
    "df.head(2)"
   ]
  },
  {
   "cell_type": "code",
   "execution_count": 12,
   "id": "cd368929-846e-4aee-b7b6-34d198860de0",
   "metadata": {},
   "outputs": [
    {
     "data": {
      "text/html": [
       "<div>\n",
       "<style scoped>\n",
       "    .dataframe tbody tr th:only-of-type {\n",
       "        vertical-align: middle;\n",
       "    }\n",
       "\n",
       "    .dataframe tbody tr th {\n",
       "        vertical-align: top;\n",
       "    }\n",
       "\n",
       "    .dataframe thead th {\n",
       "        text-align: right;\n",
       "    }\n",
       "</style>\n",
       "<table border=\"1\" class=\"dataframe\">\n",
       "  <thead>\n",
       "    <tr style=\"text-align: right;\">\n",
       "      <th></th>\n",
       "      <th>Name</th>\n",
       "      <th>Age</th>\n",
       "      <th>Gender</th>\n",
       "    </tr>\n",
       "  </thead>\n",
       "  <tbody>\n",
       "    <tr>\n",
       "      <th>1</th>\n",
       "      <td>Bob</td>\n",
       "      <td>30</td>\n",
       "      <td>Male</td>\n",
       "    </tr>\n",
       "    <tr>\n",
       "      <th>2</th>\n",
       "      <td>Claire</td>\n",
       "      <td>27</td>\n",
       "      <td>Female</td>\n",
       "    </tr>\n",
       "  </tbody>\n",
       "</table>\n",
       "</div>"
      ],
      "text/plain": [
       "     Name  Age  Gender\n",
       "1     Bob   30    Male\n",
       "2  Claire   27  Female"
      ]
     },
     "execution_count": 12,
     "metadata": {},
     "output_type": "execute_result"
    }
   ],
   "source": [
    "df.tail(2)"
   ]
  },
  {
   "cell_type": "markdown",
   "id": "72efca9c-b1cd-4f26-94eb-b4f162a1b74f",
   "metadata": {},
   "source": [
    "* **info():** This function displays a summary of a DataFrame, including the number of non-null values and the data type of each column. It is useful for getting an overview of the structure and contents of a DataFrame."
   ]
  },
  {
   "cell_type": "code",
   "execution_count": 13,
   "id": "11d46dc8-669a-4fa8-b639-2de4993e676b",
   "metadata": {},
   "outputs": [
    {
     "name": "stdout",
     "output_type": "stream",
     "text": [
      "<class 'pandas.core.frame.DataFrame'>\n",
      "RangeIndex: 3 entries, 0 to 2\n",
      "Data columns (total 3 columns):\n",
      " #   Column  Non-Null Count  Dtype \n",
      "---  ------  --------------  ----- \n",
      " 0   Name    3 non-null      object\n",
      " 1   Age     3 non-null      int64 \n",
      " 2   Gender  3 non-null      object\n",
      "dtypes: int64(1), object(2)\n",
      "memory usage: 200.0+ bytes\n"
     ]
    }
   ],
   "source": [
    "df.info()"
   ]
  },
  {
   "cell_type": "markdown",
   "id": "af32dbd6-5a7b-4a4e-8717-5ac38fcb38ec",
   "metadata": {},
   "source": [
    "* **describe():** This function provides a summary of the central tendency, dispersion, and shape of a DataFrame's distribution. It is useful for quickly getting an idea of the distribution of numerical variables in a DataFrame."
   ]
  },
  {
   "cell_type": "code",
   "execution_count": 14,
   "id": "c8575e85-1041-4cc9-8915-a3ebbd34f67b",
   "metadata": {},
   "outputs": [
    {
     "data": {
      "text/html": [
       "<div>\n",
       "<style scoped>\n",
       "    .dataframe tbody tr th:only-of-type {\n",
       "        vertical-align: middle;\n",
       "    }\n",
       "\n",
       "    .dataframe tbody tr th {\n",
       "        vertical-align: top;\n",
       "    }\n",
       "\n",
       "    .dataframe thead th {\n",
       "        text-align: right;\n",
       "    }\n",
       "</style>\n",
       "<table border=\"1\" class=\"dataframe\">\n",
       "  <thead>\n",
       "    <tr style=\"text-align: right;\">\n",
       "      <th></th>\n",
       "      <th>Age</th>\n",
       "    </tr>\n",
       "  </thead>\n",
       "  <tbody>\n",
       "    <tr>\n",
       "      <th>count</th>\n",
       "      <td>3.000000</td>\n",
       "    </tr>\n",
       "    <tr>\n",
       "      <th>mean</th>\n",
       "      <td>27.333333</td>\n",
       "    </tr>\n",
       "    <tr>\n",
       "      <th>std</th>\n",
       "      <td>2.516611</td>\n",
       "    </tr>\n",
       "    <tr>\n",
       "      <th>min</th>\n",
       "      <td>25.000000</td>\n",
       "    </tr>\n",
       "    <tr>\n",
       "      <th>25%</th>\n",
       "      <td>26.000000</td>\n",
       "    </tr>\n",
       "    <tr>\n",
       "      <th>50%</th>\n",
       "      <td>27.000000</td>\n",
       "    </tr>\n",
       "    <tr>\n",
       "      <th>75%</th>\n",
       "      <td>28.500000</td>\n",
       "    </tr>\n",
       "    <tr>\n",
       "      <th>max</th>\n",
       "      <td>30.000000</td>\n",
       "    </tr>\n",
       "  </tbody>\n",
       "</table>\n",
       "</div>"
      ],
      "text/plain": [
       "             Age\n",
       "count   3.000000\n",
       "mean   27.333333\n",
       "std     2.516611\n",
       "min    25.000000\n",
       "25%    26.000000\n",
       "50%    27.000000\n",
       "75%    28.500000\n",
       "max    30.000000"
      ]
     },
     "execution_count": 14,
     "metadata": {},
     "output_type": "execute_result"
    }
   ],
   "source": [
    "df.describe()"
   ]
  },
  {
   "cell_type": "markdown",
   "id": "5a23eff7-10df-4e7c-82a2-10ac63196552",
   "metadata": {},
   "source": [
    "* **value_counts():** This function counts the number of occurrences of each unique value in a column of a DataFrame. It is often used to identify the most common values in a categorical variable."
   ]
  },
  {
   "cell_type": "code",
   "execution_count": 18,
   "id": "7343b6de-8f1e-4b3e-8339-30a3ea4ff0f2",
   "metadata": {},
   "outputs": [
    {
     "name": "stdout",
     "output_type": "stream",
     "text": [
      "Chicago     2\n",
      "Lisbon      2\n",
      "New York    1\n",
      "Toronto     1\n",
      "Rio         1\n",
      "dtype: int64\n"
     ]
    }
   ],
   "source": [
    "countries = pd.Series(['New York', 'Chicago', 'Toronto', 'Lisbon', 'Rio', 'Chicago', 'Lisbon'])\n",
    "print(countries.value_counts())"
   ]
  },
  {
   "cell_type": "markdown",
   "id": "e11e8f41-4dcd-4e9a-a477-b091c72d5fff",
   "metadata": {},
   "source": [
    "* **groupby():** This function groups a DataFrame by one or more columns and applies a function to each group. It is useful for computing aggregate statistics for different subsets of a DataFrame."
   ]
  },
  {
   "cell_type": "code",
   "execution_count": 21,
   "id": "565e9d3b-7ce5-4c19-90d0-8960c1c82b74",
   "metadata": {},
   "outputs": [
    {
     "data": {
      "text/plain": [
       "customer_id\n",
       "1    50\n",
       "2    50\n",
       "3    65\n",
       "Name: price, dtype: int64"
      ]
     },
     "execution_count": 21,
     "metadata": {},
     "output_type": "execute_result"
    }
   ],
   "source": [
    "data = {\n",
    "    'customer_id': [1, 1, 2, 3, 3, 3],\n",
    "    'date': ['2022-01-01', '2022-01-03', '2022-01-02', '2022-01-01', '2022-01-02', '2022-01-03'],\n",
    "    'item': ['shirt', 'pants', 'shoes', 'hat', 'jacket', 'scarf'],\n",
    "    'price': [20, 30, 50, 10, 40, 15]\n",
    "}\n",
    "df = pd.DataFrame(data)\n",
    "df.groupby('customer_id')['price'].sum()"
   ]
  },
  {
   "cell_type": "code",
   "execution_count": null,
   "id": "36d7afe2-6fdb-46c5-ab44-d9f41ad160d4",
   "metadata": {},
   "outputs": [],
   "source": []
  },
  {
   "cell_type": "markdown",
   "id": "c6740096-bfc1-4086-9adc-d04a6887f418",
   "metadata": {},
   "source": [
    "**Q6. Which of the following is mutable in nature Series, DataFrame, Panel?**"
   ]
  },
  {
   "cell_type": "markdown",
   "id": "ab34e3e0-f0fb-4991-9697-5fd3fb47a5e8",
   "metadata": {},
   "source": [
    "In Pandas, both Series and DataFrame are mutable objects, which means that their values can be modified after creation. However, Panel objects are not mutable and their values cannot be modified after creation."
   ]
  },
  {
   "cell_type": "markdown",
   "id": "65bbaf6e-2069-4857-a026-c8989308b141",
   "metadata": {},
   "source": [
    "**Q7. Create a DataFrame using multiple Series. Explain with an example.**"
   ]
  },
  {
   "cell_type": "markdown",
   "id": "4d3b39bd-e15f-4f5f-a1cb-df98d0b3271f",
   "metadata": {},
   "source": [
    "We can create a Pandas DataFrame using multiple Pandas Series by passing them as a dictionary to the DataFrame constructor. Each Series will become a column in the resulting DataFrame, and the keys of the dictionary will become the column names. Here's an example:"
   ]
  },
  {
   "cell_type": "code",
   "execution_count": 26,
   "id": "538d51ff-d00c-42e5-91f5-c5dc65a6d4f0",
   "metadata": {},
   "outputs": [
    {
     "name": "stdout",
     "output_type": "stream",
     "text": [
      "     Name  Age  Gender\n",
      "0   Alice   25  Female\n",
      "1     Bob   30    Male\n",
      "2  Claire   27  Female\n"
     ]
    }
   ],
   "source": [
    "# Create different series\n",
    "name_series = pd.Series([\"Alice\", \"Bob\", \"Claire\"])\n",
    "age_series = pd.Series([25,30,27])\n",
    "gender_series = pd.Series([\"Female\", \"Male\", \"Female\"])\n",
    "\n",
    "# Create Dictionary With keys as column name and values as series\n",
    "data = {\"Name\":name_series,\n",
    "        \"Age\":age_series,\n",
    "        \"Gender\":gender_series\n",
    "       }\n",
    "\n",
    "# Create DataFrame\n",
    "df = pd.DataFrame(data)\n",
    "\n",
    "# Print DataFrame\n",
    "print(df)"
   ]
  },
  {
   "cell_type": "markdown",
   "id": "d7ea90a5-214a-4e81-a337-c88f4ecdea84",
   "metadata": {},
   "source": [
    "In this example, we first create three Pandas Series objects name_series, age_series, and gender_series containing information about individuals. We then create a dictionary data with keys as column names and values as the corresponding series objects.\n",
    "\n",
    "Finally, we create a Pandas DataFrame by passing the data dictionary to the pd.DataFrame() constructor. The resulting DataFrame df has three columns with the names 'Name', 'Age', and 'Gender', respectively, and each column is populated with the corresponding values from the Series."
   ]
  }
 ],
 "metadata": {
  "kernelspec": {
   "display_name": "Python 3 (ipykernel)",
   "language": "python",
   "name": "python3"
  },
  "language_info": {
   "codemirror_mode": {
    "name": "ipython",
    "version": 3
   },
   "file_extension": ".py",
   "mimetype": "text/x-python",
   "name": "python",
   "nbconvert_exporter": "python",
   "pygments_lexer": "ipython3",
   "version": "3.10.9"
  }
 },
 "nbformat": 4,
 "nbformat_minor": 5
}
