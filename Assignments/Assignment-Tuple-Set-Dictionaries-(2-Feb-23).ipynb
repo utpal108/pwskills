{
 "cells": [
  {
   "cell_type": "markdown",
   "id": "706c4215-c718-4b7e-b465-c725d7ff74f0",
   "metadata": {},
   "source": [
    "## Assignment on Tuple, Set & Dictionaries"
   ]
  },
  {
   "cell_type": "markdown",
   "id": "7ad97a21-1101-41da-86a0-ffa9d82ea839",
   "metadata": {},
   "source": [
    "**1. What are the characteristics of the tuples? Is tuple immutable?**"
   ]
  },
  {
   "cell_type": "markdown",
   "id": "0d746894-bd83-4fb3-ae1c-600bad961bde",
   "metadata": {},
   "source": [
    "In Python, a tuple is a collection of values, similar to a list. However, tuples have several characteristics that distinguish them from lists:\n",
    "\n",
    "* Immutable: Tuples are immutable, which means their values cannot be changed after they are created. Once a tuple is defined, we cannot add, remove, or modify any of its elements.\n",
    "\n",
    "* Ordered: Like lists, tuples are ordered, which means the order of their elements is preserved.\n",
    "\n",
    "* Heterogeneous: Tuples can contain elements of different types, including other tuples.\n",
    "\n",
    "* Indexable: Elements in a tuple can be accessed using an index, just like elements in a list.\n",
    "\n",
    "To create a tuple in Python, we can use parentheses () to enclose a comma-separated list of values, like this:"
   ]
  },
  {
   "cell_type": "code",
   "execution_count": 2,
   "id": "97c0e625-db6f-4c3c-9cf3-107beeea81b0",
   "metadata": {},
   "outputs": [],
   "source": [
    "my_tuple = (1,2.50,3,'red', (4,5,6))"
   ]
  },
  {
   "cell_type": "markdown",
   "id": "ec15ccf9-1b09-4592-a0ac-f7903d85030c",
   "metadata": {},
   "source": [
    "Once created, the elements of a tuple can be accessed using square brackets and an index, like this:"
   ]
  },
  {
   "cell_type": "code",
   "execution_count": 4,
   "id": "ba0733c1-33f8-470e-8cdd-17b6f3b7f2de",
   "metadata": {},
   "outputs": [
    {
     "name": "stdout",
     "output_type": "stream",
     "text": [
      "1\n",
      "2.5\n",
      "(4, 5, 6)\n"
     ]
    }
   ],
   "source": [
    "print(my_tuple[0])    # output: 1\n",
    "print(my_tuple[1])    # output: \"hello\"\n",
    "print(my_tuple[-1])   # output: (4, 5, 6)"
   ]
  },
  {
   "cell_type": "markdown",
   "id": "d57b70d1-92e2-4801-bbca-0a7a9323f629",
   "metadata": {},
   "source": [
    "Tuples are immutable, we cannot modify their elements. However, we can create a new tuple by concatenating two or more tuples using the + operator, or by slicing a tuple to create a new tuple with a subset of its elements."
   ]
  },
  {
   "cell_type": "code",
   "execution_count": null,
   "id": "a1c6ea88-f6d9-4cb5-bae8-ac0e9c0c2763",
   "metadata": {},
   "outputs": [],
   "source": []
  },
  {
   "cell_type": "markdown",
   "id": "e2659cb1-a878-46ab-8254-241527d6595b",
   "metadata": {},
   "source": [
    "**2. What are the two tuple methods in python? Give an example of each method. Give a reason why tuples have only two in-built methods as compared to Lists.**"
   ]
  },
  {
   "cell_type": "markdown",
   "id": "118703b5-4570-40b4-a653-6f71323dd8d8",
   "metadata": {},
   "source": [
    "In Python, tuples have two built-in methods:\n",
    "\n",
    "**count():** This method returns the number of times a specified element appears in the tuple."
   ]
  },
  {
   "cell_type": "code",
   "execution_count": 10,
   "id": "3a7e334b-0433-4fc9-baf6-380396d335ce",
   "metadata": {},
   "outputs": [
    {
     "name": "stdout",
     "output_type": "stream",
     "text": [
      "2\n"
     ]
    }
   ],
   "source": [
    "my_tuple = (1,2,3,4,4,5)\n",
    "count_4 = my_tuple.count(4)\n",
    "print(count_4)"
   ]
  },
  {
   "cell_type": "markdown",
   "id": "5888f800-ea12-41e6-951d-2936a3b33a7b",
   "metadata": {},
   "source": [
    "**index():** This method returns the index of the first occurrence of a specified element in the tuple. If the element is not found, a ValueError is raised."
   ]
  },
  {
   "cell_type": "code",
   "execution_count": 11,
   "id": "2e653655-d7d5-4b1e-9d06-e1dedc3dce52",
   "metadata": {},
   "outputs": [
    {
     "name": "stdout",
     "output_type": "stream",
     "text": [
      "3\n"
     ]
    }
   ],
   "source": [
    "my_tuple = (1,2,3,4,4,5)\n",
    "index_4 = my_tuple.index(4)\n",
    "print(index_4)"
   ]
  },
  {
   "cell_type": "markdown",
   "id": "4379d239-0bf1-4f59-b99f-bf9fa0a18ef9",
   "metadata": {},
   "source": [
    "Tuples have only two built-in methods compared to lists because tuples are immutable, which means that their elements cannot be modified after they are created. Therefore, methods that modify the contents of a tuple, such as append() and pop(), do not make sense for tuples. Lists, on the other hand, are mutable, which means that their contents can be modified, so they have a much larger number of built-in methods to support this capability."
   ]
  },
  {
   "cell_type": "code",
   "execution_count": null,
   "id": "b6dcca4f-da58-4993-9141-1f9493ae248c",
   "metadata": {},
   "outputs": [],
   "source": []
  },
  {
   "cell_type": "markdown",
   "id": "cd8e3154-a85a-4711-82c9-bbaf9d92f1f4",
   "metadata": {},
   "source": [
    "**3. Which collection datatypes in python do not allow duplicate items? Write a code using a set to remove duplicates from the given list.**\n",
    "**List = [1, 1, 1, 2, 1, 3, 1, 4, 2, 1, 2, 2, 2, 3, 2, 4, 3, 1, 3, 2, 3, 3, 3, 4, 4, 1, 4, 2, 4, 3, 4, 4]**"
   ]
  },
  {
   "cell_type": "markdown",
   "id": "51c5cf01-553f-403c-924c-553bf09910fc",
   "metadata": {},
   "source": [
    "In Python, **sets** and **dictionaries** do not allow duplicate items.\n",
    "\n",
    "* Set is an unordered collection of unique elements, where each element is distinct and occurs only once in the set. If we try to add a duplicate element to a set, it will simply be ignored. \n",
    "\n",
    "Here's an example:"
   ]
  },
  {
   "cell_type": "code",
   "execution_count": 13,
   "id": "f80234f6-26b0-4bf2-81ec-205dad93ef0b",
   "metadata": {},
   "outputs": [
    {
     "name": "stdout",
     "output_type": "stream",
     "text": [
      "{1, 2, 3, 4}\n"
     ]
    }
   ],
   "source": [
    "my_set = {1,2,3,4,2,3,4}\n",
    "print(my_set)"
   ]
  },
  {
   "cell_type": "markdown",
   "id": "8f8ca2ea-7503-407e-9e14-03b0ad72d8b9",
   "metadata": {},
   "source": [
    "* Dictionary is a collection of key-value pairs, where each key is unique and maps to a single value. If we try to add a new key-value pair with a key that already exists in the dictionary, the existing value for that key will be overwritten with the new value. \n",
    "\n",
    "Here's an example:"
   ]
  },
  {
   "cell_type": "code",
   "execution_count": 15,
   "id": "440f6eae-e7fb-4ca4-8128-de063feacac0",
   "metadata": {},
   "outputs": [
    {
     "name": "stdout",
     "output_type": "stream",
     "text": [
      "{'a': 1, 'b': 4, 'c': 3}\n"
     ]
    }
   ],
   "source": [
    "my_dict = {\"a\":1, \"b\":2, \"c\":3, \"b\":4}\n",
    "print(my_dict)"
   ]
  },
  {
   "cell_type": "code",
   "execution_count": 20,
   "id": "5c7f78a3-f8df-4733-8945-eeb18457d26f",
   "metadata": {},
   "outputs": [
    {
     "name": "stdout",
     "output_type": "stream",
     "text": [
      "[1, 2, 3, 4]\n"
     ]
    }
   ],
   "source": [
    "my_list = [1, 1, 1, 2, 1, 3, 1, 4, 2, 1, 2, 2, 2, 3, 2, 4, 3, 1, 3, 2, 3, 3, 3, 4, 4, 1, 4, 2, 4, 3, 4, 4]\n",
    "my_set = set(my_list)\n",
    "new_list = list(my_set)\n",
    "print(new_list)"
   ]
  },
  {
   "cell_type": "code",
   "execution_count": null,
   "id": "cd36050b-3e0d-40c0-b5b2-0884e27801fe",
   "metadata": {},
   "outputs": [],
   "source": []
  },
  {
   "cell_type": "markdown",
   "id": "834d790e-ed47-4fb5-900c-1ae906723666",
   "metadata": {},
   "source": [
    "**4. Explain the difference between the union() and update() methods for a set. Give an example of each method.**"
   ]
  },
  {
   "cell_type": "markdown",
   "id": "8e42010b-9c94-41db-9962-32ce9ef89ea1",
   "metadata": {},
   "source": [
    "In Python, **union()** and **update()** are methods that can be used with sets to combine them. However, they differ in how they modify the sets that they are applied to.\n",
    "\n",
    "The **union()** method returns a new set that contains all the unique elements from two or more sets, without modifying any of the original sets. The **union()** method takes one or more sets as arguments, and returns a new set that contains all the unique elements from all the sets.\n",
    "\n",
    "Here is an example:"
   ]
  },
  {
   "cell_type": "code",
   "execution_count": 21,
   "id": "cf1398cf-411f-4e80-a634-45be42889a15",
   "metadata": {},
   "outputs": [
    {
     "name": "stdout",
     "output_type": "stream",
     "text": [
      "{1, 2, 3, 4, 5, 6, 7}\n"
     ]
    }
   ],
   "source": [
    "set1 = {1, 2, 3}\n",
    "set2 = {3, 4, 5}\n",
    "set3 = {5, 6, 7}\n",
    "\n",
    "result = set1.union(set2, set3)\n",
    "\n",
    "print(result)"
   ]
  },
  {
   "cell_type": "markdown",
   "id": "054ce34c-50b5-43ff-a070-ad99084e8360",
   "metadata": {},
   "source": [
    "In this example, we use the **union()** method to combine the sets set1, set2, and set3. The result set contains all the unique elements from all three sets."
   ]
  },
  {
   "cell_type": "markdown",
   "id": "b4d0ce97-8389-4e62-abc1-960af46d02ca",
   "metadata": {},
   "source": [
    "The **update()** method, on the other hand, modifies a set in place by adding all the elements from another set (or another iterable object like a list or tuple) to it. The **update()** method takes one set (or iterable object) as an argument, and modifies the set it is called on to include all the elements from the argument.\n",
    "\n",
    "Here is an example:"
   ]
  },
  {
   "cell_type": "code",
   "execution_count": 22,
   "id": "61580ceb-3983-4ce5-a05e-4c79fbb241c0",
   "metadata": {},
   "outputs": [
    {
     "name": "stdout",
     "output_type": "stream",
     "text": [
      "{1, 2, 3, 4, 5}\n"
     ]
    }
   ],
   "source": [
    "set1 = {1,2,3}\n",
    "set2 = {3,4,5}\n",
    "set1.update(set2)\n",
    "print(set1)"
   ]
  },
  {
   "cell_type": "markdown",
   "id": "e2bf6472-75b8-4f6a-87a2-7dc6079007c7",
   "metadata": {},
   "source": [
    "In this example, we use the **update()** method to add all the elements from set2 to set1. The set1 set is modified in place to include all the elements from set2."
   ]
  },
  {
   "cell_type": "markdown",
   "id": "16d620ab-b370-486f-9a96-a41a916de680",
   "metadata": {},
   "source": [
    "In summary, the union() method returns a new set that contains all the unique elements from two or more sets, while the update() method modifies a set in place by adding all the elements from another set (or iterable object) to it."
   ]
  },
  {
   "cell_type": "code",
   "execution_count": null,
   "id": "38d3dd7c-0673-482a-b8cf-f4bfe0a3e585",
   "metadata": {},
   "outputs": [],
   "source": []
  },
  {
   "cell_type": "markdown",
   "id": "4b4ad0f3-0d7b-4c52-a519-4ded1562aff1",
   "metadata": {},
   "source": [
    "**5. What is a dictionary? Give an example. Also, state whether a dictionary is ordered or unordered.**"
   ]
  },
  {
   "cell_type": "markdown",
   "id": "5646f285-e632-4578-a961-ef25691f0e04",
   "metadata": {},
   "source": [
    "In Python, a dictionary is a collection of key-value pairs that are used to store and retrieve data. It is also known as an associative array, hash table, or map. Dictionaries are enclosed in curly braces {} and each item in a dictionary consists of a key-value pair separated by a colon :. The key is used to identify the value, and each key in a dictionary must be unique.\n",
    "\n",
    "Here is an example of a dictionary:"
   ]
  },
  {
   "cell_type": "code",
   "execution_count": 23,
   "id": "16ef14d3-ed88-41a1-afb5-dc1ce32550f5",
   "metadata": {},
   "outputs": [],
   "source": [
    "my_dict = {\n",
    "    \"name\": \"Utpal\",\n",
    "    \"email\": \"utpalseu@gmail.com\"\n",
    "}"
   ]
  },
  {
   "cell_type": "markdown",
   "id": "6be98b64-6bd0-43ea-aaf0-74f5c72e4634",
   "metadata": {},
   "source": [
    "We can access the values in the dictionary using their keys, like this:"
   ]
  },
  {
   "cell_type": "code",
   "execution_count": 24,
   "id": "a45d100c-df1e-4057-9bb1-28c6d46e2d36",
   "metadata": {},
   "outputs": [
    {
     "name": "stdout",
     "output_type": "stream",
     "text": [
      "Utpal\n"
     ]
    }
   ],
   "source": [
    "print(my_dict[\"name\"])"
   ]
  },
  {
   "cell_type": "code",
   "execution_count": 25,
   "id": "4e70fb34-186b-49cf-b856-b2ca5349ded3",
   "metadata": {},
   "outputs": [
    {
     "name": "stdout",
     "output_type": "stream",
     "text": [
      "utpalseu@gmail.com\n"
     ]
    }
   ],
   "source": [
    "print(my_dict[\"email\"])"
   ]
  },
  {
   "cell_type": "markdown",
   "id": "16ef8c5e-8451-4738-a633-92a4d9bb95bb",
   "metadata": {},
   "source": [
    "Dictionaries in Python are unordered, which means that the items in a dictionary are not stored in any particular order. The order of the items can change between different versions of Python or between different runs of the same program. However, starting from Python 3.7, the insertion order of items in a dictionary is preserved. So, while dictionaries are not inherently ordered, they can sometimes appear to be ordered in certain situations."
   ]
  },
  {
   "cell_type": "code",
   "execution_count": null,
   "id": "3b6a040b-79b3-4537-9e7e-def26c5c177a",
   "metadata": {},
   "outputs": [],
   "source": []
  },
  {
   "cell_type": "markdown",
   "id": "a4b899f1-f704-4a7d-8c56-02e7891f7689",
   "metadata": {},
   "source": [
    "**6. Can we create a nested dictionary? If so, please give an example by creating a simple one-level nested dictionary.**"
   ]
  },
  {
   "cell_type": "markdown",
   "id": "35ef61f1-d745-4ce7-80a6-419189b408a5",
   "metadata": {},
   "source": [
    "Yes, we can create a nested dictionary in Python. A nested dictionary is a dictionary inside another dictionary, where each value of the outer dictionary is itself another dictionary. Here is an example of a one-level nested dictionary:"
   ]
  },
  {
   "cell_type": "code",
   "execution_count": 26,
   "id": "31b76707-6590-4549-b443-812039b13f3e",
   "metadata": {},
   "outputs": [],
   "source": [
    "my_dict = {\n",
    "    \"person1\":{\n",
    "        \"name\":\"Hasan Mahamud\",\n",
    "        \"age\":30,\n",
    "        \"city\":\"New Work\"\n",
    "    },\n",
    "    \"person2\":{\n",
    "        \"name\":\"Rajesh Gosh\",\n",
    "        \"age\":24,\n",
    "        \"city\":\"Mumbai\"\n",
    "    },\n",
    "}"
   ]
  },
  {
   "cell_type": "markdown",
   "id": "5fad752b-9d79-49e4-88d5-9efb5f8f3772",
   "metadata": {},
   "source": [
    "In this example, we create a dictionary my_dict that contains two key-value pairs, where the values are themselves dictionaries. The keys are \"person1\" and \"person2\", and the corresponding values are dictionaries with keys \"name\", \"age\", and \"city\", and their respective values.\n",
    "\n",
    "We can access the values in the nested dictionary using their keys, like this:"
   ]
  },
  {
   "cell_type": "code",
   "execution_count": 27,
   "id": "8f93be9c-4917-4ac6-97ad-8fde217f53c2",
   "metadata": {},
   "outputs": [
    {
     "name": "stdout",
     "output_type": "stream",
     "text": [
      "Hasan Mahamud\n"
     ]
    }
   ],
   "source": [
    "print(my_dict[\"person1\"][\"name\"])"
   ]
  },
  {
   "cell_type": "code",
   "execution_count": 30,
   "id": "cfc8a279-3348-4efd-8bff-d06b1b7310a3",
   "metadata": {},
   "outputs": [
    {
     "name": "stdout",
     "output_type": "stream",
     "text": [
      "Mumbai\n"
     ]
    }
   ],
   "source": [
    "print(my_dict[\"person2\"][\"city\"])"
   ]
  },
  {
   "cell_type": "code",
   "execution_count": null,
   "id": "cd04c147-9870-4812-b4ea-ade72f2e104c",
   "metadata": {},
   "outputs": [],
   "source": []
  },
  {
   "cell_type": "markdown",
   "id": "631c8b33-bff8-44ff-a59e-8ffe6c8f85bb",
   "metadata": {},
   "source": [
    "**7. Using setdefault() method, create key named topics in the given dictionary and also add the value of the key as this list ['Python', 'Machine Learning’, 'Deep Learning']**\n",
    "**dict1 = {'language' : 'Python', 'course': 'Data Science Masters'}**"
   ]
  },
  {
   "cell_type": "markdown",
   "id": "441135d4-02f9-4007-9596-40f97b1c667a",
   "metadata": {},
   "source": [
    "We can use the **setdefault()** method to create a new key-value pair in the given dictionary dict1, or update an existing key with a new value. The setdefault() method takes two arguments: the key to be added or updated, and the value to be assigned to that key.\n",
    "\n",
    "Here is an example of how to use the setdefault() method to create a new key named \"topics\" in the given dictionary and assign it the value ['Python', 'Machine Learning', 'Deep Learning']:"
   ]
  },
  {
   "cell_type": "code",
   "execution_count": 34,
   "id": "e6eb4dfd-a136-4a61-ab5f-3379e878a897",
   "metadata": {},
   "outputs": [
    {
     "name": "stdout",
     "output_type": "stream",
     "text": [
      "{'language': 'Python', 'course': 'Data Science Masters', 'topics': ['Python', 'Machine Learning', 'Deep Learning']}\n"
     ]
    }
   ],
   "source": [
    "dict1 = {'language' : 'Python', 'course': 'Data Science Masters'}\n",
    "dict1.setdefault('topics', ['Python', 'Machine Learning', 'Deep Learning'])\n",
    "print(dict1)             "
   ]
  },
  {
   "cell_type": "code",
   "execution_count": null,
   "id": "a1999489-872f-40a5-85d8-2d1a222ed8db",
   "metadata": {},
   "outputs": [],
   "source": []
  },
  {
   "cell_type": "markdown",
   "id": "1830d990-7616-4fc7-a1ce-1ec5aabcfc3a",
   "metadata": {},
   "source": [
    "**8. What are the three view objects in dictionaries? Use the three in-built methods in python to display\n",
    "these three view objects for the given dictionary.\n",
    "dict1 = {'Sport': 'Cricket' , 'Teams': ['India', 'Australia', 'England', 'South Africa', 'Sri Lanka', 'New Zealand']}**"
   ]
  },
  {
   "cell_type": "markdown",
   "id": "3963879d-bd39-455c-be3d-e745c16d808e",
   "metadata": {},
   "source": [
    "In Python, there are three view objects that can be used to get different views of the keys, values, and items of a dictionary:\n",
    "\n",
    "* dict.keys() - This method returns a view object that contains the keys of the dictionary.\n",
    "* dict.values() - This method returns a view object that contains the values of the dictionary.\n",
    "* dict.items() - This method returns a view object that contains the key-value pairs of the dictionary.\n",
    "\n",
    "Here is an example of how to use these methods with the given dictionary dict1:"
   ]
  },
  {
   "cell_type": "code",
   "execution_count": 32,
   "id": "93ef50d4-7ca1-4615-b5d8-e59d1f466309",
   "metadata": {},
   "outputs": [
    {
     "name": "stdout",
     "output_type": "stream",
     "text": [
      "dict_keys(['Sport', 'Teams'])\n",
      "dict_values(['Cricket', ['India', 'Australia', 'England', 'South Africa', 'Sri Lanka', 'New Zealand']])\n",
      "dict_items([('Sport', 'Cricket'), ('Teams', ['India', 'Australia', 'England', 'South Africa', 'Sri Lanka', 'New Zealand'])])\n"
     ]
    }
   ],
   "source": [
    "dict1 = {'Sport': 'Cricket' , 'Teams': ['India', 'Australia', 'England', 'South Africa', 'Sri Lanka', 'New Zealand']}\n",
    "\n",
    "# get the keys view object\n",
    "keys_view = dict1.keys()\n",
    "\n",
    "# get the values view object\n",
    "values_view = dict1.values()\n",
    "\n",
    "# get the items view object\n",
    "items_view = dict1.items()\n",
    "\n",
    "# display the view objects\n",
    "print(keys_view)\n",
    "print(values_view)\n",
    "print(items_view)"
   ]
  }
 ],
 "metadata": {
  "kernelspec": {
   "display_name": "Python 3 (ipykernel)",
   "language": "python",
   "name": "python3"
  },
  "language_info": {
   "codemirror_mode": {
    "name": "ipython",
    "version": 3
   },
   "file_extension": ".py",
   "mimetype": "text/x-python",
   "name": "python",
   "nbconvert_exporter": "python",
   "pygments_lexer": "ipython3",
   "version": "3.10.9"
  }
 },
 "nbformat": 4,
 "nbformat_minor": 5
}
