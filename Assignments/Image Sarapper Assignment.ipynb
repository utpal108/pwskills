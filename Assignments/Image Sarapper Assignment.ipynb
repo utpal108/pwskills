{
 "cells": [
  {
   "cell_type": "markdown",
   "id": "60f1ab97-a3bd-4901-b4e7-54d61546b726",
   "metadata": {},
   "source": [
    "## Image Scrapper Assignment"
   ]
  },
  {
   "cell_type": "markdown",
   "id": "1bb30fa9-5b63-4404-8684-0f66707ca808",
   "metadata": {},
   "source": [
    "Go to this given URL and solve the following questions\n",
    "URL: https://www.youtube.com/@PW-Foundation/videos"
   ]
  },
  {
   "cell_type": "markdown",
   "id": "6aa06230-7c47-4559-9b33-4ec8de7e11cc",
   "metadata": {},
   "source": [
    "**Q1. Write a python program to extract the video URL of the first five videos.**"
   ]
  },
  {
   "cell_type": "code",
   "execution_count": 173,
   "id": "83efc735-45bf-46ee-ac5a-140d24700bad",
   "metadata": {},
   "outputs": [],
   "source": [
    "from bs4 import BeautifulSoup\n",
    "from selenium import webdriver\n",
    "from webdriver_manager.chrome import ChromeDriverManager"
   ]
  },
  {
   "cell_type": "code",
   "execution_count": 170,
   "id": "564cbe0f-0f24-41c7-b634-c5bd46627ed5",
   "metadata": {},
   "outputs": [
    {
     "name": "stderr",
     "output_type": "stream",
     "text": [
      "C:\\Users\\hp\\AppData\\Local\\Temp\\ipykernel_17344\\1105367128.py:1: DeprecationWarning: executable_path has been deprecated, please pass in a Service object\n",
      "  driver = webdriver.Chrome(executable_path=ChromeDriverManager().install())\n"
     ]
    }
   ],
   "source": [
    "driver = webdriver.Chrome(executable_path=ChromeDriverManager().install())\n",
    "driver.get(\"https://www.youtube.com/@PW-Foundation/videos\")\n",
    "content = driver.page_source"
   ]
  },
  {
   "cell_type": "code",
   "execution_count": 179,
   "id": "91d4bf1d-c7df-420f-ab46-32291c60edf3",
   "metadata": {},
   "outputs": [
    {
     "data": {
      "text/plain": [
       "5"
      ]
     },
     "execution_count": 179,
     "metadata": {},
     "output_type": "execute_result"
    }
   ],
   "source": [
    "soup = BeautifulSoup(content, \"html.parser\")\n",
    "video_urls = soup.find_all('a',{\"class\":\"yt-simple-endpoint inline-block style-scope ytd-thumbnail\"})[1:6]\n",
    "len(video_urls)"
   ]
  },
  {
   "cell_type": "code",
   "execution_count": 180,
   "id": "59a56b9d-cebd-43fe-b478-2297db02a58a",
   "metadata": {},
   "outputs": [
    {
     "data": {
      "text/plain": [
       "['https://www.youtube.com/watch?v=nX5ONgCdLcc',\n",
       " 'https://www.youtube.com/watch?v=AM2Dt7cNebw',\n",
       " 'https://www.youtube.com/watch?v=7nMJVhey9TM',\n",
       " 'https://www.youtube.com/watch?v=FSVVlcFUCMk',\n",
       " 'https://www.youtube.com/watch?v=vKxdTuOirnI']"
      ]
     },
     "execution_count": 180,
     "metadata": {},
     "output_type": "execute_result"
    }
   ],
   "source": [
    "all_urls = list(map(lambda a: \"https://www.youtube.com\"+a[\"href\"], video_urls))\n",
    "all_urls"
   ]
  },
  {
   "cell_type": "code",
   "execution_count": null,
   "id": "1126102a-3662-4261-a39b-ce5742d59349",
   "metadata": {},
   "outputs": [],
   "source": []
  },
  {
   "cell_type": "markdown",
   "id": "232108d2-6feb-421b-be46-9e69c7a21405",
   "metadata": {},
   "source": [
    "**Q2. Write a python program to extract the URL of the video thumbnails of the first five videos.**"
   ]
  },
  {
   "cell_type": "code",
   "execution_count": 196,
   "id": "f1f29768-977d-49be-ba8a-7e53e3ab9c9e",
   "metadata": {},
   "outputs": [
    {
     "data": {
      "text/plain": [
       "5"
      ]
     },
     "execution_count": 196,
     "metadata": {},
     "output_type": "execute_result"
    }
   ],
   "source": [
    "soup = BeautifulSoup(content, \"html.parser\")\n",
    "video_thumbnails = soup.find_all('a',{\"class\":\"yt-simple-endpoint inline-block style-scope ytd-thumbnail\"})[1:6]\n",
    "len(video_thumbnails)"
   ]
  },
  {
   "cell_type": "code",
   "execution_count": 208,
   "id": "acbf9f49-429c-4f78-bf51-ff42e6454478",
   "metadata": {},
   "outputs": [
    {
     "data": {
      "text/plain": [
       "<img alt=\"\" class=\"yt-core-image--fill-parent-height yt-core-image--fill-parent-width yt-core-image yt-core-image--content-mode-scale-aspect-fill\" style=\"background-color: transparent;\"/>"
      ]
     },
     "execution_count": 208,
     "metadata": {},
     "output_type": "execute_result"
    }
   ],
   "source": [
    "video_thumbnails[4].img"
   ]
  },
  {
   "cell_type": "code",
   "execution_count": null,
   "id": "10eb6341-b043-40c2-9be2-3daa18456a2e",
   "metadata": {},
   "outputs": [],
   "source": []
  },
  {
   "cell_type": "markdown",
   "id": "9a255210-4370-462f-aba4-f4b6331c7977",
   "metadata": {},
   "source": [
    "**Q3. Write a python program to extract the title of the first five videos.**"
   ]
  },
  {
   "cell_type": "code",
   "execution_count": 181,
   "id": "ea0cd824-695b-4253-8ddd-122820887027",
   "metadata": {},
   "outputs": [
    {
     "data": {
      "text/plain": [
       "['Best technique to attempt SST paper in Board exam || Class 10th',\n",
       " 'Last Minute Strategy To Score More Than 98% || ICSE Boards || Class-10th',\n",
       " 'Why You Should Choose Commerce After 10th? || Complete Information💯',\n",
       " \"Follow This Plan To Score More Than 95% in Boards || Topper's Strategy\",\n",
       " 'Everything About COMMERCE Stream !! Which Stream to Choose After Class 10th?']"
      ]
     },
     "execution_count": 181,
     "metadata": {},
     "output_type": "execute_result"
    }
   ],
   "source": [
    "video_titles = soup.find_all('a',{\"class\":\"yt-simple-endpoint focus-on-expand style-scope ytd-rich-grid-media\"})[1:6]\n",
    "all_titles = list(map(lambda a: a.text, video_titles))\n",
    "all_titles"
   ]
  },
  {
   "cell_type": "code",
   "execution_count": null,
   "id": "ee11c669-e9b3-4c39-a05c-12fdd88a532e",
   "metadata": {},
   "outputs": [],
   "source": []
  },
  {
   "cell_type": "markdown",
   "id": "463f495b-c750-4864-bdca-cbdc4cabfb0a",
   "metadata": {},
   "source": [
    "**Q4. Write a python program to extract the number of views of the first five videos.**"
   ]
  },
  {
   "cell_type": "code",
   "execution_count": 182,
   "id": "adb1c19c-81f5-42ec-a866-de73fa0f80a2",
   "metadata": {},
   "outputs": [],
   "source": [
    "video_views = soup.find_all('div',{\"id\":\"metadata-line\"})[1:6]\n",
    "# all_views = list(map(lambda a: a.text, video_titles))\n",
    "# all_views"
   ]
  },
  {
   "cell_type": "code",
   "execution_count": 183,
   "id": "d43b5f6d-497a-4dc0-a515-a099d8664009",
   "metadata": {},
   "outputs": [
    {
     "data": {
      "text/plain": [
       "5"
      ]
     },
     "execution_count": 183,
     "metadata": {},
     "output_type": "execute_result"
    }
   ],
   "source": [
    "len(video_views)"
   ]
  },
  {
   "cell_type": "code",
   "execution_count": 186,
   "id": "c45b2b28-9045-4950-ae26-ee0221c7565d",
   "metadata": {},
   "outputs": [
    {
     "data": {
      "text/plain": [
       "'54K views'"
      ]
     },
     "execution_count": 186,
     "metadata": {},
     "output_type": "execute_result"
    }
   ],
   "source": [
    "video_views[0].span.text"
   ]
  },
  {
   "cell_type": "code",
   "execution_count": 192,
   "id": "799dcf32-9a33-4b3c-a260-1903d8d033aa",
   "metadata": {},
   "outputs": [
    {
     "data": {
      "text/plain": [
       "[<span class=\"inline-metadata-item style-scope ytd-video-meta-block\">1 day ago</span>,\n",
       " <span class=\"inline-metadata-item style-scope ytd-video-meta-block\">2 days ago</span>,\n",
       " <span class=\"inline-metadata-item style-scope ytd-video-meta-block\">3 days ago</span>,\n",
       " <span class=\"inline-metadata-item style-scope ytd-video-meta-block\">4 days ago</span>,\n",
       " <span class=\"inline-metadata-item style-scope ytd-video-meta-block\">9 days ago</span>]"
      ]
     },
     "execution_count": 192,
     "metadata": {},
     "output_type": "execute_result"
    }
   ],
   "source": [
    "soup.select(\"div span:nth-of-type(2)\",{\"id\":\"metadata-line\"})[3:8]"
   ]
  },
  {
   "cell_type": "code",
   "execution_count": 188,
   "id": "d56d555e-1716-4c24-a6a9-f5b519afbc49",
   "metadata": {},
   "outputs": [
    {
     "ename": "KeyError",
     "evalue": "2",
     "output_type": "error",
     "traceback": [
      "\u001b[1;31m---------------------------------------------------------------------------\u001b[0m",
      "\u001b[1;31mKeyError\u001b[0m                                  Traceback (most recent call last)",
      "Cell \u001b[1;32mIn[188], line 1\u001b[0m\n\u001b[1;32m----> 1\u001b[0m \u001b[43mvideo_views\u001b[49m\u001b[43m[\u001b[49m\u001b[38;5;241;43m0\u001b[39;49m\u001b[43m]\u001b[49m\u001b[38;5;241;43m.\u001b[39;49m\u001b[43mspan\u001b[49m\u001b[43m[\u001b[49m\u001b[38;5;241;43m2\u001b[39;49m\u001b[43m]\u001b[49m\n",
      "File \u001b[1;32m~\\AppData\\Local\\Programs\\Python\\Python310\\lib\\site-packages\\bs4\\element.py:1519\u001b[0m, in \u001b[0;36mTag.__getitem__\u001b[1;34m(self, key)\u001b[0m\n\u001b[0;32m   1516\u001b[0m \u001b[38;5;28;01mdef\u001b[39;00m \u001b[38;5;21m__getitem__\u001b[39m(\u001b[38;5;28mself\u001b[39m, key):\n\u001b[0;32m   1517\u001b[0m \u001b[38;5;250m    \u001b[39m\u001b[38;5;124;03m\"\"\"tag[key] returns the value of the 'key' attribute for the Tag,\u001b[39;00m\n\u001b[0;32m   1518\u001b[0m \u001b[38;5;124;03m    and throws an exception if it's not there.\"\"\"\u001b[39;00m\n\u001b[1;32m-> 1519\u001b[0m     \u001b[38;5;28;01mreturn\u001b[39;00m \u001b[38;5;28;43mself\u001b[39;49m\u001b[38;5;241;43m.\u001b[39;49m\u001b[43mattrs\u001b[49m\u001b[43m[\u001b[49m\u001b[43mkey\u001b[49m\u001b[43m]\u001b[49m\n",
      "\u001b[1;31mKeyError\u001b[0m: 2"
     ]
    }
   ],
   "source": [
    "video_views[0].span[2]"
   ]
  },
  {
   "cell_type": "markdown",
   "id": "6cb6b84b-f151-4c67-85d8-8e9c3f835672",
   "metadata": {},
   "source": [
    "**Q5. Write a python program to extract the time of posting of video for the first five videos.**"
   ]
  },
  {
   "cell_type": "code",
   "execution_count": 194,
   "id": "2c05a8cc-3e94-419b-a679-fd8ca8728952",
   "metadata": {},
   "outputs": [
    {
     "data": {
      "text/plain": [
       "['2 days ago', '3 days ago', '4 days ago', '9 days ago', '2 weeks ago']"
      ]
     },
     "execution_count": 194,
     "metadata": {},
     "output_type": "execute_result"
    }
   ],
   "source": [
    "video_view_times = soup.select(\"div span:nth-of-type(2)\",{\"id\":\"metadata-line\"})[4:9]\n",
    "all_view_times = list(map(lambda a: a.text, video_view_times))\n",
    "all_view_times"
   ]
  },
  {
   "cell_type": "code",
   "execution_count": null,
   "id": "e1d73916-d8f8-4657-ad9d-b64c6cecc0d6",
   "metadata": {},
   "outputs": [],
   "source": [
    "# all_views = list(map(lambda a: a.text, video_titles))\n",
    "# all_views"
   ]
  },
  {
   "cell_type": "code",
   "execution_count": null,
   "id": "7f52f750-1a70-4a4f-959d-ed6c5a5755f3",
   "metadata": {},
   "outputs": [],
   "source": []
  },
  {
   "cell_type": "code",
   "execution_count": null,
   "id": "41e85891-b0cb-4793-9824-d337fb4ff315",
   "metadata": {},
   "outputs": [],
   "source": []
  },
  {
   "cell_type": "code",
   "execution_count": 1,
   "id": "ae9e2909-ecd4-465b-b360-321e550ae638",
   "metadata": {},
   "outputs": [],
   "source": [
    "import requests\n",
    "from bs4 import BeautifulSoup as bs\n",
    "from urllib.request import urlopen"
   ]
  },
  {
   "cell_type": "code",
   "execution_count": 31,
   "id": "91fdb10e-622e-48a8-bd97-728821982659",
   "metadata": {},
   "outputs": [],
   "source": [
    "video_url = \"https://www.youtube.com/@PW-Foundation/videos\"\n",
    "url_client = requests.get(video_url)\n",
    "url_page = url_client.text"
   ]
  },
  {
   "cell_type": "code",
   "execution_count": 32,
   "id": "fe1ded89-2d38-49c3-8976-d3a7e06a096b",
   "metadata": {},
   "outputs": [],
   "source": [
    "soup = bs(url_page, \"html.parser\")\n",
    "#page_html"
   ]
  },
  {
   "cell_type": "code",
   "execution_count": 28,
   "id": "1fedc193-91c4-4d16-b7df-6f47606002f4",
   "metadata": {},
   "outputs": [],
   "source": [
    "video_divs = soup.select(\"a.yt-simple-endpoint.style-scope.ytd-grid-video-renderer\")[:5]"
   ]
  },
  {
   "cell_type": "code",
   "execution_count": 29,
   "id": "6e03b174-fa14-4d3b-baeb-2276e1e948e4",
   "metadata": {},
   "outputs": [
    {
     "data": {
      "text/plain": [
       "[]"
      ]
     },
     "execution_count": 29,
     "metadata": {},
     "output_type": "execute_result"
    }
   ],
   "source": [
    "video_divs"
   ]
  },
  {
   "cell_type": "code",
   "execution_count": 78,
   "id": "9c55cb30-5ff0-42a7-adb5-08b0b6063f3a",
   "metadata": {},
   "outputs": [
    {
     "name": "stdout",
     "output_type": "stream",
     "text": [
      "[]\n"
     ]
    }
   ],
   "source": [
    "import requests\n",
    "from bs4 import BeautifulSoup\n",
    "\n",
    "url = \"https://www.youtube.com/@PW-Foundation/videos\"\n",
    "response = requests.get(url)\n",
    "\n",
    "soup = BeautifulSoup(response.text, \"html.parser\")\n",
    "\n",
    "# Find the first five video links on the page\n",
    "video_links = soup.find_all('a',{\"class\":\"yt-simple-endpoint inline-block style-scope ytd-thumbnail\"})[1:6]\n",
    "\n",
    "# Extract the href attribute from each video link\n",
    "video_urls = [link['href'] for link in video_links]\n",
    "\n",
    "# Prepend the base YouTube URL to each video URL\n",
    "video_urls = [\"https://www.youtube.com\" + url for url in video_urls]\n",
    "\n",
    "# Print the list of video URLs\n",
    "print(video_urls)\n"
   ]
  },
  {
   "cell_type": "code",
   "execution_count": null,
   "id": "948b1a38-e9c2-4c40-8fa2-1a5bc13c584f",
   "metadata": {},
   "outputs": [],
   "source": [
    "yt-simple-endpoint inline-block style-scope ytd-thumbnail"
   ]
  },
  {
   "cell_type": "code",
   "execution_count": null,
   "id": "02459e3a-ea82-4164-ab69-321177598ce3",
   "metadata": {},
   "outputs": [],
   "source": []
  },
  {
   "cell_type": "code",
   "execution_count": null,
   "id": "087768d6-632b-49fc-8ff5-ddc41964add9",
   "metadata": {},
   "outputs": [],
   "source": []
  },
  {
   "cell_type": "code",
   "execution_count": 96,
   "id": "7969ad9e-a3e8-45e0-9ee1-c63b50927a5d",
   "metadata": {},
   "outputs": [],
   "source": [
    "from bs4 import BeautifulSoup\n",
    "from selenium import webdriver\n",
    "from webdriver_manager.chrome import ChromeDriverManager"
   ]
  },
  {
   "cell_type": "code",
   "execution_count": 97,
   "id": "385d0d3d-abb1-4d31-8925-3dbfa08da5ba",
   "metadata": {},
   "outputs": [
    {
     "name": "stderr",
     "output_type": "stream",
     "text": [
      "C:\\Users\\hp\\AppData\\Local\\Temp\\ipykernel_17344\\2786177129.py:1: DeprecationWarning: executable_path has been deprecated, please pass in a Service object\n",
      "  driver = webdriver.Chrome(executable_path=ChromeDriverManager().install())\n"
     ]
    }
   ],
   "source": [
    "driver = webdriver.Chrome(executable_path=ChromeDriverManager().install())"
   ]
  },
  {
   "cell_type": "code",
   "execution_count": 98,
   "id": "20d76802-adc2-4e0c-8e53-451fe251ad98",
   "metadata": {},
   "outputs": [],
   "source": [
    "driver.get(\"https://www.youtube.com/@PW-Foundation/videos\")"
   ]
  },
  {
   "cell_type": "code",
   "execution_count": 99,
   "id": "a2d3be9d-6f4f-4802-bf76-940454e7f8c9",
   "metadata": {},
   "outputs": [],
   "source": [
    "content = driver.page_source"
   ]
  },
  {
   "cell_type": "code",
   "execution_count": 100,
   "id": "95b30fdb-f828-449b-99fa-f575f38f0081",
   "metadata": {},
   "outputs": [],
   "source": [
    "soup = BeautifulSoup(content, \"html.parser\")"
   ]
  },
  {
   "cell_type": "code",
   "execution_count": 101,
   "id": "56cdc95a-2cdf-4c7f-93a2-1ee487db5e07",
   "metadata": {},
   "outputs": [],
   "source": [
    "video_url = soup.find_all('a',{\"class\":\"yt-simple-endpoint inline-block style-scope ytd-thumbnail\"})[1:6]"
   ]
  },
  {
   "cell_type": "code",
   "execution_count": 102,
   "id": "79ab1c1a-3e7b-4d92-826d-3b3b06adb9bf",
   "metadata": {},
   "outputs": [
    {
     "data": {
      "text/plain": [
       "5"
      ]
     },
     "execution_count": 102,
     "metadata": {},
     "output_type": "execute_result"
    }
   ],
   "source": [
    "len(video_url)"
   ]
  },
  {
   "cell_type": "code",
   "execution_count": 103,
   "id": "ae547bb7-d373-4ce8-a422-c7dcf97ecd15",
   "metadata": {},
   "outputs": [],
   "source": [
    "all_urls = map(lambda a: \"https://www.youtube.com\"+a[\"href\"], video_url)"
   ]
  },
  {
   "cell_type": "code",
   "execution_count": 104,
   "id": "5e275d12-5b83-4a19-bad4-439873dbe551",
   "metadata": {},
   "outputs": [
    {
     "data": {
      "text/plain": [
       "['https://www.youtube.com/watch?v=nX5ONgCdLcc',\n",
       " 'https://www.youtube.com/watch?v=AM2Dt7cNebw',\n",
       " 'https://www.youtube.com/watch?v=7nMJVhey9TM',\n",
       " 'https://www.youtube.com/watch?v=FSVVlcFUCMk',\n",
       " 'https://www.youtube.com/watch?v=vKxdTuOirnI']"
      ]
     },
     "execution_count": 104,
     "metadata": {},
     "output_type": "execute_result"
    }
   ],
   "source": [
    "list(all_urls)"
   ]
  },
  {
   "cell_type": "code",
   "execution_count": null,
   "id": "726cd64e-2bc9-41f9-9e9b-6affaa83264e",
   "metadata": {},
   "outputs": [],
   "source": []
  },
  {
   "cell_type": "code",
   "execution_count": 118,
   "id": "5cae426f-7f39-42c1-a99a-80d46ac429d9",
   "metadata": {},
   "outputs": [],
   "source": [
    "video_titles = soup.find_all('a',{\"class\":\"yt-simple-endpoint focus-on-expand style-scope ytd-rich-grid-media\"})[1:6]"
   ]
  },
  {
   "cell_type": "code",
   "execution_count": 119,
   "id": "df078bea-84d9-4bd8-8236-e0166f2fa128",
   "metadata": {},
   "outputs": [],
   "source": [
    "all_titles = map(lambda a: a.text, video_titles)"
   ]
  },
  {
   "cell_type": "code",
   "execution_count": 120,
   "id": "54ca22d1-c50b-4a04-8647-8d95a363d07a",
   "metadata": {},
   "outputs": [
    {
     "data": {
      "text/plain": [
       "['Best technique to attempt SST paper in Board exam || Class 10th',\n",
       " 'Last Minute Strategy To Score More Than 98% || ICSE Boards || Class-10th',\n",
       " 'Why You Should Choose Commerce After 10th? || Complete Information💯',\n",
       " \"Follow This Plan To Score More Than 95% in Boards || Topper's Strategy\",\n",
       " 'Everything About COMMERCE Stream !! Which Stream to Choose After Class 10th?']"
      ]
     },
     "execution_count": 120,
     "metadata": {},
     "output_type": "execute_result"
    }
   ],
   "source": [
    "list(all_titles)"
   ]
  },
  {
   "cell_type": "code",
   "execution_count": null,
   "id": "72592fc1-8342-40f3-b1a2-16f4903afdac",
   "metadata": {},
   "outputs": [],
   "source": []
  },
  {
   "cell_type": "code",
   "execution_count": 121,
   "id": "6123a6b7-3f75-40e4-991b-a800fb604eba",
   "metadata": {},
   "outputs": [],
   "source": [
    "video_view_counts = soup.find_all('span',{\"class\":\"inline-metadata-item style-scope ytd-video-meta-block\"})[1:6]"
   ]
  },
  {
   "cell_type": "code",
   "execution_count": 122,
   "id": "592d6c40-cf2c-4e94-adbc-5e8456c31157",
   "metadata": {},
   "outputs": [
    {
     "data": {
      "text/plain": [
       "5"
      ]
     },
     "execution_count": 122,
     "metadata": {},
     "output_type": "execute_result"
    }
   ],
   "source": [
    "len(video_view_counts)"
   ]
  },
  {
   "cell_type": "code",
   "execution_count": 123,
   "id": "6b901934-5c67-4a73-8af0-a51cf995fa37",
   "metadata": {},
   "outputs": [
    {
     "data": {
      "text/plain": [
       "[<span class=\"inline-metadata-item style-scope ytd-video-meta-block\">1 day ago</span>,\n",
       " <span class=\"inline-metadata-item style-scope ytd-video-meta-block\">54K views</span>,\n",
       " <span class=\"inline-metadata-item style-scope ytd-video-meta-block\">2 days ago</span>,\n",
       " <span class=\"inline-metadata-item style-scope ytd-video-meta-block\">22K views</span>,\n",
       " <span class=\"inline-metadata-item style-scope ytd-video-meta-block\">3 days ago</span>]"
      ]
     },
     "execution_count": 123,
     "metadata": {},
     "output_type": "execute_result"
    }
   ],
   "source": [
    "video_view_counts"
   ]
  },
  {
   "cell_type": "code",
   "execution_count": null,
   "id": "245ceb44-fb22-4667-bd79-5cd1c17a2250",
   "metadata": {},
   "outputs": [],
   "source": []
  },
  {
   "cell_type": "code",
   "execution_count": 153,
   "id": "4b09d9bb-3172-4bc7-a22f-093025672f85",
   "metadata": {},
   "outputs": [],
   "source": [
    "video_thumbnails = soup.find_all('a',{\"class\":\"yt-simple-endpoint inline-block style-scope ytd-thumbnail\"})[1:6]"
   ]
  },
  {
   "cell_type": "code",
   "execution_count": 161,
   "id": "c3864f4a-3f1e-4850-8c83-3406c612d085",
   "metadata": {},
   "outputs": [
    {
     "ename": "KeyError",
     "evalue": "'src'",
     "output_type": "error",
     "traceback": [
      "\u001b[1;31m---------------------------------------------------------------------------\u001b[0m",
      "\u001b[1;31mKeyError\u001b[0m                                  Traceback (most recent call last)",
      "Cell \u001b[1;32mIn[161], line 5\u001b[0m\n\u001b[0;32m      2\u001b[0m all_thumbnails \u001b[38;5;241m=\u001b[39m []\n\u001b[0;32m      4\u001b[0m \u001b[38;5;28;01mfor\u001b[39;00m video_thumbnail \u001b[38;5;129;01min\u001b[39;00m video_thumbnails:\n\u001b[1;32m----> 5\u001b[0m     all_thumbnails\u001b[38;5;241m.\u001b[39mappend(\u001b[43mvideo_thumbnail\u001b[49m\u001b[38;5;241;43m.\u001b[39;49m\u001b[43mimg\u001b[49m\u001b[43m[\u001b[49m\u001b[38;5;124;43m'\u001b[39;49m\u001b[38;5;124;43msrc\u001b[39;49m\u001b[38;5;124;43m'\u001b[39;49m\u001b[43m]\u001b[49m)\n",
      "File \u001b[1;32m~\\AppData\\Local\\Programs\\Python\\Python310\\lib\\site-packages\\bs4\\element.py:1519\u001b[0m, in \u001b[0;36mTag.__getitem__\u001b[1;34m(self, key)\u001b[0m\n\u001b[0;32m   1516\u001b[0m \u001b[38;5;28;01mdef\u001b[39;00m \u001b[38;5;21m__getitem__\u001b[39m(\u001b[38;5;28mself\u001b[39m, key):\n\u001b[0;32m   1517\u001b[0m \u001b[38;5;250m    \u001b[39m\u001b[38;5;124;03m\"\"\"tag[key] returns the value of the 'key' attribute for the Tag,\u001b[39;00m\n\u001b[0;32m   1518\u001b[0m \u001b[38;5;124;03m    and throws an exception if it's not there.\"\"\"\u001b[39;00m\n\u001b[1;32m-> 1519\u001b[0m     \u001b[38;5;28;01mreturn\u001b[39;00m \u001b[38;5;28;43mself\u001b[39;49m\u001b[38;5;241;43m.\u001b[39;49m\u001b[43mattrs\u001b[49m\u001b[43m[\u001b[49m\u001b[43mkey\u001b[49m\u001b[43m]\u001b[49m\n",
      "\u001b[1;31mKeyError\u001b[0m: 'src'"
     ]
    }
   ],
   "source": [
    "# all_thumbnails = map(lambda x : x.img['src'], video_thumbnails)\n",
    "all_thumbnails = []\n",
    "\n",
    "for video_thumbnail in video_thumbnails:\n",
    "    all_thumbnails.append(video_thumbnail.img['src'])"
   ]
  },
  {
   "cell_type": "code",
   "execution_count": 160,
   "id": "88e1d97c-ef16-4819-a292-9af668998eb7",
   "metadata": {},
   "outputs": [
    {
     "data": {
      "text/plain": [
       "[<img alt=\"\" class=\"yt-core-image--fill-parent-height yt-core-image--fill-parent-width yt-core-image yt-core-image--content-mode-scale-aspect-fill yt-core-image--loaded\" src=\"https://i.ytimg.com/vi/nX5ONgCdLcc/hqdefault.jpg?sqp=-oaymwEcCNACELwBSFXyq4qpAw4IARUAAIhCGAFwAcABBg==&amp;rs=AOn4CLBaa_KLfKyYbUYRsb5xf0YCp1YrlQ\" style=\"background-color: transparent;\"/>,\n",
       " <img alt=\"\" class=\"yt-core-image--fill-parent-height yt-core-image--fill-parent-width yt-core-image yt-core-image--content-mode-scale-aspect-fill yt-core-image--loaded\" src=\"https://i.ytimg.com/vi/AM2Dt7cNebw/hqdefault.jpg?sqp=-oaymwEcCNACELwBSFXyq4qpAw4IARUAAIhCGAFwAcABBg==&amp;rs=AOn4CLBJHWHabeJ94dcUDlDDNfvQxnUfJg\" style=\"background-color: transparent;\"/>,\n",
       " <img alt=\"\" class=\"yt-core-image--fill-parent-height yt-core-image--fill-parent-width yt-core-image yt-core-image--content-mode-scale-aspect-fill\" style=\"background-color: transparent;\"/>,\n",
       " <img alt=\"\" class=\"yt-core-image--fill-parent-height yt-core-image--fill-parent-width yt-core-image yt-core-image--content-mode-scale-aspect-fill\" style=\"background-color: transparent;\"/>,\n",
       " <img alt=\"\" class=\"yt-core-image--fill-parent-height yt-core-image--fill-parent-width yt-core-image yt-core-image--content-mode-scale-aspect-fill\" style=\"background-color: transparent;\"/>]"
      ]
     },
     "execution_count": 160,
     "metadata": {},
     "output_type": "execute_result"
    }
   ],
   "source": [
    "all_thumbnails"
   ]
  },
  {
   "cell_type": "code",
   "execution_count": 163,
   "id": "42cdb8fa-a5dc-4078-b4b2-7e66a96d3257",
   "metadata": {},
   "outputs": [
    {
     "data": {
      "text/plain": [
       "'https://i.ytimg.com/vi/nX5ONgCdLcc/hqdefault.jpg?sqp=-oaymwEcCNACELwBSFXyq4qpAw4IARUAAIhCGAFwAcABBg==&rs=AOn4CLBaa_KLfKyYbUYRsb5xf0YCp1YrlQ'"
      ]
     },
     "execution_count": 163,
     "metadata": {},
     "output_type": "execute_result"
    }
   ],
   "source": [
    "video_thumbnails[0].img['src']"
   ]
  },
  {
   "cell_type": "code",
   "execution_count": null,
   "id": "53878980-7aed-4391-9e9d-7d8fdf9ffd28",
   "metadata": {},
   "outputs": [],
   "source": []
  },
  {
   "cell_type": "code",
   "execution_count": 144,
   "id": "7ee640a5-054e-4142-a5e7-beb2ae5f75e5",
   "metadata": {},
   "outputs": [
    {
     "ename": "KeyError",
     "evalue": "'src'",
     "output_type": "error",
     "traceback": [
      "\u001b[1;31m---------------------------------------------------------------------------\u001b[0m",
      "\u001b[1;31mKeyError\u001b[0m                                  Traceback (most recent call last)",
      "Cell \u001b[1;32mIn[144], line 1\u001b[0m\n\u001b[1;32m----> 1\u001b[0m \u001b[38;5;28;43mlist\u001b[39;49m\u001b[43m(\u001b[49m\u001b[43mall_thumbnails\u001b[49m\u001b[43m)\u001b[49m\n",
      "Cell \u001b[1;32mIn[143], line 1\u001b[0m, in \u001b[0;36m<lambda>\u001b[1;34m(x)\u001b[0m\n\u001b[1;32m----> 1\u001b[0m all_thumbnails \u001b[38;5;241m=\u001b[39m \u001b[38;5;28mmap\u001b[39m(\u001b[38;5;28;01mlambda\u001b[39;00m x : \u001b[43mx\u001b[49m\u001b[38;5;241;43m.\u001b[39;49m\u001b[43mimg\u001b[49m\u001b[43m[\u001b[49m\u001b[38;5;124;43m'\u001b[39;49m\u001b[38;5;124;43msrc\u001b[39;49m\u001b[38;5;124;43m'\u001b[39;49m\u001b[43m]\u001b[49m, video_thumbnails)\n\u001b[0;32m      2\u001b[0m all_thumbnails\n",
      "File \u001b[1;32m~\\AppData\\Local\\Programs\\Python\\Python310\\lib\\site-packages\\bs4\\element.py:1519\u001b[0m, in \u001b[0;36mTag.__getitem__\u001b[1;34m(self, key)\u001b[0m\n\u001b[0;32m   1516\u001b[0m \u001b[38;5;28;01mdef\u001b[39;00m \u001b[38;5;21m__getitem__\u001b[39m(\u001b[38;5;28mself\u001b[39m, key):\n\u001b[0;32m   1517\u001b[0m \u001b[38;5;250m    \u001b[39m\u001b[38;5;124;03m\"\"\"tag[key] returns the value of the 'key' attribute for the Tag,\u001b[39;00m\n\u001b[0;32m   1518\u001b[0m \u001b[38;5;124;03m    and throws an exception if it's not there.\"\"\"\u001b[39;00m\n\u001b[1;32m-> 1519\u001b[0m     \u001b[38;5;28;01mreturn\u001b[39;00m \u001b[38;5;28;43mself\u001b[39;49m\u001b[38;5;241;43m.\u001b[39;49m\u001b[43mattrs\u001b[49m\u001b[43m[\u001b[49m\u001b[43mkey\u001b[49m\u001b[43m]\u001b[49m\n",
      "\u001b[1;31mKeyError\u001b[0m: 'src'"
     ]
    }
   ],
   "source": [
    "list(all_thumbnails)"
   ]
  },
  {
   "cell_type": "code",
   "execution_count": null,
   "id": "e90c563e-22f5-4eee-92ee-a02f9b7632a2",
   "metadata": {},
   "outputs": [],
   "source": []
  }
 ],
 "metadata": {
  "kernelspec": {
   "display_name": "Python 3 (ipykernel)",
   "language": "python",
   "name": "python3"
  },
  "language_info": {
   "codemirror_mode": {
    "name": "ipython",
    "version": 3
   },
   "file_extension": ".py",
   "mimetype": "text/x-python",
   "name": "python",
   "nbconvert_exporter": "python",
   "pygments_lexer": "ipython3",
   "version": "3.10.9"
  }
 },
 "nbformat": 4,
 "nbformat_minor": 5
}
