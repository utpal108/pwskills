{
 "cells": [
  {
   "cell_type": "markdown",
   "id": "60f1ab97-a3bd-4901-b4e7-54d61546b726",
   "metadata": {},
   "source": [
    "## Image Scrapper Assignment"
   ]
  },
  {
   "cell_type": "markdown",
   "id": "1bb30fa9-5b63-4404-8684-0f66707ca808",
   "metadata": {},
   "source": [
    "Go to this given URL and solve the following questions\n",
    "URL: https://www.youtube.com/@PW-Foundation/videos"
   ]
  },
  {
   "cell_type": "markdown",
   "id": "6aa06230-7c47-4559-9b33-4ec8de7e11cc",
   "metadata": {},
   "source": [
    "**Q1. Write a python program to extract the video URL of the first five videos.**"
   ]
  },
  {
   "cell_type": "code",
   "execution_count": 8,
   "id": "83efc735-45bf-46ee-ac5a-140d24700bad",
   "metadata": {},
   "outputs": [],
   "source": [
    "from bs4 import BeautifulSoup\n",
    "from selenium import webdriver\n",
    "from webdriver_manager.chrome import ChromeDriverManager\n",
    "from selenium.webdriver.chrome.service import Service\n",
    "import logging"
   ]
  },
  {
   "cell_type": "code",
   "execution_count": 10,
   "id": "098dc758-f662-4ef9-8470-fa1e7eb05651",
   "metadata": {},
   "outputs": [],
   "source": [
    "logging.basicConfig(filename=\"error_log.log\", filemode=\"a\", format='%(asctime)s %(levelname)s-%(message)s', datefmt=\"%Y-%m-%d %H:%M:%S\")"
   ]
  },
  {
   "cell_type": "code",
   "execution_count": 24,
   "id": "564cbe0f-0f24-41c7-b634-c5bd46627ed5",
   "metadata": {},
   "outputs": [],
   "source": [
    "driver_service = Service(executable_path=ChromeDriverManager().install())\n",
    "driver = webdriver.Chrome(service=driver_service)\n",
    "driver.get(\"https://www.youtube.com/@PW-Foundation/videos\")\n",
    "content = driver.page_source\n",
    "soup = BeautifulSoup(content, \"html.parser\")"
   ]
  },
  {
   "cell_type": "code",
   "execution_count": 25,
   "id": "91d4bf1d-c7df-420f-ab46-32291c60edf3",
   "metadata": {},
   "outputs": [
    {
     "data": {
      "text/plain": [
       "5"
      ]
     },
     "execution_count": 25,
     "metadata": {},
     "output_type": "execute_result"
    }
   ],
   "source": [
    "video_urls = soup.find_all('a',{\"class\":\"yt-simple-endpoint inline-block style-scope ytd-thumbnail\"})[1:6]\n",
    "len(video_urls)"
   ]
  },
  {
   "cell_type": "code",
   "execution_count": 14,
   "id": "59a56b9d-cebd-43fe-b478-2297db02a58a",
   "metadata": {},
   "outputs": [],
   "source": [
    "all_video_urls = []\n",
    "\n",
    "for video_url in video_urls:\n",
    "    url = \"\"\n",
    "    try:\n",
    "        url = \"https://www.youtube.com\"+video_url[\"href\"]\n",
    "    except Exception as e:\n",
    "        logging.error(e)\n",
    "    finally:\n",
    "        all_video_urls.append(url)"
   ]
  },
  {
   "cell_type": "code",
   "execution_count": 15,
   "id": "576a6edf-4947-48f3-b5ca-0c604249c5d9",
   "metadata": {},
   "outputs": [
    {
     "name": "stdout",
     "output_type": "stream",
     "text": [
      "['https://www.youtube.com/watch?v=-osuIPJkPWg', 'https://www.youtube.com/watch?v=VsKb_U2-Cx0', 'https://www.youtube.com/watch?v=ZNHlCezYN1I', 'https://www.youtube.com/watch?v=nNmV-fuGW5c', 'https://www.youtube.com/watch?v=6Mht7UigC_w']\n"
     ]
    }
   ],
   "source": [
    "print(all_video_urls)"
   ]
  },
  {
   "cell_type": "code",
   "execution_count": null,
   "id": "1126102a-3662-4261-a39b-ce5742d59349",
   "metadata": {},
   "outputs": [],
   "source": []
  },
  {
   "cell_type": "markdown",
   "id": "232108d2-6feb-421b-be46-9e69c7a21405",
   "metadata": {},
   "source": [
    "**Q2. Write a python program to extract the URL of the video thumbnails of the first five videos.**"
   ]
  },
  {
   "cell_type": "code",
   "execution_count": 26,
   "id": "f1f29768-977d-49be-ba8a-7e53e3ab9c9e",
   "metadata": {},
   "outputs": [
    {
     "data": {
      "text/plain": [
       "5"
      ]
     },
     "execution_count": 26,
     "metadata": {},
     "output_type": "execute_result"
    }
   ],
   "source": [
    "video_thumbnails = soup.find_all('a',{\"class\":\"yt-simple-endpoint inline-block style-scope ytd-thumbnail\"})[1:6]\n",
    "len(video_thumbnails)"
   ]
  },
  {
   "cell_type": "code",
   "execution_count": 27,
   "id": "acbf9f49-429c-4f78-bf51-ff42e6454478",
   "metadata": {},
   "outputs": [],
   "source": [
    "all_video_thumbnails =[]\n",
    "for video_thumbnail in video_thumbnails:\n",
    "    img_url=\"\"\n",
    "    try:\n",
    "        img_url = video_thumbnail.img[\"src\"]\n",
    "    except Exception as e:\n",
    "        logging.error(e)\n",
    "    finally:\n",
    "        all_video_thumbnails.append(img_url)\n",
    "    "
   ]
  },
  {
   "cell_type": "code",
   "execution_count": 28,
   "id": "10eb6341-b043-40c2-9be2-3daa18456a2e",
   "metadata": {},
   "outputs": [
    {
     "data": {
      "text/plain": [
       "['https://i.ytimg.com/vi/-osuIPJkPWg/hqdefault.jpg?sqp=-oaymwEcCNACELwBSFXyq4qpAw4IARUAAIhCGAFwAcABBg==&rs=AOn4CLAIzE3_yVozBODRCJvZ4Qg29v3UuA',\n",
       " 'https://i.ytimg.com/vi/VsKb_U2-Cx0/hqdefault.jpg?sqp=-oaymwEcCNACELwBSFXyq4qpAw4IARUAAIhCGAFwAcABBg==&rs=AOn4CLBVtsaBL6O32XQx_7Qi-wdGfjn_iA',\n",
       " 'https://i.ytimg.com/vi/ZNHlCezYN1I/hqdefault.jpg?sqp=-oaymwEcCNACELwBSFXyq4qpAw4IARUAAIhCGAFwAcABBg==&rs=AOn4CLBCFqdlLDBC2Kkf3zEF-LK5TNEwkw',\n",
       " 'https://i.ytimg.com/vi/nNmV-fuGW5c/hqdefault.jpg?sqp=-oaymwEcCNACELwBSFXyq4qpAw4IARUAAIhCGAFwAcABBg==&rs=AOn4CLBjSM8jHxXjo8skRTMryGUJsisS9w',\n",
       " 'https://i.ytimg.com/vi/6Mht7UigC_w/hqdefault.jpg?sqp=-oaymwEcCNACELwBSFXyq4qpAw4IARUAAIhCGAFwAcABBg==&rs=AOn4CLBHz1uk4Eqa1RW0V9RSoeH8xYtUPA']"
      ]
     },
     "execution_count": 28,
     "metadata": {},
     "output_type": "execute_result"
    }
   ],
   "source": [
    "all_video_thumbnails"
   ]
  },
  {
   "cell_type": "code",
   "execution_count": null,
   "id": "d664fc5f-4238-4d0e-8e2e-d509af4b7263",
   "metadata": {},
   "outputs": [],
   "source": []
  },
  {
   "cell_type": "markdown",
   "id": "9a255210-4370-462f-aba4-f4b6331c7977",
   "metadata": {},
   "source": [
    "**Q3. Write a python program to extract the title of the first five videos.**"
   ]
  },
  {
   "cell_type": "code",
   "execution_count": 46,
   "id": "ea0cd824-695b-4253-8ddd-122820887027",
   "metadata": {},
   "outputs": [
    {
     "data": {
      "text/plain": [
       "5"
      ]
     },
     "execution_count": 46,
     "metadata": {},
     "output_type": "execute_result"
    }
   ],
   "source": [
    "video_titles = soup.find_all('a',{\"class\":\"yt-simple-endpoint focus-on-expand style-scope ytd-rich-grid-media\"})[1:6]\n",
    "len(video_titles)"
   ]
  },
  {
   "cell_type": "code",
   "execution_count": 47,
   "id": "66480cdb-a620-4a21-a379-bba641e7367a",
   "metadata": {},
   "outputs": [],
   "source": [
    "all_video_titles=[]\n",
    "\n",
    "for video_title in video_titles:\n",
    "    title=\"\"\n",
    "    try:\n",
    "        title=video_title.text\n",
    "    except Exception as e:\n",
    "        logging.error(e)\n",
    "    finally:\n",
    "        all_video_titles.append(title)"
   ]
  },
  {
   "cell_type": "code",
   "execution_count": 49,
   "id": "ee11c669-e9b3-4c39-a05c-12fdd88a532e",
   "metadata": {},
   "outputs": [
    {
     "data": {
      "text/plain": [
       "['Complete 𝗛𝘂𝗺𝗮𝗻 𝗘𝘆𝗲 & 𝗧𝗵𝗲 𝗖𝗼𝗹𝗼𝘂𝗿𝗳𝘂𝗹 𝗪𝗼𝗿𝗹𝗱 in 2 Hours 24 Minutes | Class 10th Board Exam',\n",
       " 'Complete 𝗘𝗹𝗲𝗰𝘁𝗿𝗶𝗰𝗶𝘁𝘆 in 2 Hours 4 Minutes  | Class 10th Board Exam',\n",
       " 'Complete 𝗟𝗜𝗚𝗛𝗧 in 3 Hours 49 Minutes | Class 10th Board Exam',\n",
       " 'NEW Batches for Class 10 & 9 - Session 2023-24 || NEEV and UDAAN Batch Launch 🚀',\n",
       " 'आपको Commerce में क्या सीखने को मिलता है ?? Complete Information']"
      ]
     },
     "execution_count": 49,
     "metadata": {},
     "output_type": "execute_result"
    }
   ],
   "source": [
    "all_video_titles"
   ]
  },
  {
   "cell_type": "code",
   "execution_count": null,
   "id": "daebcbd6-ddc9-460d-bfac-b502245c9417",
   "metadata": {},
   "outputs": [],
   "source": []
  },
  {
   "cell_type": "markdown",
   "id": "463f495b-c750-4864-bdca-cbdc4cabfb0a",
   "metadata": {},
   "source": [
    "**Q4. Write a python program to extract the number of views of the first five videos.**"
   ]
  },
  {
   "cell_type": "code",
   "execution_count": 55,
   "id": "adb1c19c-81f5-42ec-a866-de73fa0f80a2",
   "metadata": {},
   "outputs": [
    {
     "data": {
      "text/plain": [
       "5"
      ]
     },
     "execution_count": 55,
     "metadata": {},
     "output_type": "execute_result"
    }
   ],
   "source": [
    "video_views = soup.find_all('div',{\"id\":\"metadata-line\", \"class\":\"style-scope ytd-video-meta-block\"})[1:6]\n",
    "len(video_views)"
   ]
  },
  {
   "cell_type": "code",
   "execution_count": 52,
   "id": "b1dbdf75-53de-4ac1-bdb1-aa581109d4d0",
   "metadata": {},
   "outputs": [],
   "source": [
    "all_video_views=[]\n",
    "\n",
    "for video_view in video_views:\n",
    "    view=\"\"\n",
    "    try:\n",
    "        view=video_view.span.text\n",
    "    except Exception as e:\n",
    "        logging.error(e)\n",
    "    finally:\n",
    "        all_video_views.append(view)\n"
   ]
  },
  {
   "cell_type": "code",
   "execution_count": 54,
   "id": "d43b5f6d-497a-4dc0-a515-a099d8664009",
   "metadata": {},
   "outputs": [
    {
     "data": {
      "text/plain": [
       "['7.4K views', '28K views', '48K views', '41K views', '11K views']"
      ]
     },
     "execution_count": 54,
     "metadata": {},
     "output_type": "execute_result"
    }
   ],
   "source": [
    "all_video_views"
   ]
  },
  {
   "cell_type": "code",
   "execution_count": null,
   "id": "933b1745-af1e-49bb-8f42-0515a42f7d9d",
   "metadata": {},
   "outputs": [],
   "source": []
  },
  {
   "cell_type": "markdown",
   "id": "6cb6b84b-f151-4c67-85d8-8e9c3f835672",
   "metadata": {},
   "source": [
    "**Q5. Write a python program to extract the time of posting of video for the first five videos.**"
   ]
  },
  {
   "cell_type": "code",
   "execution_count": 56,
   "id": "2c05a8cc-3e94-419b-a679-fd8ca8728952",
   "metadata": {},
   "outputs": [
    {
     "data": {
      "text/plain": [
       "5"
      ]
     },
     "execution_count": 56,
     "metadata": {},
     "output_type": "execute_result"
    }
   ],
   "source": [
    "video_view_times = soup.select(\"div span:nth-of-type(2)\",{\"id\":\"metadata-line\"})[4:9]\n",
    "len(video_view_times)"
   ]
  },
  {
   "cell_type": "code",
   "execution_count": 57,
   "id": "086ee8de-45be-411f-91c7-041e5d131e32",
   "metadata": {},
   "outputs": [],
   "source": [
    "all_video_view_times=[]\n",
    "\n",
    "for video_view_time in video_view_times:\n",
    "    view_time=\"\"\n",
    "    try:\n",
    "        view_time=video_view_time.text\n",
    "    except Exception as e:\n",
    "        logging.error(e)\n",
    "    finally:\n",
    "        all_video_view_times.append(view_time)"
   ]
  },
  {
   "cell_type": "code",
   "execution_count": 58,
   "id": "5ba7ee83-c728-4042-9395-770caf0b266e",
   "metadata": {},
   "outputs": [
    {
     "data": {
      "text/plain": [
       "['10 hours ago', '15 hours ago', '20 hours ago', '22 hours ago', '2 days ago']"
      ]
     },
     "execution_count": 58,
     "metadata": {},
     "output_type": "execute_result"
    }
   ],
   "source": [
    "all_video_view_times"
   ]
  }
 ],
 "metadata": {
  "kernelspec": {
   "display_name": "Python 3 (ipykernel)",
   "language": "python",
   "name": "python3"
  },
  "language_info": {
   "codemirror_mode": {
    "name": "ipython",
    "version": 3
   },
   "file_extension": ".py",
   "mimetype": "text/x-python",
   "name": "python",
   "nbconvert_exporter": "python",
   "pygments_lexer": "ipython3",
   "version": "3.10.9"
  }
 },
 "nbformat": 4,
 "nbformat_minor": 5
}
