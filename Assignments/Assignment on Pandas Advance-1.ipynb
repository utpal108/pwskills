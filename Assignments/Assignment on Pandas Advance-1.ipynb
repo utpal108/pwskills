{
 "cells": [
  {
   "cell_type": "markdown",
   "id": "bd4ca4e2-acc3-4107-a419-49e927afbe87",
   "metadata": {},
   "source": [
    "## Assignment on Pandas Advance-1"
   ]
  },
  {
   "cell_type": "markdown",
   "id": "8c500ae5-1b96-483f-b0d3-82bfd32212ef",
   "metadata": {},
   "source": [
    "**Q1. List any five functions of the pandas library with execution.**"
   ]
  },
  {
   "cell_type": "code",
   "execution_count": null,
   "id": "219faa74-80cd-4d97-9a07-04adf94af9a2",
   "metadata": {},
   "outputs": [],
   "source": []
  }
 ],
 "metadata": {
  "kernelspec": {
   "display_name": "Python 3 (ipykernel)",
   "language": "python",
   "name": "python3"
  },
  "language_info": {
   "codemirror_mode": {
    "name": "ipython",
    "version": 3
   },
   "file_extension": ".py",
   "mimetype": "text/x-python",
   "name": "python",
   "nbconvert_exporter": "python",
   "pygments_lexer": "ipython3",
   "version": "3.10.9"
  }
 },
 "nbformat": 4,
 "nbformat_minor": 5
}
