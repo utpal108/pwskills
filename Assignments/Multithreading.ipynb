{
 "cells": [
  {
   "cell_type": "markdown",
   "id": "4489768e-f3c6-4aca-b209-81f17565630c",
   "metadata": {},
   "source": [
    "## **PWSKILLS Multithreading Assignment**"
   ]
  },
  {
   "cell_type": "markdown",
   "id": "bf4dce37-4d2f-4ad3-833d-122afe6b7428",
   "metadata": {},
   "source": [
    "#### **Q1. What is multithreading in python? Why is it used? Name the module used to handle threads in python.**"
   ]
  },
  {
   "cell_type": "markdown",
   "id": "35418944-fd6b-447b-b922-25321eba83ad",
   "metadata": {},
   "source": [
    "Multithreading in Python is a programming concept that allows a Python program to run multiple threads (subsets of the program) concurrently. Each thread can execute independently while sharing common resources, such as memory and CPU time.\n",
    "\n",
    "Multithreading is used to improve the performance of a program by leveraging the capabilities of modern CPUs, which have multiple cores. By splitting a program into multiple threads, a program can execute several tasks simultaneously, leading to faster processing.\n",
    "\n",
    "In Python, the threading module is used to handle threads. This module provides a way to create and manage threads in a Python program. The threading module provides a Thread class that can be subclassed to create new threads, and it also provides several synchronization primitives like Lock, RLock, Condition, and Semaphore that help coordinate the execution of threads and avoid race conditions.\n",
    "\n",
    "Here's a simple example of how to use the threading module in Python to create and start a new thread:"
   ]
  },
  {
   "cell_type": "code",
   "execution_count": 4,
   "id": "e5764a42-f853-44f8-abb9-876364698efe",
   "metadata": {},
   "outputs": [
    {
     "name": "stdout",
     "output_type": "stream",
     "text": [
      "Starting my_function\n",
      "4\n",
      "Finishing my_function\n",
      "All Threads Finished\n"
     ]
    }
   ],
   "source": [
    "import threading\n",
    "\n",
    "def my_function(x):\n",
    "    print(\"Starting my_function\")\n",
    "    print(x**2)\n",
    "    print(\"Finishing my_function\")\n",
    "\n",
    "# Create a New Thread\n",
    "t = threading.Thread(target=my_function, args=(2,))\n",
    "\n",
    "# Start the thread\n",
    "t.start()\n",
    "\n",
    "# Wait for the thread to Finish\n",
    "t.join()\n",
    "\n",
    "print(\"All Threads Finished\")"
   ]
  },
  {
   "cell_type": "markdown",
   "id": "4bc52fbf-9205-4d9e-a59b-b3aa59295228",
   "metadata": {},
   "source": [
    "In this example, we create a new thread by creating a Thread object and passing it a target function (my_function). We then start the thread by calling its start method and wait for it to finish by calling its join method. Finally, we print a message indicating that all threads have finished."
   ]
  },
  {
   "cell_type": "markdown",
   "id": "9a7b3a10-1097-4494-9c52-13405106ac2d",
   "metadata": {},
   "source": [
    "#### **Q2. Why threading module used? Write the use of the following functions**\n",
    "* 1. activeCount()\n",
    "* 2. currentThread()\n",
    "* 3. enumerate()"
   ]
  },
  {
   "cell_type": "markdown",
   "id": "c6dd5deb-6165-4118-a970-6d3aa8e9c717",
   "metadata": {},
   "source": [
    "The threading module is used in Python to handle multithreading in a program. It provides a way to create and manage threads and provides several synchronization primitives to coordinate the execution of threads and avoid race conditions. The threading module is used in applications where concurrent execution is required to achieve better performance, responsiveness, and scalability.\n",
    "Here are some use cases of the functions in the threading module:\n",
    "\n",
    "**activeCount():** This function returns the number of currently active Thread objects in the caller's thread. This can be useful to determine the number of threads that are currently running and to track the progress of a multithreaded application.\n",
    "\n",
    "**currentThread():** This function returns a reference to the current Thread object. This can be useful to obtain information about the currently executing thread, such as its name, ID, and stack trace.\n",
    "\n",
    "**enumerate():** This function returns a list of all Thread objects that are currently alive. This can be useful to obtain a list of all active threads in an application and to iterate over them to perform some operation, such as joining or stopping them.\n",
    "\n",
    "Here's an example of how to use these functions in Python:"
   ]
  },
  {
   "cell_type": "code",
   "execution_count": 5,
   "id": "5cb43f70-0036-4ab1-8701-f2a2144a1a69",
   "metadata": {},
   "outputs": [
    {
     "name": "stdout",
     "output_type": "stream",
     "text": [
      "Starting Thread-6 (my_function)\n",
      "4\n",
      "Finishing Thread-6 (my_function)\n",
      "Active Threads : 6\n",
      "Thread name : MainThread, ID : 20332\n",
      "Thread name : IOPub, ID : 9148\n",
      "Thread name : Heartbeat, ID : 13248\n",
      "Thread name : Control, ID : 6096\n",
      "Thread name : IPythonHistorySavingThread, ID : 11652\n",
      "Thread name : Thread-4, ID : 10220\n"
     ]
    }
   ],
   "source": [
    "import threading\n",
    "\n",
    "def my_function(x):\n",
    "    print(f\"Starting {threading.current_thread().name}\")\n",
    "    print(x**2)\n",
    "    print(f\"Finishing {threading.current_thread().name}\")\n",
    "\n",
    "# Create a new thread\n",
    "t = threading.Thread(target=my_function, args=(2,))\n",
    "\n",
    "# Start the thread\n",
    "t.start()\n",
    "\n",
    "# Wait for the thread to finish\n",
    "t.join()\n",
    "\n",
    "# Print the number of active threads\n",
    "print(f\"Active Threads : {threading.active_count()}\")\n",
    "\n",
    "# Print the list of all alive threads\n",
    "threads = threading.enumerate()\n",
    "for thread in threads:\n",
    "    print(f\"Thread name : {thread.name}, ID : {thread.ident}\")"
   ]
  },
  {
   "cell_type": "markdown",
   "id": "6a048679-cee6-49e1-bbe9-c38af7283d79",
   "metadata": {},
   "source": [
    "In this example, we create a new thread by creating a Thread object and passing it a target function. We then start the thread, wait for it to finish, and print the number of active threads using the active_count() function. We also obtain a list of all alive threads using the enumerate() function and print their names and IDs. Finally, we print a message indicating that all threads have finished."
   ]
  },
  {
   "cell_type": "markdown",
   "id": "5e03b79d-f791-40c3-b53d-ba717e81063a",
   "metadata": {},
   "source": [
    "#### **Q3. Explain the following functions**\n",
    "* 1.run()\n",
    "* 2.start()\n",
    "* 3.join()\n",
    "* 4.isAlive()"
   ]
  },
  {
   "cell_type": "markdown",
   "id": "1da2045e-a9f4-4aca-a79c-1b6143890212",
   "metadata": {},
   "source": [
    "**run():** This method is used to run the thread's activity. It is the entry point for the thread, and it is called when the thread's start() method is called. In most cases, this method is overridden by the subclass to define the thread's behavior.\n",
    "\n",
    "**start():** This method is used to start the thread's activity. It causes the thread to begin execution and invokes the thread's run() method in a separate thread of control. Once a thread is started, it is considered alive until it terminates.\n",
    "\n",
    "**join():** This method is used to wait for the thread to complete its task. It blocks the calling thread until the thread whose join() method is called completes its task. If the optional timeout parameter is specified, it specifies the maximum time the calling thread will wait for the thread to complete.\n",
    "\n",
    "**isAlive():** This method is used to check whether the thread is alive. It returns True if the thread is currently executing, and False otherwise.\n",
    "\n",
    "Here's an example of how to use these functions and methods in Python:"
   ]
  },
  {
   "cell_type": "code",
   "execution_count": 8,
   "id": "d84b0595-bec2-4f20-9846-9e8407832a3d",
   "metadata": {},
   "outputs": [
    {
     "name": "stdout",
     "output_type": "stream",
     "text": [
      "Starting Thread-8 (my_function)\n",
      "4\n",
      "Finishing Thread-8 (my_function)\n",
      "Thread is alive: False\n",
      "All threads finished\n"
     ]
    }
   ],
   "source": [
    "import threading\n",
    "\n",
    "def my_function(x):\n",
    "    print(f\"Starting {threading.current_thread().name}\")\n",
    "    print(x**2)\n",
    "    print(f\"Finishing {threading.current_thread().name}\")\n",
    "    \n",
    "# Create a new thread\n",
    "t = threading.Thread(target=my_function, args=(2,))\n",
    "\n",
    "# Start the thread\n",
    "t.start()\n",
    "\n",
    "# Wait for the thread to finish\n",
    "t.join()\n",
    "\n",
    "# Check if the thread is alive\n",
    "print(f\"Thread is alive: {t.is_alive()}\")\n",
    "\n",
    "print(\"All threads finished\")"
   ]
  },
  {
   "cell_type": "markdown",
   "id": "a3db400a-d371-45a4-9976-e560e2ecee99",
   "metadata": {},
   "source": [
    "In this example, we create a new thread by creating a Thread object and passing it a target function and a name. We then start the thread using the start() method and wait for it to finish using the join() method. We also check whether the thread is alive using the is_alive() method and print a message indicating whether the thread is alive or not. Finally, we print a message indicating that all threads have finished."
   ]
  },
  {
   "cell_type": "markdown",
   "id": "9016a3e4-fb63-4541-8090-95937b5a1768",
   "metadata": {},
   "source": [
    "#### **Q4. Write a python program to create two threads. Thread one must print the list of squares and thread two must print the list of cubes**"
   ]
  },
  {
   "cell_type": "code",
   "execution_count": 1,
   "id": "5ebe9740-43d1-4b6a-b24b-1602cf72e945",
   "metadata": {},
   "outputs": [
    {
     "name": "stdout",
     "output_type": "stream",
     "text": [
      "Calling the square numbers\n",
      "Square :  4\n",
      "Calling the cube numbers\n",
      "Cube :  8\n",
      "Cube : Square :  9\n",
      " 27\n",
      "Square : Cube :  64\n",
      " 16\n",
      "Cube : Square :  25\n",
      " 125\n",
      "Cube : Square :  36\n",
      " 216\n"
     ]
    }
   ],
   "source": [
    "import threading\n",
    "import time\n",
    "\n",
    "def cal_square(numbers):\n",
    "    print(\"Calling the square numbers\")\n",
    "    for number in numbers:\n",
    "        print(\"Square : \", number**2)\n",
    "        time.sleep(1)\n",
    "\n",
    "def cal_cube(numbers):\n",
    "    print(\"Calling the cube numbers\")\n",
    "    for number in numbers:\n",
    "        print(\"Cube : \", number**3)\n",
    "        time.sleep(1)\n",
    "        \n",
    "my_numbers = [2,3,4,5,6]\n",
    "\n",
    "t1 = threading.Thread(target=cal_square, args=(my_numbers,))\n",
    "t2 = threading.Thread(target=cal_cube, args=(my_numbers,))\n",
    "        \n",
    "t1.start()\n",
    "t2.start()\n",
    "\n",
    "t1.join()\n",
    "t2.join()"
   ]
  },
  {
   "cell_type": "markdown",
   "id": "d378459d-9e82-4066-8be2-6aa77e068272",
   "metadata": {},
   "source": [
    "#### **Q5. State advantages and disadvantages of multithreading**"
   ]
  },
  {
   "cell_type": "markdown",
   "id": "8d45a102-c65b-44ae-a0c6-1bfecbb7b451",
   "metadata": {},
   "source": [
    "Multithreading is a programming technique that involves running multiple threads within a single process to execute different parts of the program in parallel. Here are some advantages and disadvantages of multithreading:\n",
    "\n",
    "**Advantages:**\n",
    "\n",
    "* Improved performance: Multithreading can improve performance by allowing different parts of the program to run in parallel. This can be especially useful for programs that involve time-consuming operations, such as I/O or calculations.\n",
    "\n",
    "* Better resource utilization: Multithreading can help to better utilize system resources, such as CPU time and memory. By dividing the work among multiple threads, a program can use resources more efficiently.\n",
    "\n",
    "* Enhanced responsiveness: Multithreading can help to make a program more responsive to user input. By running time-consuming tasks in the background on separate threads, the main thread can continue to respond to user actions.\n",
    "\n",
    "* Simplified code: In some cases, multithreading can simplify the code of a program by allowing complex tasks to be split into simpler, smaller tasks that can be executed concurrently.\n",
    "\n",
    "**Disadvantages:**\n",
    "\n",
    "* Increased complexity: Multithreading can make a program more complex, as it requires careful synchronization and communication between threads. This can lead to issues such as deadlocks, race conditions, and other synchronization problems.\n",
    "\n",
    "* Difficult debugging: Multithreaded programs can be difficult to debug, as issues can be hard to reproduce and diagnose. Problems can also occur due to the non-deterministic behavior of threads.\n",
    "\n",
    "* Increased memory usage: Multithreading can increase memory usage, as each thread requires its own stack space and memory for synchronization and communication.\n",
    "\n",
    "* Difficulty in implementation: Implementing multithreaded code can be difficult, especially for developers who are not familiar with the concepts of thread safety, synchronization, and parallel programming."
   ]
  },
  {
   "cell_type": "markdown",
   "id": "02d4be95-1742-4c2f-abd6-563ae15dc13c",
   "metadata": {},
   "source": [
    "#### **Q6. Explain deadlocks and race conditions.**"
   ]
  },
  {
   "cell_type": "markdown",
   "id": "2d3696c9-a73e-41cf-bd9b-3eb5816cd9ff",
   "metadata": {},
   "source": [
    "Deadlocks and race conditions are common issues that can occur when developing multithreaded applications.\n",
    "\n",
    "**Deadlocks:**\n",
    "A deadlock is a situation where two or more threads are blocked and waiting for each other to release resources, such as locks or other shared resources. This situation can occur when multiple threads hold locks on resources and are waiting for other threads to release their locks. Deadlocks can result in a program freezing or becoming unresponsive, and they can be difficult to debug and resolve.\n",
    "\n",
    "For example, consider a scenario where two threads need to access two resources A and B, but each thread holds one resource and is waiting for the other to release the other resource. In this case, both threads can become blocked and enter a deadlock state, preventing the program from making further progress.\n",
    "\n",
    "**Race Conditions:**\n",
    "A race condition is a situation where the behavior of a program depends on the order and timing of operations. This can occur when multiple threads access shared resources and attempt to modify them concurrently, leading to unexpected behavior or results.\n",
    "\n",
    "For example, consider a scenario where two threads are incrementing a shared counter variable. If the threads access the counter variable concurrently, it's possible for them to read the same value, and then increment it and write it back, resulting in only one increment being applied instead of two. This can lead to incorrect results or unpredictable behavior."
   ]
  },
  {
   "cell_type": "code",
   "execution_count": null,
   "id": "03f5f3b7-b0ba-48e8-98d3-a43bc6b8b6d4",
   "metadata": {},
   "outputs": [],
   "source": []
  }
 ],
 "metadata": {
  "kernelspec": {
   "display_name": "Python 3 (ipykernel)",
   "language": "python",
   "name": "python3"
  },
  "language_info": {
   "codemirror_mode": {
    "name": "ipython",
    "version": 3
   },
   "file_extension": ".py",
   "mimetype": "text/x-python",
   "name": "python",
   "nbconvert_exporter": "python",
   "pygments_lexer": "ipython3",
   "version": "3.10.9"
  }
 },
 "nbformat": 4,
 "nbformat_minor": 5
}
