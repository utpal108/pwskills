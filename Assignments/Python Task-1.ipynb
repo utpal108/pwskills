{
 "cells": [
  {
   "cell_type": "markdown",
   "id": "438ab6a8-434f-4f9d-9066-65ffa5587c9c",
   "metadata": {},
   "source": [
    "## Python Task-1"
   ]
  },
  {
   "cell_type": "markdown",
   "id": "1a0fe2eb-02e6-45df-96e0-209bec1db555",
   "metadata": {},
   "source": [
    "**Q1. Create a function which will take a list as an argument and return the product of all the numbers\n",
    "after creating a flat list.\n",
    "Use the below-given list as an argument for your function.\n",
    "list1 = [1,2,3,4, [44,55,66, True], False, (34,56,78,89,34), {1,2,3,3,2,1}, {1:34, \"key2\": [55, 67, 78, 89], 4: (45,\n",
    "22, 61, 34)}, [56, 'data science'], 'Machine Learning']**\n",
    "\n",
    "**Note: you must extract numeric keys and values of the dictionary also.**"
   ]
  },
  {
   "cell_type": "code",
   "execution_count": 1,
   "id": "636522a7-0264-4bf7-ab66-d30b4f998f4d",
   "metadata": {},
   "outputs": [],
   "source": [
    "list1 = [1,2,3,4, [44,55,66, True], False, (34,56,78,89,34), {1,2,3,3,2,1}, {1:34, \"key2\": [55, 67, 78, 89], 4: (45, 22, 61, 34)}, [56, 'data science'], 'Machine Learning']"
   ]
  },
  {
   "cell_type": "code",
   "execution_count": 3,
   "id": "dbb441fb-3f34-4a37-9205-d7f467986f2a",
   "metadata": {},
   "outputs": [],
   "source": [
    "output_list = []\n",
    "def make_simle_list(items):\n",
    "    for x in items:\n",
    "        if (type(x)==int):\n",
    "           output_list.append(x) \n",
    "        elif (isinstance(x, (list, tuple, set))):\n",
    "            make_simle_list(x)\n",
    "        elif (type(x)==dict):\n",
    "            make_simle_list(x.keys())\n",
    "            make_simle_list(x.values())\n",
    "            \n",
    "    return output_list"
   ]
  },
  {
   "cell_type": "code",
   "execution_count": 4,
   "id": "82db8ca0-2885-442a-a641-b8857756bd90",
   "metadata": {},
   "outputs": [
    {
     "name": "stdout",
     "output_type": "stream",
     "text": [
      "[1, 2, 3, 4, 44, 55, 66, 34, 56, 78, 89, 34, 1, 2, 3, 1, 4, 34, 55, 67, 78, 89, 45, 22, 61, 34, 56]\n"
     ]
    }
   ],
   "source": [
    "flat_list=make_simle_list(list1)\n",
    "print(flat_list)"
   ]
  },
  {
   "cell_type": "code",
   "execution_count": 6,
   "id": "1f9e0ef6-2e6e-4f01-8a8c-dddf9684f2dd",
   "metadata": {},
   "outputs": [
    {
     "name": "stdout",
     "output_type": "stream",
     "text": [
      "4134711838987085478833841242112000\n"
     ]
    }
   ],
   "source": [
    "from functools import reduce\n",
    "result = reduce((lambda x,y : x*y), flat_list)\n",
    "print(result)"
   ]
  },
  {
   "cell_type": "code",
   "execution_count": null,
   "id": "d71f9957-9799-4b04-93b9-ecfae2af36e9",
   "metadata": {},
   "outputs": [],
   "source": []
  },
  {
   "cell_type": "markdown",
   "id": "66aea439-68db-472c-a707-c3ec97a36cb3",
   "metadata": {},
   "source": [
    "**Q2. Write a python program for encrypting a message sent to you by your friend. The logic of encryption\n",
    "should be such that, for a the output should be z. For b, the output should be y. For c, the output should\n",
    "be x respectively. Also, the whitespace should be replaced with a dollar sign. Keep the punctuation\n",
    "marks unchanged.**\n",
    "\n",
    "**Input Sentence: I want to become a Data Scientist.**\n",
    "\n",
    "**Encrypt the above input sentence using the program you just created.**\n",
    "\n",
    "**Note: Convert the given input sentence into lowercase before encrypting. The final output should be\n",
    "lowercase.**"
   ]
  },
  {
   "cell_type": "code",
   "execution_count": 9,
   "id": "ae7c559a-6e3a-4639-97ff-92ff42dafbf7",
   "metadata": {},
   "outputs": [
    {
     "name": "stdout",
     "output_type": "stream",
     "text": [
      "r$dzmg$gl$yvxlnv$z$wzgz$hxrvmgrhg.\n"
     ]
    }
   ],
   "source": [
    "eng_letters = [\"a\",\"b\",\"c\",\"d\",\"e\",\"f\",\"g\",\"h\",\"i\",\"j\",\"k\",\"l\",\"m\",\"n\",\"o\",\"p\",\"q\",\"r\",\"s\",\"t\",\"u\",\"v\",\"w\",\"x\",\"y\",\"z\"]\n",
    "\n",
    "input = \"I want to become a Data Scientist.\".replace(\" \", \"$\").lower()\n",
    "output = \"\"\n",
    "for index,value in enumerate(input):\n",
    "    if value in eng_letters:\n",
    "        value=eng_letters[25-eng_letters.index(value)]\n",
    "    output+=value\n",
    "    \n",
    "print(output)"
   ]
  }
 ],
 "metadata": {
  "kernelspec": {
   "display_name": "Python 3 (ipykernel)",
   "language": "python",
   "name": "python3"
  },
  "language_info": {
   "codemirror_mode": {
    "name": "ipython",
    "version": 3
   },
   "file_extension": ".py",
   "mimetype": "text/x-python",
   "name": "python",
   "nbconvert_exporter": "python",
   "pygments_lexer": "ipython3",
   "version": "3.10.9"
  }
 },
 "nbformat": 4,
 "nbformat_minor": 5
}
