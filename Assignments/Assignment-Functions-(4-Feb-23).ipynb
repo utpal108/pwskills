{
 "cells": [
  {
   "cell_type": "markdown",
   "id": "36c66ea8-210c-48ed-8f68-28df2a0a73c1",
   "metadata": {},
   "source": [
    "## Assignment on Functions"
   ]
  },
  {
   "cell_type": "markdown",
   "id": "f7d80f9e-e171-438c-b88a-d6c764097f59",
   "metadata": {},
   "source": [
    "**1. Create a python program to sort the given list of tuples based on integer value using a\n",
    "lambda function.\n",
    "[('Sachin Tendulkar', 34357), ('Ricky Ponting', 27483), ('Jack Kallis', 25534), ('Virat Kohli', 24936)]**"
   ]
  },
  {
   "cell_type": "code",
   "execution_count": 5,
   "id": "2da9857e-8c53-45c0-b5f7-a1dff6be911a",
   "metadata": {},
   "outputs": [
    {
     "name": "stdout",
     "output_type": "stream",
     "text": [
      "[('Sachin Tendulkar', 34357), ('Ricky Ponting', 27483), ('Jack Kallis', 25534), ('Virat Kohli', 24936)]\n"
     ]
    }
   ],
   "source": [
    "players = [('Sachin Tendulkar', 34357), ('Ricky Ponting', 27483), ('Jack Kallis', 25534), ('Virat Kohli', 24936)]\n",
    "sorted_players = sorted(players, key=lambda x:x[1], reverse=True)\n",
    "print(sorted_players)"
   ]
  },
  {
   "cell_type": "code",
   "execution_count": null,
   "id": "0f0fcc94-47b8-4551-9650-4ca7f2bfb313",
   "metadata": {},
   "outputs": [],
   "source": []
  },
  {
   "cell_type": "markdown",
   "id": "f030651a-8d1c-4100-b833-bccf2abc55c6",
   "metadata": {},
   "source": [
    "**2. Write a Python Program to find the squares of all the numbers in the given list of integers using\n",
    "lambda and map functions.\n",
    "[1, 2, 3, 4, 5, 6, 7, 8, 9, 10]**"
   ]
  },
  {
   "cell_type": "code",
   "execution_count": 7,
   "id": "b753a69a-043e-43c1-a38c-88a49b797410",
   "metadata": {},
   "outputs": [
    {
     "name": "stdout",
     "output_type": "stream",
     "text": [
      "[1, 4, 9, 16, 25, 36, 49, 64, 81, 100]\n"
     ]
    }
   ],
   "source": [
    "numbers = [1, 2, 3, 4, 5, 6, 7, 8, 9, 10]\n",
    "new_numbers = map(lambda x:x**2, numbers)\n",
    "print(list(new_numbers))"
   ]
  },
  {
   "cell_type": "code",
   "execution_count": null,
   "id": "aa8206b8-b98f-4d3e-af6d-1cf7e6c28eaa",
   "metadata": {},
   "outputs": [],
   "source": []
  },
  {
   "cell_type": "markdown",
   "id": "48f7f781-84d3-47af-ab94-78140255851c",
   "metadata": {},
   "source": [
    "**3. Write a python program to convert the given list of integers into a tuple of strings. Use map and\n",
    "lambda functions\n",
    "Given String: [1, 2, 3, 4, 5, 6, 7, 8, 9, 10]\n",
    "Expected output: ('1', '2', '3', '4', '5', '6', '7', '8', '9', '10')**"
   ]
  },
  {
   "cell_type": "code",
   "execution_count": 8,
   "id": "09686680-bb8b-485d-96fb-ca336f6fe5b7",
   "metadata": {},
   "outputs": [
    {
     "name": "stdout",
     "output_type": "stream",
     "text": [
      "('1', '2', '3', '4', '5', '6', '7', '8', '9', '10')\n"
     ]
    }
   ],
   "source": [
    "my_list = [1, 2, 3, 4, 5, 6, 7, 8, 9, 10]\n",
    "my_tuple = tuple(map(lambda x: str(x), my_list))\n",
    "print(my_tuple)"
   ]
  },
  {
   "cell_type": "code",
   "execution_count": null,
   "id": "885217d3-e1c0-4b8d-9214-76c25be89bce",
   "metadata": {},
   "outputs": [],
   "source": []
  },
  {
   "cell_type": "markdown",
   "id": "570a8462-cfc4-42ba-a4e9-4b1f6c86d47f",
   "metadata": {},
   "source": [
    "**4. Write a python program using reduce function to compute the product of a list containing numbers\n",
    "from 1 to 25.**"
   ]
  },
  {
   "cell_type": "code",
   "execution_count": 12,
   "id": "01c8f984-6864-4945-bcd5-8d08eb9a7b2d",
   "metadata": {},
   "outputs": [
    {
     "name": "stdout",
     "output_type": "stream",
     "text": [
      "15511210043330985984000000\n"
     ]
    }
   ],
   "source": [
    "from functools import reduce\n",
    "\n",
    "product_of_numbers = reduce((lambda x,y: x*y), range(1,26))\n",
    "print(product_of_numbers)"
   ]
  },
  {
   "cell_type": "code",
   "execution_count": null,
   "id": "2c5cf728-eedb-4ae2-b08b-521ac8ef71f6",
   "metadata": {},
   "outputs": [],
   "source": []
  },
  {
   "cell_type": "markdown",
   "id": "52453534-b8f6-434b-8eb3-92c7def75f8c",
   "metadata": {},
   "source": [
    "**5. Write a python program to filter the numbers in a given list that are divisible by 2 and 3 using the\n",
    "filter function.\n",
    "[2, 3, 6, 9, 27, 60, 90, 120, 55, 46]**"
   ]
  },
  {
   "cell_type": "code",
   "execution_count": 20,
   "id": "8aa1b744-4bc1-44ac-9dc5-6c4a34f29531",
   "metadata": {},
   "outputs": [
    {
     "name": "stdout",
     "output_type": "stream",
     "text": [
      "[6, 60, 90, 120]\n"
     ]
    }
   ],
   "source": [
    "my_list = [2, 3, 6, 9, 27, 60, 90, 120, 55, 46]\n",
    "new_list = filter(lambda x: x%2==0 and x%3==0, my_list)\n",
    "print(list(new_list))"
   ]
  },
  {
   "cell_type": "code",
   "execution_count": null,
   "id": "2634816e-9003-4b49-a12a-177616206569",
   "metadata": {},
   "outputs": [],
   "source": []
  },
  {
   "cell_type": "markdown",
   "id": "0b94e740-2ca0-425f-b0c3-38cbb9b4e77e",
   "metadata": {},
   "source": [
    "**6. Write a python program to find palindromes in the given list of strings using lambda and filter\n",
    "function.\n",
    "['python', 'php', 'aba', 'radar', 'level']**"
   ]
  },
  {
   "cell_type": "code",
   "execution_count": 6,
   "id": "4e4f7dab-c655-4412-8376-8b06c0d8105f",
   "metadata": {},
   "outputs": [
    {
     "name": "stdout",
     "output_type": "stream",
     "text": [
      "['php', 'aba', 'radar', 'level']\n"
     ]
    }
   ],
   "source": [
    "languages = ['python', 'php', 'aba', 'radar', 'level']\n",
    "result = filter(lambda x: x==x[::-1], languages)\n",
    "print(list(result))"
   ]
  }
 ],
 "metadata": {
  "kernelspec": {
   "display_name": "Python 3 (ipykernel)",
   "language": "python",
   "name": "python3"
  },
  "language_info": {
   "codemirror_mode": {
    "name": "ipython",
    "version": 3
   },
   "file_extension": ".py",
   "mimetype": "text/x-python",
   "name": "python",
   "nbconvert_exporter": "python",
   "pygments_lexer": "ipython3",
   "version": "3.10.9"
  }
 },
 "nbformat": 4,
 "nbformat_minor": 5
}
