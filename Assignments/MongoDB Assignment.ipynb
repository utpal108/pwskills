{
 "cells": [
  {
   "cell_type": "markdown",
   "id": "ffeb1170-0058-4355-83b2-2469e96309db",
   "metadata": {},
   "source": [
    "## MongoDB Assignment"
   ]
  },
  {
   "cell_type": "markdown",
   "id": "01a94ae3-54ea-4cae-9f48-a7616afe7065",
   "metadata": {},
   "source": [
    "**Q1. What is MongoDB? Explain non-relational databases in short. In which scenarios it is preferred to use MongoDB over SQL databases?**"
   ]
  },
  {
   "cell_type": "markdown",
   "id": "2d3ff663-fadf-44e9-a8c9-f8a1b85f2d45",
   "metadata": {},
   "source": [
    "MongoDB is a popular document-oriented NoSQL database. It stores data in flexible, JSON-like documents, meaning it can handle unstructured or semi-structured data more effectively than traditional relational databases.\n",
    "\n",
    "Non-relational databases, also known as NoSQL databases, store data in a more flexible and dynamic way compared to traditional relational databases. While relational databases organize data into tables with fixed columns and rows, NoSQL databases allow data to be stored in various ways, such as key-value pairs, documents, graphs, or object-oriented databases.\n",
    "\n",
    "MongoDB is often preferred over SQL databases in scenarios where:\n",
    "\n",
    "* Scalability: MongoDB is highly scalable and can handle large amounts of unstructured data, making it ideal for big data applications.\n",
    "\n",
    "* Flexibility: MongoDB's document model allows for easy handling of semi-structured data that can change over time, making it more adaptable to changing business requirements.\n",
    "\n",
    "* High availability: MongoDB is designed to provide high availability and can easily replicate data across multiple servers, making it a good choice for mission-critical applications that require minimal downtime.\n",
    "\n",
    "* Agile development: MongoDB supports agile development methodologies and allows for rapid iteration and deployment of changes.\n",
    "\n",
    "* Complex queries: MongoDB's powerful query language and indexing capabilities allow for complex queries and ad-hoc reporting.\n",
    "\n",
    "Overall, MongoDB is a good choice for applications that require flexible data modeling, scalability, high availability, and agile development, while SQL databases are better suited for applications that require strict data consistency and transactions."
   ]
  },
  {
   "cell_type": "code",
   "execution_count": null,
   "id": "ec63dd37-5cad-44a5-92cc-f5da5eaa5fc1",
   "metadata": {},
   "outputs": [],
   "source": []
  },
  {
   "cell_type": "markdown",
   "id": "8a5c00d8-45da-45c8-8a7f-eacd50e11185",
   "metadata": {},
   "source": [
    "**Q2. State and Explain the features of MongoDB.**"
   ]
  },
  {
   "cell_type": "markdown",
   "id": "d186c015-3afe-4856-b937-526db3bfa2fa",
   "metadata": {},
   "source": [
    "MongoDB is a popular document-oriented NoSQL database that offers several features that make it ideal for handling unstructured or semi-structured data. Some of the key features of MongoDB are:\n",
    "\n",
    "* **Document-oriented:** MongoDB is a document-oriented database, which means it stores data in flexible JSON-like documents, rather than tables with fixed columns and rows. This makes it easier to handle unstructured and semi-structured data.\n",
    "\n",
    "* **Dynamic Schema:** MongoDB's dynamic schema means that the structure of documents can vary from one document to another. This makes it easier to adapt to changes in data requirements.\n",
    "\n",
    "* **Scalability:** MongoDB is highly scalable and can handle large amounts of data, making it ideal for big data applications. It can also be easily scaled horizontally by adding more servers to a cluster.\n",
    "\n",
    "* **High Availability:** MongoDB is designed to provide high availability and can easily replicate data across multiple servers, making it a good choice for mission-critical applications that require minimal downtime.\n",
    "\n",
    "* **Indexing and Querying:** MongoDB offers powerful indexing and querying capabilities that make it easy to search and retrieve data. It supports ad-hoc queries and dynamic queries, and can even perform queries across multiple collections and databases.\n",
    "\n",
    "* **Aggregation:** MongoDB supports aggregation, which allows for complex data analysis and reporting. This feature includes grouping, filtering, and transforming data.\n",
    "\n",
    "* **Security:** MongoDB provides robust security features, including encryption, authentication, and authorization. It also supports role-based access control (RBAC) and field-level access control.\n",
    "\n",
    "* **Support for Multiple Data Types:** MongoDB supports a wide range of data types, including arrays, strings, integers, and even geospatial data.\n",
    "\n",
    "Overall, MongoDB's flexible document-oriented data model, scalability, high availability, powerful indexing and querying, and security features make it an attractive choice for modern applications that require handling of unstructured or semi-structured data."
   ]
  },
  {
   "cell_type": "markdown",
   "id": "7a30b630-4fb6-462e-a06a-b15c95599267",
   "metadata": {},
   "source": [
    "**Q3. Write a code to connect MongoDB to Python. Also, create a database and a collection in MongoDB.**"
   ]
  },
  {
   "cell_type": "code",
   "execution_count": 34,
   "id": "e727a6f9-0fdb-4383-8ee8-11363ffadcfc",
   "metadata": {},
   "outputs": [],
   "source": [
    "import pymongo\n",
    "\n",
    "# Set up a client to connect to MangoDB\n",
    "client = pymongo.MongoClient(\"mongodb+srv://utpal123:<password>@cluster0.ipcemmi.mongodb.net/?retryWrites=true&w=majority\")\n",
    "\n",
    "# Create a new database called \"mydatabase\"\n",
    "mydb = client[\"mydatabase\"]\n",
    "\n",
    "# Create a new collection called \"customers\" in the \"mydatabase\" database\n",
    "mycol = mydb[\"customers\"]\n"
   ]
  },
  {
   "cell_type": "markdown",
   "id": "14713a49-5e1d-47a7-8034-a127f1125af5",
   "metadata": {},
   "source": [
    "**Q4. Using the database and the collection created in question number 3, write a code to insert one record,\n",
    "and insert many records. Use the find() and find_one() methods to print the inserted record.**"
   ]
  },
  {
   "cell_type": "code",
   "execution_count": 35,
   "id": "55ea2d4a-3c14-405b-87e9-c01c2f3bfdc9",
   "metadata": {},
   "outputs": [
    {
     "data": {
      "text/plain": [
       "<pymongo.results.InsertOneResult at 0x1a22ae4a590>"
      ]
     },
     "execution_count": 35,
     "metadata": {},
     "output_type": "execute_result"
    }
   ],
   "source": [
    "# Insert single data\n",
    "customer1 = {\n",
    "    \"name\":\"Hasan Mahamud\",\n",
    "    \"contact_no\":7283893,\n",
    "    \"email\":\"hasan@gmail.com\",\n",
    "    \"location\":\"Hydrabad\"\n",
    "}\n",
    "\n",
    "mycol.insert_one(customer1)"
   ]
  },
  {
   "cell_type": "code",
   "execution_count": 36,
   "id": "96432e75-9e1c-4fb1-8080-6d47dad18c41",
   "metadata": {},
   "outputs": [
    {
     "data": {
      "text/plain": [
       "<pymongo.results.InsertManyResult at 0x1a22aefcd60>"
      ]
     },
     "execution_count": 36,
     "metadata": {},
     "output_type": "execute_result"
    }
   ],
   "source": [
    "# Insert multiple data\n",
    "customer_list =[\n",
    "    {\n",
    "        \"name\":\"Komal Hasan\",\n",
    "        \"contact_no\":3949499,\n",
    "        \"email\":\"komal@gmail.com\",\n",
    "        \"location\":\"Kolkata\"\n",
    "    },\n",
    "    {\n",
    "        \"name\":\"Rajesh Gosh\",\n",
    "        \"contact_no\":404040,\n",
    "        \"email\":\"rajesh@gmail.com\",\n",
    "        \"location\":\"Dubai\"\n",
    "    },\n",
    "    {\n",
    "        \"name\":\"Shibli Sadik\",\n",
    "        \"contact_no\":7838380,\n",
    "        \"email\":\"shibli@gmail.com\",\n",
    "        \"location\":\"Chennai\"\n",
    "    }\n",
    "]\n",
    "\n",
    "mycol.insert_many(customer_list)"
   ]
  },
  {
   "cell_type": "code",
   "execution_count": 37,
   "id": "43295ac7-37c7-4a55-81a5-50ea51935049",
   "metadata": {},
   "outputs": [
    {
     "name": "stdout",
     "output_type": "stream",
     "text": [
      "{'_id': ObjectId('63fac1b0c32b101cdcc35f05'), 'name': 'Hasan Mahamud', 'contact_no': 7283893, 'email': 'hasan@gmail.com', 'location': 'Hydrabad'}\n",
      "{'_id': ObjectId('63fac1b2c32b101cdcc35f06'), 'name': 'Komal Hasan', 'contact_no': 3949499, 'email': 'komal@gmail.com', 'location': 'Kolkata'}\n",
      "{'_id': ObjectId('63fac1b2c32b101cdcc35f07'), 'name': 'Rajesh Gosh', 'contact_no': 404040, 'email': 'rajesh@gmail.com', 'location': 'Dubai'}\n",
      "{'_id': ObjectId('63fac1b2c32b101cdcc35f08'), 'name': 'Shibli Sadik', 'contact_no': 7838380, 'email': 'shibli@gmail.com', 'location': 'Chennai'}\n"
     ]
    }
   ],
   "source": [
    "# Print all data\n",
    "for customer in mycol.find():\n",
    "    print(customer)"
   ]
  },
  {
   "cell_type": "code",
   "execution_count": 38,
   "id": "4cbf59a2-bc67-4807-a030-82cab709263b",
   "metadata": {},
   "outputs": [
    {
     "data": {
      "text/plain": [
       "{'_id': ObjectId('63fac1b0c32b101cdcc35f05'),\n",
       " 'name': 'Hasan Mahamud',\n",
       " 'contact_no': 7283893,\n",
       " 'email': 'hasan@gmail.com',\n",
       " 'location': 'Hydrabad'}"
      ]
     },
     "execution_count": 38,
     "metadata": {},
     "output_type": "execute_result"
    }
   ],
   "source": [
    "# Print single data\n",
    "mycol.find_one()"
   ]
  },
  {
   "cell_type": "code",
   "execution_count": null,
   "id": "277f8e2a-1fd4-4366-94c5-f7e6d069c66d",
   "metadata": {},
   "outputs": [],
   "source": []
  },
  {
   "cell_type": "markdown",
   "id": "96b31186-419e-4d69-b909-a8e2f9407bf7",
   "metadata": {},
   "source": [
    "**Q5. Explain how you can use the find() method to query the MongoDB database. Write a simple code to\n",
    "demonstrate this.**"
   ]
  },
  {
   "cell_type": "markdown",
   "id": "b926749f-6295-4ef7-92f9-960e66923ab9",
   "metadata": {},
   "source": [
    "The **find()** method is one of the most commonly used methods for querying data from a MongoDB database. It is used to retrieve data from a specified collection in a database based on certain criteria. The find() method returns a cursor object that can be used to iterate over the matching documents.\n",
    "\n",
    "To use the find() method, we need to specify the collection to query and provide a query filter. The query filter is a document that specifies the criteria for the query. The find() method can also accept additional parameters such as projection, sorting, and limiting options.\n",
    "\n",
    "Here's a simple code example demonstrating the use of the find() method to query a MongoDB database:"
   ]
  },
  {
   "cell_type": "code",
   "execution_count": 39,
   "id": "9358a3f7-96b1-4ada-b350-5c05a95bbd70",
   "metadata": {},
   "outputs": [
    {
     "name": "stdout",
     "output_type": "stream",
     "text": [
      "{'_id': ObjectId('63fac1b2c32b101cdcc35f06'), 'name': 'Komal Hasan', 'contact_no': 3949499, 'email': 'komal@gmail.com', 'location': 'Kolkata'}\n"
     ]
    }
   ],
   "source": [
    "# Retrive customers, those are from Kolkata\n",
    "\n",
    "filter_customers = mycol.find({\"location\":\"Kolkata\"})\n",
    "for customer in filter_customers:\n",
    "    print(customer)"
   ]
  },
  {
   "cell_type": "code",
   "execution_count": 40,
   "id": "aea6ef7d-2b0c-4aac-9e22-63c26dd98701",
   "metadata": {},
   "outputs": [
    {
     "name": "stdout",
     "output_type": "stream",
     "text": [
      "{'_id': ObjectId('63fac1b0c32b101cdcc35f05'), 'name': 'Hasan Mahamud', 'contact_no': 7283893, 'email': 'hasan@gmail.com', 'location': 'Hydrabad'}\n",
      "{'_id': ObjectId('63fac1b2c32b101cdcc35f06'), 'name': 'Komal Hasan', 'contact_no': 3949499, 'email': 'komal@gmail.com', 'location': 'Kolkata'}\n"
     ]
    }
   ],
   "source": [
    "# Retrive all customers, those are from Kolkata and Hy\n",
    "\n",
    "filter_customers=mycol.find({\"location\":{\"$in\":[\"Kolkata\", \"Hydrabad\"]}})\n",
    "for customer in filter_customers:\n",
    "    print(customer)"
   ]
  },
  {
   "cell_type": "markdown",
   "id": "36b7a61d-b510-4f48-8c5f-ae440561c82b",
   "metadata": {},
   "source": [
    "**Q6. Explain the sort() method. Give an example to demonstrate sorting in MongoDB.**"
   ]
  },
  {
   "cell_type": "markdown",
   "id": "9c6ee2fd-5bab-4ed7-a116-06f63a0371e7",
   "metadata": {},
   "source": [
    "The **sort()** method in MongoDB is used to sort the results of a query in ascending or descending order. The **sort()** method takes a sorting document as an argument, which specifies the fields to sort by and the sorting order.\n",
    "\n",
    "The sorting document is a Python dictionary where the keys represent the fields to sort by and the values indicate the sorting order. The sorting order can be specified using the integers 1 and -1, where 1 indicates ascending order and -1 indicates descending order.\n",
    "\n",
    "Here's an example of using the sort() method in MongoDB:"
   ]
  },
  {
   "cell_type": "code",
   "execution_count": 19,
   "id": "b78bc5e4-4555-42a8-bc3a-3fddd7402922",
   "metadata": {},
   "outputs": [
    {
     "name": "stdout",
     "output_type": "stream",
     "text": [
      "{'_id': ObjectId('63fab7f4c32b101cdcc35eff'), 'name': 'Shibli Sadik', 'contact_no': 7838380, 'email': 'shibli@gmail.com', 'location': 'Chennai'}\n",
      "{'_id': ObjectId('63fab7f4c32b101cdcc35efe'), 'name': 'Rajesh Gosh', 'contact_no': 404040, 'email': 'rajesh@gmail.com', 'location': 'Dubai'}\n",
      "{'_id': ObjectId('63fab709c32b101cdcc35efc'), 'name': 'Hasan Mahamud', 'contact_no': 7283893, 'email': 'hasan@gmail.com', 'location': 'Hydrabad'}\n",
      "{'_id': ObjectId('63fab7f4c32b101cdcc35efd'), 'name': 'Komal Hasan', 'contact_no': 3949499, 'email': 'komal@gmail.com', 'location': 'Kolkata'}\n"
     ]
    }
   ],
   "source": [
    "filter_customers = mycol.find().sort(\"location\",1)\n",
    "for customer in filter_customers:\n",
    "    print(customer)"
   ]
  },
  {
   "cell_type": "code",
   "execution_count": 20,
   "id": "80b0afd2-2244-4419-a34d-49184981dcf8",
   "metadata": {},
   "outputs": [
    {
     "name": "stdout",
     "output_type": "stream",
     "text": [
      "{'_id': ObjectId('63fab7f4c32b101cdcc35efd'), 'name': 'Komal Hasan', 'contact_no': 3949499, 'email': 'komal@gmail.com', 'location': 'Kolkata'}\n",
      "{'_id': ObjectId('63fab709c32b101cdcc35efc'), 'name': 'Hasan Mahamud', 'contact_no': 7283893, 'email': 'hasan@gmail.com', 'location': 'Hydrabad'}\n",
      "{'_id': ObjectId('63fab7f4c32b101cdcc35efe'), 'name': 'Rajesh Gosh', 'contact_no': 404040, 'email': 'rajesh@gmail.com', 'location': 'Dubai'}\n",
      "{'_id': ObjectId('63fab7f4c32b101cdcc35eff'), 'name': 'Shibli Sadik', 'contact_no': 7838380, 'email': 'shibli@gmail.com', 'location': 'Chennai'}\n"
     ]
    }
   ],
   "source": [
    "filter_customers = mycol.find().sort(\"location\",-1)\n",
    "for customer in filter_customers:\n",
    "    print(customer)"
   ]
  },
  {
   "cell_type": "code",
   "execution_count": null,
   "id": "2455d520-65b9-4888-a92f-3308a6c6047e",
   "metadata": {},
   "outputs": [],
   "source": []
  },
  {
   "cell_type": "markdown",
   "id": "e86005ac-0974-4875-83cc-08db52a7b953",
   "metadata": {},
   "source": [
    "**Q7. Explain why delete_one(), delete_many(), and drop() is used.**"
   ]
  },
  {
   "cell_type": "markdown",
   "id": "73e7edcb-b11f-4dc0-888f-661626ee87fb",
   "metadata": {},
   "source": [
    "In MongoDB, **delete_one()**, **delete_many()**, and **drop()** are used to remove data from a collection or a database.\n",
    "\n",
    "**delete_one()** is used to delete a single document that matches a specified filter. It removes the first matching document it finds and stops searching. This method is useful when we want to delete a single document from a collection."
   ]
  },
  {
   "cell_type": "code",
   "execution_count": 21,
   "id": "81b23122-4004-4148-bba1-7ab6bfa3dec8",
   "metadata": {},
   "outputs": [
    {
     "data": {
      "text/plain": [
       "<pymongo.results.DeleteResult at 0x1a228d95150>"
      ]
     },
     "execution_count": 21,
     "metadata": {},
     "output_type": "execute_result"
    }
   ],
   "source": [
    "mycol.delete_one({\"location\":\"Dubai\"})"
   ]
  },
  {
   "cell_type": "markdown",
   "id": "d90f2497-58ad-4fba-811e-21dc0f3b4f23",
   "metadata": {},
   "source": [
    "**delete_many()** is used to delete all documents that match a specified filter. This method is useful when we want to delete multiple documents from a collection."
   ]
  },
  {
   "cell_type": "code",
   "execution_count": 27,
   "id": "4a97e9d6-44d8-4085-9a28-d43dfa7951b9",
   "metadata": {},
   "outputs": [
    {
     "data": {
      "text/plain": [
       "<pymongo.results.DeleteResult at 0x1a22989ebc0>"
      ]
     },
     "execution_count": 27,
     "metadata": {},
     "output_type": "execute_result"
    }
   ],
   "source": [
    "mycol.delete_many({\"location\":{\"$in\":[\"Kolkata\", \"Hydrabad\"]}})"
   ]
  },
  {
   "cell_type": "markdown",
   "id": "04504da5-5e5e-4d09-9520-5faf3eadd7a3",
   "metadata": {},
   "source": [
    "**drop()** is used to drop an entire collection or database. Dropping a collection deletes all the documents in the collection, but the collection itself still exists. Dropping a database deletes all the collections in the database and all the documents in those collections."
   ]
  },
  {
   "cell_type": "code",
   "execution_count": 41,
   "id": "008872c8-ffd9-4d2e-816b-dddfc13c6612",
   "metadata": {},
   "outputs": [],
   "source": [
    "mycol.drop()"
   ]
  }
 ],
 "metadata": {
  "kernelspec": {
   "display_name": "Python 3 (ipykernel)",
   "language": "python",
   "name": "python3"
  },
  "language_info": {
   "codemirror_mode": {
    "name": "ipython",
    "version": 3
   },
   "file_extension": ".py",
   "mimetype": "text/x-python",
   "name": "python",
   "nbconvert_exporter": "python",
   "pygments_lexer": "ipython3",
   "version": "3.10.9"
  }
 },
 "nbformat": 4,
 "nbformat_minor": 5
}
