{
 "cells": [
  {
   "cell_type": "markdown",
   "id": "1e666904-d7fb-45a4-9352-75b7b6ebf33b",
   "metadata": {},
   "source": [
    "## Python Assignment-2 (30 Jan)"
   ]
  },
  {
   "cell_type": "markdown",
   "id": "a6b4fba6-da8c-4730-9f62-63dfaa753e0a",
   "metadata": {},
   "source": [
    "**1. Write a program to accept percentage from the user and dispaly the grade according to the following criteria:**"
   ]
  },
  {
   "cell_type": "code",
   "execution_count": 15,
   "id": "c2b15388-628d-4ab7-b1be-00686cac4395",
   "metadata": {},
   "outputs": [
    {
     "name": "stdin",
     "output_type": "stream",
     "text": [
      "Input your percentage:  60\n"
     ]
    },
    {
     "name": "stdout",
     "output_type": "stream",
     "text": [
      "Grade : C\n"
     ]
    }
   ],
   "source": [
    "class validate(Exception):\n",
    "    def __init__(self,msg):\n",
    "        self.msg = msg\n",
    "    \n",
    "try:\n",
    "    percentage = int(input(\"Input your percentage: \"))\n",
    "    \n",
    "    if percentage<0 or percentage>100:\n",
    "        raise validate(\"Input should be between 0 to 100\")\n",
    "    \n",
    "    if percentage>90:\n",
    "        print(\"Grade : A\")\n",
    "    elif percentage>80 and percentage<=90:\n",
    "        print(\"Grade : B\")\n",
    "    elif percentage>=60 and percentage<=80:\n",
    "        print(\"Grade : C\")\n",
    "    else:\n",
    "        print(\"Grade : D\")\n",
    "        \n",
    "except validate as e:\n",
    "    print(e.msg)\n",
    "except:\n",
    "    print(\"Please input a valid percentage\")"
   ]
  },
  {
   "cell_type": "code",
   "execution_count": null,
   "id": "93b55542-6402-42ba-9a0c-f04c47c11c24",
   "metadata": {},
   "outputs": [],
   "source": []
  },
  {
   "cell_type": "markdown",
   "id": "9555431d-7660-4233-b780-2f25c4c5b28e",
   "metadata": {},
   "source": [
    "**2. Write a program to accept the cost price of a bike and dispaly the road tax to be paid according to the following criteria**"
   ]
  },
  {
   "cell_type": "code",
   "execution_count": 18,
   "id": "66e9cbc2-9a10-440a-8a5c-a0e876fe961d",
   "metadata": {},
   "outputs": [
    {
     "name": "stdin",
     "output_type": "stream",
     "text": [
      "Input bike cost price: (in Rs) 5000\n"
     ]
    },
    {
     "name": "stdout",
     "output_type": "stream",
     "text": [
      "Road Tax : 250.0 Rs\n"
     ]
    }
   ],
   "source": [
    "class validate(Exception):\n",
    "    def __init__(self,msg):\n",
    "        self.msg = msg\n",
    "\n",
    "try:\n",
    "    price = int(input(\"Input bike cost price: (in Rs)\"))\n",
    "    \n",
    "    if price<=0:\n",
    "        raise validate(\"Input must be greater than 0\")\n",
    "     \n",
    "    if price>100000:\n",
    "        print(f\"Road Tax : {price*0.15} Rs\")\n",
    "    elif price>50000 and price<=100000:\n",
    "        print(f\"Road Tax : {price*0.10} Rs\")\n",
    "    else:\n",
    "        print(f\"Road Tax : {price*0.05} Rs\")\n",
    "        \n",
    "except validate as e:\n",
    "    print(e.msg)\n",
    "except:\n",
    "    print(\"Please input a valid price\")"
   ]
  },
  {
   "cell_type": "code",
   "execution_count": null,
   "id": "21747bb3-6513-48c4-b744-b52957882917",
   "metadata": {},
   "outputs": [],
   "source": []
  },
  {
   "cell_type": "markdown",
   "id": "b3f7f962-0a8b-4097-ac03-2c31a0b01ba5",
   "metadata": {},
   "source": [
    "**3. Accept any city from the user and dispaly monuments of that city**"
   ]
  },
  {
   "cell_type": "code",
   "execution_count": 21,
   "id": "d8ff929e-1711-4aab-9a8c-6eb7e3924301",
   "metadata": {},
   "outputs": [
    {
     "name": "stdin",
     "output_type": "stream",
     "text": [
      "Type you city (including - Delhi, Agra, Jaipur):  jaIPuR\n"
     ]
    },
    {
     "name": "stdout",
     "output_type": "stream",
     "text": [
      "Your City Monument is : Jal Mahal\n"
     ]
    }
   ],
   "source": [
    "class validate(Exception):\n",
    "    def __init__(self,msg):\n",
    "        self.msg = msg\n",
    "\n",
    "try:\n",
    "    city = input(\"Type you city (including - Delhi, Agra, Jaipur): \")\n",
    "    city_list={\"delhi\":\"Red Fort\", \"agra\":\"Taj Mahal\", \"jaipur\":\"Jal Mahal\"}\n",
    "    \n",
    "    if city.lower() not in city_list:\n",
    "        raise validate(\"Please type a city within - Delhi, Agra or Jaipur\")\n",
    "    \n",
    "    print(f\"Your City Monument is : {city_list[city.lower()]}\")\n",
    "        \n",
    "except validate as e:\n",
    "    print(e.msg)\n",
    "except:\n",
    "    print(\"Please input a valid city\")"
   ]
  },
  {
   "cell_type": "code",
   "execution_count": null,
   "id": "6b8c7f5a-dd95-4041-9490-365604cced9d",
   "metadata": {},
   "outputs": [],
   "source": []
  },
  {
   "cell_type": "markdown",
   "id": "11957142-2173-4cf7-9311-50d87fe1af3c",
   "metadata": {},
   "source": [
    "**4. Check how many times a given number can be divided by 3 before it is less than or equal to 10**"
   ]
  },
  {
   "cell_type": "code",
   "execution_count": 5,
   "id": "e335286f-ab2d-4673-abbf-f28be73152d5",
   "metadata": {},
   "outputs": [
    {
     "name": "stdin",
     "output_type": "stream",
     "text": [
      "Input your number:  100\n"
     ]
    },
    {
     "name": "stdout",
     "output_type": "stream",
     "text": [
      "Number of times : 3\n"
     ]
    }
   ],
   "source": [
    "try:\n",
    "    n = int(input(\"Input your number: \"))\n",
    "    count = 0\n",
    "    \n",
    "    while n> 10:\n",
    "        n /= 3\n",
    "        count += 1\n",
    "    \n",
    "    print(f\"Number of times : {count}\")\n",
    "        \n",
    "except:\n",
    "    print(\"Please input a valid number\")"
   ]
  },
  {
   "cell_type": "code",
   "execution_count": null,
   "id": "e9864a62-67ff-41d7-b28f-7ecb3b62ca96",
   "metadata": {},
   "outputs": [],
   "source": []
  },
  {
   "cell_type": "markdown",
   "id": "8a2e92a8-d18e-4d5c-96de-7779ebe40877",
   "metadata": {},
   "source": [
    "**5. Why and When to Use while Loop in Python give a detailed description with example**"
   ]
  },
  {
   "cell_type": "markdown",
   "id": "81eb0b4c-7493-4aaf-a46e-44cc8e506049",
   "metadata": {},
   "source": [
    "A while loop is a control flow statement in Python that allows to execute a block of code repeatedly while a particular condition is true. The block of code inside the loop will continue to execute as long as the condition is true, and will stop as soon as the condition becomes false. Here are some examples of when and why we might use a while loop in Python:\n",
    "\n",
    "* Repeating a task until a condition is met: One common use of a while loop is to repeat a task until a particular condition is met. For example, suppose we are writing a program that prompts the user to enter a valid input. We can use a while loop to keep prompting the user until they enter a valid input. Here's an example:"
   ]
  },
  {
   "cell_type": "code",
   "execution_count": 13,
   "id": "19cb50c3-6276-45d3-95a7-afc2c5a5e1b2",
   "metadata": {},
   "outputs": [
    {
     "name": "stdin",
     "output_type": "stream",
     "text": [
      "Enter a number between 1 and 10:  45\n",
      "Enter a number between 1 and 10:  23\n",
      "Enter a number between 1 and 10:  1\n"
     ]
    }
   ],
   "source": [
    "num = 0\n",
    "while num < 1 or num > 10:\n",
    "    num = int(input(\"Enter a number between 1 and 10: \"))\n"
   ]
  },
  {
   "cell_type": "markdown",
   "id": "fdee176f-cf87-4eae-9a97-cf25cf87d00d",
   "metadata": {},
   "source": [
    "In this example, the while loop will continue to prompt the user to enter a number until they enter a number between 1 and 10. The loop will exit as soon as the user enters a valid number."
   ]
  },
  {
   "cell_type": "markdown",
   "id": "c10cfff4-545c-4a78-85b8-40554c9b12ea",
   "metadata": {},
   "source": [
    "* Iterating over a sequence with an unknown length: Another use of a while loop is to iterate over a sequence of elements where the exact length of the sequence is unknown. For example, suppose we are reading lines from a file and want to process each line until we reach the end of the file. We can use a while loop to keep processing lines until we reach the end of the file. Here's an example:"
   ]
  },
  {
   "cell_type": "code",
   "execution_count": 7,
   "id": "ba66d05b-6460-476f-8c0d-8cfb703a3475",
   "metadata": {},
   "outputs": [
    {
     "name": "stdout",
     "output_type": "stream",
     "text": [
      "Hello World 1\n",
      "\n",
      "Hello World 2\n",
      "\n",
      "Hello World 3\n"
     ]
    }
   ],
   "source": [
    "with open(\"test.txt\", \"r\") as f:\n",
    "    line = f.readline()\n",
    "    while line:\n",
    "        print(line)\n",
    "        line = f.readline()"
   ]
  },
  {
   "cell_type": "markdown",
   "id": "db31be74-9049-4ff9-9a5d-2b50ec0637a9",
   "metadata": {},
   "source": [
    "In summary, a while loop in Python is useful when we need to repeat a block of code while a particular condition is true. This can be used for a variety of purposes, including repeating a task until a condition is met, iterating over a sequence with an unknown length, and running an application continuously until a certain condition is met."
   ]
  },
  {
   "cell_type": "code",
   "execution_count": null,
   "id": "3b2971d1-b0c4-4a1c-b1b4-d2f000aa5209",
   "metadata": {},
   "outputs": [],
   "source": []
  },
  {
   "cell_type": "markdown",
   "id": "c45eafe7-a241-4f58-9803-a3bc4cee5611",
   "metadata": {},
   "source": [
    "**6. Use nested while loop to print 3 different pattern**"
   ]
  },
  {
   "cell_type": "code",
   "execution_count": 5,
   "id": "cb8019b7-3615-4692-949a-6ddd5977b3dc",
   "metadata": {},
   "outputs": [
    {
     "name": "stdin",
     "output_type": "stream",
     "text": [
      "No of stages :  5\n"
     ]
    },
    {
     "name": "stdout",
     "output_type": "stream",
     "text": [
      "1\n",
      "12\n",
      "123\n",
      "1234\n",
      "12345\n"
     ]
    }
   ],
   "source": [
    "# Pattern - 01\n",
    "\n",
    "n = int(input(\"No of stages : \"))\n",
    "x=1\n",
    "\n",
    "while(x<=n):\n",
    "    y=1\n",
    "    while(y<=x):\n",
    "        print(y,end=\"\")\n",
    "        y+=1\n",
    "    print(\"\")\n",
    "    x+=1"
   ]
  },
  {
   "cell_type": "code",
   "execution_count": null,
   "id": "9a47bfef-c26a-452e-986a-4474acda69bc",
   "metadata": {},
   "outputs": [],
   "source": []
  },
  {
   "cell_type": "code",
   "execution_count": 7,
   "id": "6c08855d-d144-4736-be18-d249ce495bec",
   "metadata": {},
   "outputs": [
    {
     "name": "stdin",
     "output_type": "stream",
     "text": [
      "No of stages :  5\n"
     ]
    },
    {
     "name": "stdout",
     "output_type": "stream",
     "text": [
      "1\n",
      "10\n",
      "101\n",
      "1010\n",
      "10101\n"
     ]
    }
   ],
   "source": [
    "# Pattern - 02\n",
    "\n",
    "n = int(input(\"No of stages : \"))\n",
    "x=1\n",
    "\n",
    "while(x<=n):\n",
    "    numbers=[1,0]\n",
    "    i=0\n",
    "    y=1\n",
    "    while(y<=x):\n",
    "        print(numbers[i],end=\"\")\n",
    "        y+=1\n",
    "        i+=1\n",
    "        if i == len(numbers):\n",
    "            i=0\n",
    "    print(\"\")\n",
    "    x+=1"
   ]
  },
  {
   "cell_type": "code",
   "execution_count": null,
   "id": "3ef9d49f-95b6-44af-a701-372f4ade7100",
   "metadata": {},
   "outputs": [],
   "source": []
  },
  {
   "cell_type": "code",
   "execution_count": 11,
   "id": "b582cc2e-c1c8-4909-baf2-40da63fe2201",
   "metadata": {},
   "outputs": [
    {
     "name": "stdin",
     "output_type": "stream",
     "text": [
      "No of stages :  5\n"
     ]
    },
    {
     "name": "stdout",
     "output_type": "stream",
     "text": [
      "1 \n",
      "2 3 \n",
      "4 5 6 \n",
      "7 8 9 10 \n",
      "11 12 13 14 15 \n"
     ]
    }
   ],
   "source": [
    "# Pattern - 03\n",
    "\n",
    "n = int(input(\"No of stages : \"))\n",
    "x=1\n",
    "y=1\n",
    "\n",
    "while(x<=n):\n",
    "    numbers=[1,0]\n",
    "    k=1\n",
    "    while(k<=x):\n",
    "        print(y,end=\" \")\n",
    "        y+=1\n",
    "        k+=1\n",
    "    print(\"\")\n",
    "    x+=1"
   ]
  },
  {
   "cell_type": "markdown",
   "id": "e0492d81-0010-43cf-a089-5d89065cf1aa",
   "metadata": {},
   "source": [
    "**7. Reverse a while loop to display numbers from 10 to 1**"
   ]
  },
  {
   "cell_type": "code",
   "execution_count": 7,
   "id": "8299ce4a-c874-4081-b9c4-ae530f3a7fa8",
   "metadata": {},
   "outputs": [
    {
     "name": "stdout",
     "output_type": "stream",
     "text": [
      "10\n",
      "9\n",
      "8\n",
      "7\n",
      "6\n",
      "5\n",
      "4\n",
      "3\n",
      "2\n",
      "1\n"
     ]
    }
   ],
   "source": [
    "n=10\n",
    "\n",
    "while n>=1:\n",
    "    print(n)\n",
    "    n -=1\n"
   ]
  },
  {
   "cell_type": "code",
   "execution_count": null,
   "id": "8e9a2058-33fb-4036-b76c-328ea81e33af",
   "metadata": {},
   "outputs": [],
   "source": []
  }
 ],
 "metadata": {
  "kernelspec": {
   "display_name": "Python 3 (ipykernel)",
   "language": "python",
   "name": "python3"
  },
  "language_info": {
   "codemirror_mode": {
    "name": "ipython",
    "version": 3
   },
   "file_extension": ".py",
   "mimetype": "text/x-python",
   "name": "python",
   "nbconvert_exporter": "python",
   "pygments_lexer": "ipython3",
   "version": "3.10.9"
  }
 },
 "nbformat": 4,
 "nbformat_minor": 5
}
