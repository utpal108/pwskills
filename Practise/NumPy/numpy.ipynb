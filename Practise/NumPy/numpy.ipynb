{
 "cells": [
  {
   "cell_type": "markdown",
   "id": "55583c39-3bde-4b49-a2e2-b1e8bf7f6d1c",
   "metadata": {},
   "source": [
    "## NumPy"
   ]
  },
  {
   "cell_type": "code",
   "execution_count": 1,
   "id": "7b61625c-4a5c-4986-9a0c-7e46ce269e49",
   "metadata": {},
   "outputs": [],
   "source": [
    "import numpy as np"
   ]
  },
  {
   "cell_type": "code",
   "execution_count": 2,
   "id": "81e6e2a9-40aa-4977-b2ab-ec36d2a51e52",
   "metadata": {},
   "outputs": [
    {
     "data": {
      "text/plain": [
       "array([1, 2, 3, 4, 5])"
      ]
     },
     "execution_count": 2,
     "metadata": {},
     "output_type": "execute_result"
    }
   ],
   "source": [
    "data1 = [1,2,3,4,5]\n",
    "np_data1 = np.array(data1)\n",
    "np_data1"
   ]
  },
  {
   "cell_type": "code",
   "execution_count": 3,
   "id": "30f8aaa4-0a3d-44b2-8343-5c8f77e8ae27",
   "metadata": {},
   "outputs": [
    {
     "data": {
      "text/plain": [
       "numpy.ndarray"
      ]
     },
     "execution_count": 3,
     "metadata": {},
     "output_type": "execute_result"
    }
   ],
   "source": [
    "type(np_data1)"
   ]
  },
  {
   "cell_type": "code",
   "execution_count": 4,
   "id": "729a19e9-49ac-424f-9d7b-b0262bf08091",
   "metadata": {},
   "outputs": [
    {
     "data": {
      "text/plain": [
       "1"
      ]
     },
     "execution_count": 4,
     "metadata": {},
     "output_type": "execute_result"
    }
   ],
   "source": [
    "np_data1.ndim"
   ]
  },
  {
   "cell_type": "code",
   "execution_count": 5,
   "id": "cb46b5bb-1db7-46f2-b580-096470ae21c8",
   "metadata": {},
   "outputs": [
    {
     "data": {
      "text/plain": [
       "array([[1, 2, 3, 4],\n",
       "       [5, 6, 7, 8]])"
      ]
     },
     "execution_count": 5,
     "metadata": {},
     "output_type": "execute_result"
    }
   ],
   "source": [
    "data2 = [[1,2,3,4],[5,6,7,8]]\n",
    "np_data2 = np.array(data2)\n",
    "np_data2"
   ]
  },
  {
   "cell_type": "code",
   "execution_count": 6,
   "id": "dc3a413b-4029-4432-9225-ba84aafc4719",
   "metadata": {},
   "outputs": [
    {
     "data": {
      "text/plain": [
       "2"
      ]
     },
     "execution_count": 6,
     "metadata": {},
     "output_type": "execute_result"
    }
   ],
   "source": [
    "np_data2.ndim"
   ]
  },
  {
   "cell_type": "code",
   "execution_count": 9,
   "id": "08214083-188f-477b-a4b1-7ddc21a8efbc",
   "metadata": {},
   "outputs": [
    {
     "data": {
      "text/plain": [
       "numpy.matrix"
      ]
     },
     "execution_count": 9,
     "metadata": {},
     "output_type": "execute_result"
    }
   ],
   "source": [
    "mat_data = np.matrix(data1)\n",
    "type(mat_data)"
   ]
  },
  {
   "cell_type": "code",
   "execution_count": 10,
   "id": "2f005b4a-a508-4fc3-892c-a0ea1914f9c1",
   "metadata": {},
   "outputs": [
    {
     "data": {
      "text/plain": [
       "2"
      ]
     },
     "execution_count": 10,
     "metadata": {},
     "output_type": "execute_result"
    }
   ],
   "source": [
    "mat_data.ndim"
   ]
  },
  {
   "cell_type": "code",
   "execution_count": 11,
   "id": "2f3fecc9-f77c-477f-8444-1a07f142de97",
   "metadata": {},
   "outputs": [],
   "source": [
    "mat_data2 = np.matrix(data2)"
   ]
  },
  {
   "cell_type": "code",
   "execution_count": 12,
   "id": "7c8f929c-b835-4c94-acf7-7ef6e8b521bb",
   "metadata": {},
   "outputs": [
    {
     "data": {
      "text/plain": [
       "2"
      ]
     },
     "execution_count": 12,
     "metadata": {},
     "output_type": "execute_result"
    }
   ],
   "source": [
    "mat_data2.ndim"
   ]
  },
  {
   "cell_type": "code",
   "execution_count": 14,
   "id": "33ce6716-5cb6-46aa-9201-31d050deb011",
   "metadata": {},
   "outputs": [
    {
     "data": {
      "text/plain": [
       "numpy.ndarray"
      ]
     },
     "execution_count": 14,
     "metadata": {},
     "output_type": "execute_result"
    }
   ],
   "source": [
    "np_arr = np.asanyarray(data1)\n",
    "type(np_arr)"
   ]
  },
  {
   "cell_type": "code",
   "execution_count": 15,
   "id": "d729b713-875e-4d20-a397-1f0d478b0a83",
   "metadata": {},
   "outputs": [
    {
     "data": {
      "text/plain": [
       "1"
      ]
     },
     "execution_count": 15,
     "metadata": {},
     "output_type": "execute_result"
    }
   ],
   "source": [
    "np_arr.ndim"
   ]
  },
  {
   "cell_type": "code",
   "execution_count": 17,
   "id": "c87e6247-b0c0-45cd-8954-2f21c1b0e2c5",
   "metadata": {},
   "outputs": [
    {
     "data": {
      "text/plain": [
       "array([[ True, False, False],\n",
       "       [False,  True, False],\n",
       "       [False, False,  True]])"
      ]
     },
     "execution_count": 17,
     "metadata": {},
     "output_type": "execute_result"
    }
   ],
   "source": [
    "my_arr = np.fromfunction(lambda x,y: x==y, (3,3))\n",
    "my_arr"
   ]
  },
  {
   "cell_type": "code",
   "execution_count": 28,
   "id": "b92c6a61-e549-4f2e-96ab-bc8e8f85e2c2",
   "metadata": {},
   "outputs": [
    {
     "data": {
      "text/plain": [
       "<generator object <genexpr> at 0x000002BAFD132960>"
      ]
     },
     "execution_count": 28,
     "metadata": {},
     "output_type": "execute_result"
    }
   ],
   "source": [
    "x = (i**2 for i in range(5))\n",
    "x"
   ]
  },
  {
   "cell_type": "code",
   "execution_count": 20,
   "id": "f7ff0f0f-03f2-417a-9d26-44ba486510b6",
   "metadata": {},
   "outputs": [
    {
     "name": "stdout",
     "output_type": "stream",
     "text": [
      "0\n",
      "1\n",
      "4\n",
      "9\n",
      "16\n"
     ]
    }
   ],
   "source": [
    "for i in x:\n",
    "    print(i)"
   ]
  },
  {
   "cell_type": "code",
   "execution_count": 22,
   "id": "44185a66-2a5e-4143-b4ab-9e934389953c",
   "metadata": {},
   "outputs": [
    {
     "data": {
      "text/plain": [
       "[0, 1, 4, 9, 16]"
      ]
     },
     "execution_count": 22,
     "metadata": {},
     "output_type": "execute_result"
    }
   ],
   "source": [
    "list(x)"
   ]
  },
  {
   "cell_type": "code",
   "execution_count": 29,
   "id": "6efd4f0e-e8a5-41a1-b19f-6e366241ddc5",
   "metadata": {},
   "outputs": [
    {
     "data": {
      "text/plain": [
       "array([ 0,  1,  4,  9, 16])"
      ]
     },
     "execution_count": 29,
     "metadata": {},
     "output_type": "execute_result"
    }
   ],
   "source": [
    "np.fromiter(x,int)"
   ]
  },
  {
   "cell_type": "code",
   "execution_count": 32,
   "id": "2ff8a8d9-f671-47f2-8ce8-07962c787c30",
   "metadata": {},
   "outputs": [
    {
     "data": {
      "text/plain": [
       "array([24., 25., 26.])"
      ]
     },
     "execution_count": 32,
     "metadata": {},
     "output_type": "execute_result"
    }
   ],
   "source": [
    "np.fromstring(\"24 25 26\", sep=\" \")"
   ]
  },
  {
   "cell_type": "code",
   "execution_count": 33,
   "id": "ed710479-995a-4e55-a5e7-97a23948fcfb",
   "metadata": {},
   "outputs": [
    {
     "data": {
      "text/plain": [
       "array([24., 25., 26.])"
      ]
     },
     "execution_count": 33,
     "metadata": {},
     "output_type": "execute_result"
    }
   ],
   "source": [
    "np.fromstring(\"24,25,26\", sep=\",\")"
   ]
  },
  {
   "cell_type": "code",
   "execution_count": 35,
   "id": "ef7411bd-f4b1-4faa-9801-7ce39a6e1fcd",
   "metadata": {},
   "outputs": [
    {
     "data": {
      "text/plain": [
       "array([1, 2, 3, 4, 5])"
      ]
     },
     "execution_count": 35,
     "metadata": {},
     "output_type": "execute_result"
    }
   ],
   "source": [
    "np_data1"
   ]
  },
  {
   "cell_type": "code",
   "execution_count": 34,
   "id": "26d8b1f0-d931-4739-8726-73c379ed80dd",
   "metadata": {},
   "outputs": [
    {
     "data": {
      "text/plain": [
       "5"
      ]
     },
     "execution_count": 34,
     "metadata": {},
     "output_type": "execute_result"
    }
   ],
   "source": [
    "np_data1.size"
   ]
  },
  {
   "cell_type": "code",
   "execution_count": 37,
   "id": "f23a2b9f-8dee-4e98-80d2-5e205d3bc04d",
   "metadata": {},
   "outputs": [
    {
     "data": {
      "text/plain": [
       "array([[1, 2, 3, 4],\n",
       "       [5, 6, 7, 8]])"
      ]
     },
     "execution_count": 37,
     "metadata": {},
     "output_type": "execute_result"
    }
   ],
   "source": [
    "np_data2"
   ]
  },
  {
   "cell_type": "code",
   "execution_count": 36,
   "id": "da0590a9-0202-457e-8392-5ba95f36d87b",
   "metadata": {},
   "outputs": [
    {
     "data": {
      "text/plain": [
       "(2, 4)"
      ]
     },
     "execution_count": 36,
     "metadata": {},
     "output_type": "execute_result"
    }
   ],
   "source": [
    "np_data2.shape"
   ]
  },
  {
   "cell_type": "code",
   "execution_count": 40,
   "id": "401e1af0-0ab4-4268-ac54-075687e8f6ba",
   "metadata": {},
   "outputs": [
    {
     "data": {
      "text/plain": [
       "dtype('int32')"
      ]
     },
     "execution_count": 40,
     "metadata": {},
     "output_type": "execute_result"
    }
   ],
   "source": [
    "np_data1.dtype"
   ]
  },
  {
   "cell_type": "code",
   "execution_count": 41,
   "id": "afc12b85-e84a-4e80-8449-4badf573887a",
   "metadata": {},
   "outputs": [
    {
     "data": {
      "text/plain": [
       "2"
      ]
     },
     "execution_count": 41,
     "metadata": {},
     "output_type": "execute_result"
    }
   ],
   "source": [
    "np_data2.ndim"
   ]
  },
  {
   "cell_type": "code",
   "execution_count": 45,
   "id": "644a5352-e29c-4e5f-99fd-69f74c5c5ff4",
   "metadata": {},
   "outputs": [
    {
     "data": {
      "text/plain": [
       "[1, 3, 5, 7, 9, 11, 13, 15, 17, 19]"
      ]
     },
     "execution_count": 45,
     "metadata": {},
     "output_type": "execute_result"
    }
   ],
   "source": [
    "list(range(1,20,2))"
   ]
  },
  {
   "cell_type": "code",
   "execution_count": 46,
   "id": "dc98ba40-e49b-421a-ade2-ce3ff3b6101c",
   "metadata": {},
   "outputs": [
    {
     "data": {
      "text/plain": [
       "array([ 0.1,  1.1,  2.1,  3.1,  4.1,  5.1,  6.1,  7.1,  8.1,  9.1, 10.1,\n",
       "       11.1, 12.1, 13.1, 14.1, 15.1, 16.1, 17.1, 18.1, 19.1])"
      ]
     },
     "execution_count": 46,
     "metadata": {},
     "output_type": "execute_result"
    }
   ],
   "source": [
    "np.arange(0.1,20.10)"
   ]
  },
  {
   "cell_type": "code",
   "execution_count": 47,
   "id": "4756d825-4961-4818-825b-10c689954ea4",
   "metadata": {},
   "outputs": [
    {
     "data": {
      "text/plain": [
       "[0.1,\n",
       " 1.1,\n",
       " 2.1,\n",
       " 3.1,\n",
       " 4.1,\n",
       " 5.1,\n",
       " 6.1,\n",
       " 7.1,\n",
       " 8.1,\n",
       " 9.1,\n",
       " 10.1,\n",
       " 11.1,\n",
       " 12.1,\n",
       " 13.1,\n",
       " 14.1,\n",
       " 15.1,\n",
       " 16.1,\n",
       " 17.1,\n",
       " 18.1,\n",
       " 19.1]"
      ]
     },
     "execution_count": 47,
     "metadata": {},
     "output_type": "execute_result"
    }
   ],
   "source": [
    "list(np.arange(0.1,20.10))"
   ]
  },
  {
   "cell_type": "code",
   "execution_count": 48,
   "id": "b5413124-e089-4f0b-992c-58e97e614ef7",
   "metadata": {},
   "outputs": [
    {
     "data": {
      "text/plain": [
       "array([1.        , 1.44444444, 1.88888889, 2.33333333, 2.77777778,\n",
       "       3.22222222, 3.66666667, 4.11111111, 4.55555556, 5.        ])"
      ]
     },
     "execution_count": 48,
     "metadata": {},
     "output_type": "execute_result"
    }
   ],
   "source": [
    "np.linspace(1,5, 10)"
   ]
  },
  {
   "cell_type": "code",
   "execution_count": 49,
   "id": "49d7906b-3e04-4146-a77a-5f0a6a21affa",
   "metadata": {},
   "outputs": [
    {
     "data": {
      "text/plain": [
       "array([1.        , 1.21052632, 1.42105263, 1.63157895, 1.84210526,\n",
       "       2.05263158, 2.26315789, 2.47368421, 2.68421053, 2.89473684,\n",
       "       3.10526316, 3.31578947, 3.52631579, 3.73684211, 3.94736842,\n",
       "       4.15789474, 4.36842105, 4.57894737, 4.78947368, 5.        ])"
      ]
     },
     "execution_count": 49,
     "metadata": {},
     "output_type": "execute_result"
    }
   ],
   "source": [
    "np.linspace(1,5, 20)"
   ]
  },
  {
   "cell_type": "code",
   "execution_count": 50,
   "id": "d0b8f743-fd89-44c2-bfce-c27a38f6e11f",
   "metadata": {},
   "outputs": [
    {
     "data": {
      "text/plain": [
       "array([1.00000000e+01, 2.78255940e+01, 7.74263683e+01, 2.15443469e+02,\n",
       "       5.99484250e+02, 1.66810054e+03, 4.64158883e+03, 1.29154967e+04,\n",
       "       3.59381366e+04, 1.00000000e+05])"
      ]
     },
     "execution_count": 50,
     "metadata": {},
     "output_type": "execute_result"
    }
   ],
   "source": [
    "np.logspace(1,5, 10)"
   ]
  },
  {
   "cell_type": "code",
   "execution_count": 51,
   "id": "895efd31-6706-4ef9-8854-45e6897fb9d9",
   "metadata": {},
   "outputs": [
    {
     "data": {
      "text/plain": [
       "array([ 2.        ,  2.72158   ,  3.70349885,  5.0396842 ,  6.85795186,\n",
       "        9.33223232, 12.69920842, 17.28095582, 23.51575188, 32.        ])"
      ]
     },
     "execution_count": 51,
     "metadata": {},
     "output_type": "execute_result"
    }
   ],
   "source": [
    "np.logspace(1,5, 10, base=2)"
   ]
  },
  {
   "cell_type": "code",
   "execution_count": 52,
   "id": "4043ed77-f9f6-4f89-92cf-90181a81887e",
   "metadata": {},
   "outputs": [
    {
     "data": {
      "text/plain": [
       "array([0., 0., 0., 0., 0.])"
      ]
     },
     "execution_count": 52,
     "metadata": {},
     "output_type": "execute_result"
    }
   ],
   "source": [
    "np.zeros(5)"
   ]
  },
  {
   "cell_type": "code",
   "execution_count": 53,
   "id": "638e861c-c822-4c99-b986-e06c43f89d5a",
   "metadata": {},
   "outputs": [
    {
     "data": {
      "text/plain": [
       "array([[0., 0., 0., 0.],\n",
       "       [0., 0., 0., 0.],\n",
       "       [0., 0., 0., 0.]])"
      ]
     },
     "execution_count": 53,
     "metadata": {},
     "output_type": "execute_result"
    }
   ],
   "source": [
    "np.zeros((3,4))"
   ]
  },
  {
   "cell_type": "code",
   "execution_count": 55,
   "id": "11669cd9-995f-41c7-880c-cc0aa79e0536",
   "metadata": {},
   "outputs": [
    {
     "data": {
      "text/plain": [
       "array([[1., 1., 1., 1.],\n",
       "       [1., 1., 1., 1.],\n",
       "       [1., 1., 1., 1.]])"
      ]
     },
     "execution_count": 55,
     "metadata": {},
     "output_type": "execute_result"
    }
   ],
   "source": [
    "data1 = np.ones((3,4))\n",
    "data1"
   ]
  },
  {
   "cell_type": "code",
   "execution_count": 56,
   "id": "4f60628c-3dac-4158-b0a7-b9b1110ea5a6",
   "metadata": {},
   "outputs": [
    {
     "data": {
      "text/plain": [
       "array([[6., 6., 6., 6.],\n",
       "       [6., 6., 6., 6.],\n",
       "       [6., 6., 6., 6.]])"
      ]
     },
     "execution_count": 56,
     "metadata": {},
     "output_type": "execute_result"
    }
   ],
   "source": [
    "data1+5"
   ]
  },
  {
   "cell_type": "code",
   "execution_count": 57,
   "id": "ee0381f1-0583-441b-a691-7c58573df7ed",
   "metadata": {},
   "outputs": [
    {
     "data": {
      "text/plain": [
       "array([[6., 6., 6., 6.],\n",
       "       [6., 6., 6., 6.],\n",
       "       [6., 6., 6., 6.]])"
      ]
     },
     "execution_count": 57,
     "metadata": {},
     "output_type": "execute_result"
    }
   ],
   "source": [
    "data1 = np.empty((3,4))\n",
    "data1"
   ]
  },
  {
   "cell_type": "code",
   "execution_count": 60,
   "id": "f690fe31-504d-4332-ac7a-6d8f909b890a",
   "metadata": {},
   "outputs": [
    {
     "data": {
      "text/plain": [
       "array([[1., 0., 0., 0., 0.],\n",
       "       [0., 1., 0., 0., 0.],\n",
       "       [0., 0., 1., 0., 0.],\n",
       "       [0., 0., 0., 1., 0.],\n",
       "       [0., 0., 0., 0., 1.]])"
      ]
     },
     "execution_count": 60,
     "metadata": {},
     "output_type": "execute_result"
    }
   ],
   "source": [
    "data1 = np.eye(5)\n",
    "data1"
   ]
  },
  {
   "cell_type": "code",
   "execution_count": 59,
   "id": "26e12654-a88d-4835-a1c2-4785ed35479d",
   "metadata": {},
   "outputs": [],
   "source": [
    "import pandas as pd"
   ]
  },
  {
   "cell_type": "code",
   "execution_count": 61,
   "id": "3ec703ab-2e4d-4bd4-9c2c-bfff9908a9ce",
   "metadata": {},
   "outputs": [
    {
     "data": {
      "text/html": [
       "<div>\n",
       "<style scoped>\n",
       "    .dataframe tbody tr th:only-of-type {\n",
       "        vertical-align: middle;\n",
       "    }\n",
       "\n",
       "    .dataframe tbody tr th {\n",
       "        vertical-align: top;\n",
       "    }\n",
       "\n",
       "    .dataframe thead th {\n",
       "        text-align: right;\n",
       "    }\n",
       "</style>\n",
       "<table border=\"1\" class=\"dataframe\">\n",
       "  <thead>\n",
       "    <tr style=\"text-align: right;\">\n",
       "      <th></th>\n",
       "      <th>0</th>\n",
       "      <th>1</th>\n",
       "      <th>2</th>\n",
       "      <th>3</th>\n",
       "      <th>4</th>\n",
       "    </tr>\n",
       "  </thead>\n",
       "  <tbody>\n",
       "    <tr>\n",
       "      <th>0</th>\n",
       "      <td>1.0</td>\n",
       "      <td>0.0</td>\n",
       "      <td>0.0</td>\n",
       "      <td>0.0</td>\n",
       "      <td>0.0</td>\n",
       "    </tr>\n",
       "    <tr>\n",
       "      <th>1</th>\n",
       "      <td>0.0</td>\n",
       "      <td>1.0</td>\n",
       "      <td>0.0</td>\n",
       "      <td>0.0</td>\n",
       "      <td>0.0</td>\n",
       "    </tr>\n",
       "    <tr>\n",
       "      <th>2</th>\n",
       "      <td>0.0</td>\n",
       "      <td>0.0</td>\n",
       "      <td>1.0</td>\n",
       "      <td>0.0</td>\n",
       "      <td>0.0</td>\n",
       "    </tr>\n",
       "    <tr>\n",
       "      <th>3</th>\n",
       "      <td>0.0</td>\n",
       "      <td>0.0</td>\n",
       "      <td>0.0</td>\n",
       "      <td>1.0</td>\n",
       "      <td>0.0</td>\n",
       "    </tr>\n",
       "    <tr>\n",
       "      <th>4</th>\n",
       "      <td>0.0</td>\n",
       "      <td>0.0</td>\n",
       "      <td>0.0</td>\n",
       "      <td>0.0</td>\n",
       "      <td>1.0</td>\n",
       "    </tr>\n",
       "  </tbody>\n",
       "</table>\n",
       "</div>"
      ],
      "text/plain": [
       "     0    1    2    3    4\n",
       "0  1.0  0.0  0.0  0.0  0.0\n",
       "1  0.0  1.0  0.0  0.0  0.0\n",
       "2  0.0  0.0  1.0  0.0  0.0\n",
       "3  0.0  0.0  0.0  1.0  0.0\n",
       "4  0.0  0.0  0.0  0.0  1.0"
      ]
     },
     "execution_count": 61,
     "metadata": {},
     "output_type": "execute_result"
    }
   ],
   "source": [
    "pd.DataFrame(data1)"
   ]
  },
  {
   "cell_type": "code",
   "execution_count": 62,
   "id": "2bdfaafc-49a5-472a-b2a2-a97960e8b1ed",
   "metadata": {},
   "outputs": [
    {
     "data": {
      "text/plain": [
       "array([[0.94475843, 0.66625442, 0.96205953],\n",
       "       [0.86446637, 0.82848338, 0.13818836]])"
      ]
     },
     "execution_count": 62,
     "metadata": {},
     "output_type": "execute_result"
    }
   ],
   "source": [
    "np.random.rand(2,3)"
   ]
  },
  {
   "cell_type": "code",
   "execution_count": 63,
   "id": "77a7918c-46b2-461f-a3c2-90bbd3a248f8",
   "metadata": {},
   "outputs": [
    {
     "data": {
      "text/plain": [
       "array([[-0.11068362, -1.49905764, -1.09592161],\n",
       "       [-0.44808752,  1.43278643, -0.84853246]])"
      ]
     },
     "execution_count": 63,
     "metadata": {},
     "output_type": "execute_result"
    }
   ],
   "source": [
    "np.random.randn(2,3)"
   ]
  },
  {
   "cell_type": "code",
   "execution_count": 65,
   "id": "fb1983ad-f0bc-4037-99a0-4b2552e2b5c7",
   "metadata": {},
   "outputs": [
    {
     "data": {
      "text/plain": [
       "array([[4, 4, 4, 2],\n",
       "       [1, 3, 1, 1],\n",
       "       [1, 4, 2, 3]])"
      ]
     },
     "execution_count": 65,
     "metadata": {},
     "output_type": "execute_result"
    }
   ],
   "source": [
    "data = np.random.randint(1,5, (3,4))\n",
    "data"
   ]
  },
  {
   "cell_type": "code",
   "execution_count": 67,
   "id": "907579b4-24ad-48ec-b482-13bbe847e932",
   "metadata": {},
   "outputs": [
    {
     "data": {
      "text/plain": [
       "(3, 4)"
      ]
     },
     "execution_count": 67,
     "metadata": {},
     "output_type": "execute_result"
    }
   ],
   "source": [
    "data.shape"
   ]
  },
  {
   "cell_type": "code",
   "execution_count": 68,
   "id": "e46e1d1b-84f7-438f-bf28-f6bf59a2e638",
   "metadata": {},
   "outputs": [
    {
     "data": {
      "text/plain": [
       "12"
      ]
     },
     "execution_count": 68,
     "metadata": {},
     "output_type": "execute_result"
    }
   ],
   "source": [
    "data.size"
   ]
  },
  {
   "cell_type": "code",
   "execution_count": 69,
   "id": "e887df9a-a011-4ac4-ac80-e87c08a5562c",
   "metadata": {},
   "outputs": [
    {
     "data": {
      "text/plain": [
       "array([[4, 4],\n",
       "       [4, 2],\n",
       "       [1, 3],\n",
       "       [1, 1],\n",
       "       [1, 4],\n",
       "       [2, 3]])"
      ]
     },
     "execution_count": 69,
     "metadata": {},
     "output_type": "execute_result"
    }
   ],
   "source": [
    "data.reshape(6,2)"
   ]
  },
  {
   "cell_type": "code",
   "execution_count": 73,
   "id": "8df05925-9cb4-42d5-926a-d9597f17febd",
   "metadata": {},
   "outputs": [
    {
     "data": {
      "text/plain": [
       "array([[4, 4, 4],\n",
       "       [2, 1, 3],\n",
       "       [1, 1, 1],\n",
       "       [4, 2, 3]])"
      ]
     },
     "execution_count": 73,
     "metadata": {},
     "output_type": "execute_result"
    }
   ],
   "source": [
    "data.reshape(4,-1)"
   ]
  },
  {
   "cell_type": "code",
   "execution_count": 81,
   "id": "ef81045e-b62d-424f-861b-73b055a7e207",
   "metadata": {},
   "outputs": [
    {
     "data": {
      "text/plain": [
       "array([[4, 4, 4],\n",
       "       [2, 1, 3],\n",
       "       [1, 1, 1],\n",
       "       [4, 2, 3]])"
      ]
     },
     "execution_count": 81,
     "metadata": {},
     "output_type": "execute_result"
    }
   ],
   "source": [
    "data.reshape(4,-1944040)"
   ]
  },
  {
   "cell_type": "code",
   "execution_count": 75,
   "id": "de2dc973-520e-4ce9-983a-fa59c1bfca17",
   "metadata": {},
   "outputs": [
    {
     "data": {
      "text/plain": [
       "array([[[4, 4],\n",
       "        [4, 2],\n",
       "        [1, 3]],\n",
       "\n",
       "       [[1, 1],\n",
       "        [1, 4],\n",
       "        [2, 3]]])"
      ]
     },
     "execution_count": 75,
     "metadata": {},
     "output_type": "execute_result"
    }
   ],
   "source": [
    "data.reshape(2,3,2)"
   ]
  },
  {
   "cell_type": "code",
   "execution_count": 77,
   "id": "b5819c4d-fda6-4312-a85c-a7b05a6f8792",
   "metadata": {},
   "outputs": [
    {
     "data": {
      "text/plain": [
       "array([4, 4, 4, 2, 1, 3, 1, 1, 1, 4, 2, 3])"
      ]
     },
     "execution_count": 77,
     "metadata": {},
     "output_type": "execute_result"
    }
   ],
   "source": [
    "data[data>0]"
   ]
  },
  {
   "cell_type": "code",
   "execution_count": 79,
   "id": "d470b9e2-b505-4e50-a23c-2c3cbfd6006f",
   "metadata": {},
   "outputs": [
    {
     "data": {
      "text/plain": [
       "array([2, 1, 3, 1, 1, 1, 2, 3])"
      ]
     },
     "execution_count": 79,
     "metadata": {},
     "output_type": "execute_result"
    }
   ],
   "source": [
    "data[(data>0) & (data<4)]"
   ]
  },
  {
   "cell_type": "code",
   "execution_count": 82,
   "id": "5d8310d4-c762-49ba-baf0-c19aff2962c6",
   "metadata": {},
   "outputs": [
    {
     "data": {
      "text/plain": [
       "array([[4, 4, 4, 2],\n",
       "       [1, 3, 1, 1],\n",
       "       [1, 4, 2, 3]])"
      ]
     },
     "execution_count": 82,
     "metadata": {},
     "output_type": "execute_result"
    }
   ],
   "source": [
    "data"
   ]
  },
  {
   "cell_type": "code",
   "execution_count": 84,
   "id": "752c62ba-c283-4cdb-bffd-18ccbce4803b",
   "metadata": {},
   "outputs": [
    {
     "data": {
      "text/plain": [
       "array([[4, 4, 4],\n",
       "       [1, 3, 1]])"
      ]
     },
     "execution_count": 84,
     "metadata": {},
     "output_type": "execute_result"
    }
   ],
   "source": [
    "data[:2,:3]"
   ]
  },
  {
   "cell_type": "code",
   "execution_count": 85,
   "id": "b2abf8c4-4a9a-478e-b4f4-92f812fe84d8",
   "metadata": {},
   "outputs": [],
   "source": [
    "data1 = np.random.randint(1,3,(3,3))\n",
    "data2 = np.random.randint(1,5,(3,3))"
   ]
  },
  {
   "cell_type": "code",
   "execution_count": 86,
   "id": "1c3630d2-4eb7-4c3d-9ca1-3593b49ee511",
   "metadata": {},
   "outputs": [
    {
     "data": {
      "text/plain": [
       "array([[1, 1, 1],\n",
       "       [1, 1, 2],\n",
       "       [2, 1, 1]])"
      ]
     },
     "execution_count": 86,
     "metadata": {},
     "output_type": "execute_result"
    }
   ],
   "source": [
    "data1"
   ]
  },
  {
   "cell_type": "code",
   "execution_count": 87,
   "id": "eb7fb283-f59c-4c4d-b90d-96f23677f439",
   "metadata": {},
   "outputs": [
    {
     "data": {
      "text/plain": [
       "array([[3, 2, 2],\n",
       "       [3, 3, 3],\n",
       "       [4, 3, 2]])"
      ]
     },
     "execution_count": 87,
     "metadata": {},
     "output_type": "execute_result"
    }
   ],
   "source": [
    "data2"
   ]
  },
  {
   "cell_type": "code",
   "execution_count": 88,
   "id": "79e25706-656a-4f7c-b207-6fad55ed6d66",
   "metadata": {},
   "outputs": [
    {
     "data": {
      "text/plain": [
       "array([[4, 3, 3],\n",
       "       [4, 4, 5],\n",
       "       [6, 4, 3]])"
      ]
     },
     "execution_count": 88,
     "metadata": {},
     "output_type": "execute_result"
    }
   ],
   "source": [
    "data = data1+data2\n",
    "data"
   ]
  },
  {
   "cell_type": "code",
   "execution_count": 89,
   "id": "a5135ff3-438f-4ac0-9e96-f92d31f43101",
   "metadata": {},
   "outputs": [
    {
     "data": {
      "text/plain": [
       "array([[10,  8,  7],\n",
       "       [14, 11,  9],\n",
       "       [13, 10,  9]])"
      ]
     },
     "execution_count": 89,
     "metadata": {},
     "output_type": "execute_result"
    }
   ],
   "source": [
    "data1@data2"
   ]
  },
  {
   "cell_type": "code",
   "execution_count": 100,
   "id": "f4660a3a-62de-44f1-b337-9c792bbf8696",
   "metadata": {},
   "outputs": [
    {
     "data": {
      "text/plain": [
       "array([[2, 1, 1, 2],\n",
       "       [2, 2, 2, 1],\n",
       "       [1, 2, 2, 1]])"
      ]
     },
     "execution_count": 100,
     "metadata": {},
     "output_type": "execute_result"
    }
   ],
   "source": [
    "data1 = np.random.randint(1,3,(3,4))\n",
    "data1"
   ]
  },
  {
   "cell_type": "code",
   "execution_count": 103,
   "id": "4d509988-4182-4a50-a8b3-f4f438ceb5fa",
   "metadata": {},
   "outputs": [
    {
     "data": {
      "text/plain": [
       "array([1])"
      ]
     },
     "execution_count": 103,
     "metadata": {},
     "output_type": "execute_result"
    }
   ],
   "source": [
    "x= np.array([1])\n",
    "x"
   ]
  },
  {
   "cell_type": "code",
   "execution_count": 104,
   "id": "8848669b-1b3a-4b37-8b60-14a024648b89",
   "metadata": {},
   "outputs": [
    {
     "data": {
      "text/plain": [
       "array([[3, 2, 2, 3],\n",
       "       [3, 3, 3, 2],\n",
       "       [2, 3, 3, 2]])"
      ]
     },
     "execution_count": 104,
     "metadata": {},
     "output_type": "execute_result"
    }
   ],
   "source": [
    "data1+x"
   ]
  },
  {
   "cell_type": "code",
   "execution_count": 105,
   "id": "38303cb3-52bf-4c24-8545-d1e6cd1dc88d",
   "metadata": {},
   "outputs": [
    {
     "data": {
      "text/plain": [
       "array([[2, 1, 1, 2],\n",
       "       [2, 2, 2, 1],\n",
       "       [1, 2, 2, 1]])"
      ]
     },
     "execution_count": 105,
     "metadata": {},
     "output_type": "execute_result"
    }
   ],
   "source": [
    "data1"
   ]
  },
  {
   "cell_type": "code",
   "execution_count": 107,
   "id": "759ada36-0090-4279-863b-d3eab6a34fd9",
   "metadata": {},
   "outputs": [
    {
     "data": {
      "text/plain": [
       "array([[2, 2, 1],\n",
       "       [1, 2, 2],\n",
       "       [1, 2, 2],\n",
       "       [2, 1, 1]])"
      ]
     },
     "execution_count": 107,
     "metadata": {},
     "output_type": "execute_result"
    }
   ],
   "source": [
    "data1.T"
   ]
  },
  {
   "cell_type": "code",
   "execution_count": 109,
   "id": "b2f1c074-09c3-4b0d-a16e-374c8736e584",
   "metadata": {},
   "outputs": [
    {
     "data": {
      "text/plain": [
       "array([[1.41421356, 1.41421356, 1.        ],\n",
       "       [1.        , 1.41421356, 1.41421356],\n",
       "       [1.        , 1.41421356, 1.41421356],\n",
       "       [1.41421356, 1.        , 1.        ]])"
      ]
     },
     "execution_count": 109,
     "metadata": {},
     "output_type": "execute_result"
    }
   ],
   "source": [
    "np.sqrt(data1.T)"
   ]
  },
  {
   "cell_type": "code",
   "execution_count": 110,
   "id": "b03863fd-f94d-45a0-b345-f85a23d12ab4",
   "metadata": {},
   "outputs": [
    {
     "data": {
      "text/plain": [
       "array([[0.30103, 0.30103, 0.     ],\n",
       "       [0.     , 0.30103, 0.30103],\n",
       "       [0.     , 0.30103, 0.30103],\n",
       "       [0.30103, 0.     , 0.     ]])"
      ]
     },
     "execution_count": 110,
     "metadata": {},
     "output_type": "execute_result"
    }
   ],
   "source": [
    "np.log10(data1.T)"
   ]
  },
  {
   "cell_type": "code",
   "execution_count": 112,
   "id": "9bbe6568-02ad-4b1e-829c-d6893218c6e8",
   "metadata": {},
   "outputs": [
    {
     "data": {
      "text/plain": [
       "array([[7.3890561 , 7.3890561 , 2.71828183],\n",
       "       [2.71828183, 7.3890561 , 7.3890561 ],\n",
       "       [2.71828183, 7.3890561 , 7.3890561 ],\n",
       "       [7.3890561 , 2.71828183, 2.71828183]])"
      ]
     },
     "execution_count": 112,
     "metadata": {},
     "output_type": "execute_result"
    }
   ],
   "source": [
    "np.exp(data1.T)"
   ]
  },
  {
   "cell_type": "code",
   "execution_count": 113,
   "id": "f0bca981-e5c7-461b-a9b3-cda126b189a9",
   "metadata": {},
   "outputs": [
    {
     "data": {
      "text/plain": [
       "1"
      ]
     },
     "execution_count": 113,
     "metadata": {},
     "output_type": "execute_result"
    }
   ],
   "source": [
    "np.min(data1)"
   ]
  },
  {
   "cell_type": "code",
   "execution_count": 114,
   "id": "b81ed4c6-0031-4d36-bd5c-6e44a4d5384b",
   "metadata": {},
   "outputs": [
    {
     "data": {
      "text/plain": [
       "2"
      ]
     },
     "execution_count": 114,
     "metadata": {},
     "output_type": "execute_result"
    }
   ],
   "source": [
    "np.max(data1)"
   ]
  },
  {
   "cell_type": "code",
   "execution_count": 115,
   "id": "c92f4df7-ac6a-492b-8a4e-710c6f587033",
   "metadata": {},
   "outputs": [
    {
     "data": {
      "text/plain": [
       "array([[2, 1, 1, 2],\n",
       "       [2, 2, 2, 1],\n",
       "       [1, 2, 2, 1]])"
      ]
     },
     "execution_count": 115,
     "metadata": {},
     "output_type": "execute_result"
    }
   ],
   "source": [
    "data1"
   ]
  },
  {
   "cell_type": "code",
   "execution_count": 116,
   "id": "8d0700d1-b578-420f-a676-c89a7a603288",
   "metadata": {},
   "outputs": [
    {
     "data": {
      "text/plain": [
       "array([2, 1, 1, 2, 2, 2, 2, 1, 1, 2, 2, 1])"
      ]
     },
     "execution_count": 116,
     "metadata": {},
     "output_type": "execute_result"
    }
   ],
   "source": [
    "data1.flatten()"
   ]
  },
  {
   "cell_type": "code",
   "execution_count": 119,
   "id": "1f21aaf2-27fa-4f12-9f20-aefd52539790",
   "metadata": {},
   "outputs": [
    {
     "data": {
      "text/plain": [
       "array([[[2, 1, 1, 2],\n",
       "        [2, 2, 2, 1],\n",
       "        [1, 2, 2, 1]]])"
      ]
     },
     "execution_count": 119,
     "metadata": {},
     "output_type": "execute_result"
    }
   ],
   "source": [
    "np.expand_dims(data1, axis=0)"
   ]
  },
  {
   "cell_type": "code",
   "execution_count": 118,
   "id": "51cfb013-5aab-45ac-9710-4ca60fa30d0d",
   "metadata": {},
   "outputs": [
    {
     "data": {
      "text/plain": [
       "array([[2, 1, 1, 2],\n",
       "       [2, 2, 2, 1],\n",
       "       [1, 2, 2, 1]])"
      ]
     },
     "execution_count": 118,
     "metadata": {},
     "output_type": "execute_result"
    }
   ],
   "source": [
    "np.squeeze(data1)"
   ]
  },
  {
   "cell_type": "code",
   "execution_count": 120,
   "id": "8ece7d22-f6a7-4156-b6a1-fe2e56f2c1f8",
   "metadata": {},
   "outputs": [
    {
     "data": {
      "text/plain": [
       "array([[2, 1, 1, 2],\n",
       "       [2, 2, 2, 1],\n",
       "       [1, 2, 2, 1]])"
      ]
     },
     "execution_count": 120,
     "metadata": {},
     "output_type": "execute_result"
    }
   ],
   "source": [
    "data1"
   ]
  },
  {
   "cell_type": "code",
   "execution_count": 123,
   "id": "a7ba0502-10c3-461a-8e99-c8ca0e252bfc",
   "metadata": {},
   "outputs": [
    {
     "data": {
      "text/plain": [
       "array([2, 2, 2, 1, 1, 1, 1, 1, 1, 2, 2, 2, 2, 2, 2, 2, 2, 2, 2, 2, 2, 1,\n",
       "       1, 1, 1, 1, 1, 2, 2, 2, 2, 2, 2, 1, 1, 1])"
      ]
     },
     "execution_count": 123,
     "metadata": {},
     "output_type": "execute_result"
    }
   ],
   "source": [
    "np.repeat(data1,3)"
   ]
  },
  {
   "cell_type": "code",
   "execution_count": 125,
   "id": "f72a138a-4337-4b53-9a6b-4d0c27f69929",
   "metadata": {},
   "outputs": [
    {
     "data": {
      "text/plain": [
       "array([[1, 2, 2, 1],\n",
       "       [2, 1, 1, 2],\n",
       "       [2, 2, 2, 1]])"
      ]
     },
     "execution_count": 125,
     "metadata": {},
     "output_type": "execute_result"
    }
   ],
   "source": [
    "np.roll(data1,4)"
   ]
  },
  {
   "cell_type": "code",
   "execution_count": 127,
   "id": "84faa56e-2947-4bc1-ae87-93ce05c8adf8",
   "metadata": {},
   "outputs": [
    {
     "data": {
      "text/plain": [
       "array([[1, 0, 0, 0, 0],\n",
       "       [0, 2, 0, 0, 0],\n",
       "       [0, 0, 3, 0, 0],\n",
       "       [0, 0, 0, 4, 0],\n",
       "       [0, 0, 0, 0, 5]])"
      ]
     },
     "execution_count": 127,
     "metadata": {},
     "output_type": "execute_result"
    }
   ],
   "source": [
    "np.diag(np.array([1,2,3,4,5]))"
   ]
  },
  {
   "cell_type": "code",
   "execution_count": 128,
   "id": "b8da626e-e707-45e8-96ab-0d698e32e8ba",
   "metadata": {},
   "outputs": [
    {
     "data": {
      "text/plain": [
       "array([[-3, -2, -2, -3],\n",
       "       [-3, -3, -3, -2],\n",
       "       [-2, -3, -3, -2]])"
      ]
     },
     "execution_count": 128,
     "metadata": {},
     "output_type": "execute_result"
    }
   ],
   "source": [
    "~data1"
   ]
  },
  {
   "cell_type": "code",
   "execution_count": 129,
   "id": "cc534557-7b1d-4bb5-933a-5732316a99a1",
   "metadata": {},
   "outputs": [
    {
     "data": {
      "text/plain": [
       "array([[2, 1, 1, 2],\n",
       "       [2, 2, 2, 1],\n",
       "       [1, 2, 2, 1]])"
      ]
     },
     "execution_count": 129,
     "metadata": {},
     "output_type": "execute_result"
    }
   ],
   "source": [
    "data1"
   ]
  },
  {
   "cell_type": "code",
   "execution_count": 131,
   "id": "2cd7a286-c9ad-4960-8136-872da1733a36",
   "metadata": {},
   "outputs": [
    {
     "data": {
      "text/plain": [
       "array(['Mango', 'Apple', 'Banana'], dtype='<U6')"
      ]
     },
     "execution_count": 131,
     "metadata": {},
     "output_type": "execute_result"
    }
   ],
   "source": [
    "arr_data = np.array([\"Mango\", \"Apple\", \"Banana\"])\n",
    "arr_data"
   ]
  },
  {
   "cell_type": "code",
   "execution_count": 133,
   "id": "d156b791-ec93-4793-8021-84f3a563c565",
   "metadata": {},
   "outputs": [
    {
     "data": {
      "text/plain": [
       "array(['MANGO', 'APPLE', 'BANANA'], dtype='<U6')"
      ]
     },
     "execution_count": 133,
     "metadata": {},
     "output_type": "execute_result"
    }
   ],
   "source": [
    "np.char.upper(arr_data)"
   ]
  },
  {
   "cell_type": "code",
   "execution_count": 134,
   "id": "89144c64-58c1-448d-a5c6-31b0315ce586",
   "metadata": {},
   "outputs": [
    {
     "data": {
      "text/plain": [
       "array(['Mango', 'Apple', 'Banana'], dtype='<U6')"
      ]
     },
     "execution_count": 134,
     "metadata": {},
     "output_type": "execute_result"
    }
   ],
   "source": [
    "np.char.capitalize(arr_data)"
   ]
  },
  {
   "cell_type": "code",
   "execution_count": 135,
   "id": "ef8fd78a-381a-4c36-8d3b-6e412f09a2aa",
   "metadata": {},
   "outputs": [
    {
     "data": {
      "text/plain": [
       "array(['Mango', 'Apple', 'Banana'], dtype='<U6')"
      ]
     },
     "execution_count": 135,
     "metadata": {},
     "output_type": "execute_result"
    }
   ],
   "source": [
    "np.char.title(arr_data)"
   ]
  },
  {
   "cell_type": "code",
   "execution_count": 136,
   "id": "fe9742e5-7364-42e8-a6b3-65608c4542da",
   "metadata": {},
   "outputs": [
    {
     "data": {
      "text/plain": [
       "array([[0.90929743, 0.84147098, 0.84147098, 0.90929743],\n",
       "       [0.90929743, 0.90929743, 0.90929743, 0.84147098],\n",
       "       [0.84147098, 0.90929743, 0.90929743, 0.84147098]])"
      ]
     },
     "execution_count": 136,
     "metadata": {},
     "output_type": "execute_result"
    }
   ],
   "source": [
    "np.sin(data1)"
   ]
  },
  {
   "cell_type": "code",
   "execution_count": 137,
   "id": "68ae25f3-01f9-4b89-8748-1800053c2da5",
   "metadata": {},
   "outputs": [
    {
     "data": {
      "text/plain": [
       "array([[-0.41614684,  0.54030231,  0.54030231, -0.41614684],\n",
       "       [-0.41614684, -0.41614684, -0.41614684,  0.54030231],\n",
       "       [ 0.54030231, -0.41614684, -0.41614684,  0.54030231]])"
      ]
     },
     "execution_count": 137,
     "metadata": {},
     "output_type": "execute_result"
    }
   ],
   "source": [
    "np.cos(data1)"
   ]
  },
  {
   "cell_type": "code",
   "execution_count": 138,
   "id": "1f296b1c-8781-4618-824a-d3500d91c91d",
   "metadata": {},
   "outputs": [
    {
     "data": {
      "text/plain": [
       "array([[4, 1, 1, 4],\n",
       "       [4, 4, 4, 1],\n",
       "       [1, 4, 4, 1]], dtype=int32)"
      ]
     },
     "execution_count": 138,
     "metadata": {},
     "output_type": "execute_result"
    }
   ],
   "source": [
    "np.power(data1,2)"
   ]
  },
  {
   "cell_type": "code",
   "execution_count": 139,
   "id": "0411db4b-21b0-4ec4-b83a-2d8f27c8eab3",
   "metadata": {},
   "outputs": [
    {
     "data": {
      "text/plain": [
       "1.5833333333333333"
      ]
     },
     "execution_count": 139,
     "metadata": {},
     "output_type": "execute_result"
    }
   ],
   "source": [
    "np.mean(data1)"
   ]
  },
  {
   "cell_type": "code",
   "execution_count": 140,
   "id": "7141c8ca-218b-4ea2-bdca-2a2d7e21cf5e",
   "metadata": {},
   "outputs": [
    {
     "data": {
      "text/plain": [
       "2.0"
      ]
     },
     "execution_count": 140,
     "metadata": {},
     "output_type": "execute_result"
    }
   ],
   "source": [
    "np.median(data1)"
   ]
  },
  {
   "cell_type": "code",
   "execution_count": 141,
   "id": "ce6b15fc-5f0b-4589-afdb-3e1953c15824",
   "metadata": {},
   "outputs": [
    {
     "data": {
      "text/plain": [
       "array([[2, 1, 1, 2],\n",
       "       [2, 2, 2, 1],\n",
       "       [1, 2, 2, 1]])"
      ]
     },
     "execution_count": 141,
     "metadata": {},
     "output_type": "execute_result"
    }
   ],
   "source": [
    "data1"
   ]
  },
  {
   "cell_type": "code",
   "execution_count": 142,
   "id": "65a6ea89-c660-47c2-a908-7192b9f7d313",
   "metadata": {},
   "outputs": [
    {
     "data": {
      "text/plain": [
       "array([[3, 2, 2],\n",
       "       [3, 3, 3],\n",
       "       [4, 3, 2]])"
      ]
     },
     "execution_count": 142,
     "metadata": {},
     "output_type": "execute_result"
    }
   ],
   "source": [
    "data2"
   ]
  },
  {
   "cell_type": "code",
   "execution_count": 145,
   "id": "0208e7b1-5143-4a5c-99ec-ebde28a6eeb8",
   "metadata": {},
   "outputs": [
    {
     "data": {
      "text/plain": [
       "array([[1, 1, 1, 1],\n",
       "       [2, 1, 2, 1],\n",
       "       [1, 2, 2, 2]])"
      ]
     },
     "execution_count": 145,
     "metadata": {},
     "output_type": "execute_result"
    }
   ],
   "source": [
    "data3 = np.random.randint(1,3, (3,4))\n",
    "data3"
   ]
  },
  {
   "cell_type": "code",
   "execution_count": 146,
   "id": "ebfecbeb-fd80-4edf-9db2-f847dfe9204d",
   "metadata": {},
   "outputs": [
    {
     "data": {
      "text/plain": [
       "array([[ 1,  0,  0,  1],\n",
       "       [ 0,  1,  0,  0],\n",
       "       [ 0,  0,  0, -1]])"
      ]
     },
     "execution_count": 146,
     "metadata": {},
     "output_type": "execute_result"
    }
   ],
   "source": [
    "data1-data3"
   ]
  },
  {
   "cell_type": "code",
   "execution_count": 147,
   "id": "2bd83705-d849-4843-b29a-da744845e306",
   "metadata": {},
   "outputs": [
    {
     "data": {
      "text/plain": [
       "array([[ 1,  0,  0,  1],\n",
       "       [ 0,  1,  0,  0],\n",
       "       [ 0,  0,  0, -1]])"
      ]
     },
     "execution_count": 147,
     "metadata": {},
     "output_type": "execute_result"
    }
   ],
   "source": [
    "np.subtract(data1, data3)"
   ]
  },
  {
   "cell_type": "code",
   "execution_count": 148,
   "id": "c05d61d4-8434-42cf-9dd0-e131a4bd26bc",
   "metadata": {},
   "outputs": [
    {
     "data": {
      "text/plain": [
       "array([[2, 1, 1, 2],\n",
       "       [2, 2, 2, 1],\n",
       "       [1, 2, 2, 1]])"
      ]
     },
     "execution_count": 148,
     "metadata": {},
     "output_type": "execute_result"
    }
   ],
   "source": [
    "data1"
   ]
  },
  {
   "cell_type": "code",
   "execution_count": 149,
   "id": "dccce9f2-405f-42e4-ab3d-a601e830c9cc",
   "metadata": {},
   "outputs": [
    {
     "data": {
      "text/plain": [
       "array([[1, 1, 2, 2],\n",
       "       [1, 2, 2, 2],\n",
       "       [1, 1, 2, 2]])"
      ]
     },
     "execution_count": 149,
     "metadata": {},
     "output_type": "execute_result"
    }
   ],
   "source": [
    "np.sort(data1)"
   ]
  },
  {
   "cell_type": "code",
   "execution_count": 150,
   "id": "c22d2a61-6ce6-4618-bded-c366f60403a2",
   "metadata": {},
   "outputs": [
    {
     "data": {
      "text/plain": [
       "array([[2, 1, 1, 2],\n",
       "       [2, 2, 2, 1],\n",
       "       [1, 2, 2, 1]])"
      ]
     },
     "execution_count": 150,
     "metadata": {},
     "output_type": "execute_result"
    }
   ],
   "source": [
    "data1"
   ]
  },
  {
   "cell_type": "code",
   "execution_count": 155,
   "id": "291255d3-1e2a-471f-b8e5-7ded885cf2ea",
   "metadata": {},
   "outputs": [
    {
     "data": {
      "text/plain": [
       "array([ 1,  2,  3,  5, 40, 90])"
      ]
     },
     "execution_count": 155,
     "metadata": {},
     "output_type": "execute_result"
    }
   ],
   "source": [
    "data = np.array([2,5,1,90,3,40])\n",
    "np.sort(data)"
   ]
  },
  {
   "cell_type": "code",
   "execution_count": 157,
   "id": "31353f74-a2d2-4487-a444-3c7be736f503",
   "metadata": {},
   "outputs": [
    {
     "data": {
      "text/plain": [
       "1"
      ]
     },
     "execution_count": 157,
     "metadata": {},
     "output_type": "execute_result"
    }
   ],
   "source": [
    "np.searchsorted(data, 5)               "
   ]
  },
  {
   "cell_type": "code",
   "execution_count": 159,
   "id": "3a9786ad-3b72-424c-8c5b-e6ad807944d8",
   "metadata": {},
   "outputs": [
    {
     "data": {
      "text/plain": [
       "12"
      ]
     },
     "execution_count": 159,
     "metadata": {},
     "output_type": "execute_result"
    }
   ],
   "source": [
    "np.count_nonzero(data1)"
   ]
  },
  {
   "cell_type": "code",
   "execution_count": 162,
   "id": "7dea3e39-a53e-412f-9568-e7fe0d01ee48",
   "metadata": {},
   "outputs": [
    {
     "data": {
      "text/plain": [
       "(array([1, 3, 5], dtype=int64),)"
      ]
     },
     "execution_count": 162,
     "metadata": {},
     "output_type": "execute_result"
    }
   ],
   "source": [
    "np.where(data>3)"
   ]
  },
  {
   "cell_type": "code",
   "execution_count": 163,
   "id": "5932a6fb-c6d9-4b03-9db1-bc7d02aa1c1a",
   "metadata": {},
   "outputs": [
    {
     "data": {
      "text/plain": [
       "array([ 5, 90, 40])"
      ]
     },
     "execution_count": 163,
     "metadata": {},
     "output_type": "execute_result"
    }
   ],
   "source": [
    "np.extract(data>3, data)"
   ]
  },
  {
   "cell_type": "code",
   "execution_count": 165,
   "id": "5bdfbc77-b407-4c3e-a7f3-21df7493c987",
   "metadata": {},
   "outputs": [
    {
     "data": {
      "text/plain": [
       "array([ 2,  5,  1, 90,  3, 40])"
      ]
     },
     "execution_count": 165,
     "metadata": {},
     "output_type": "execute_result"
    }
   ],
   "source": [
    "data"
   ]
  },
  {
   "cell_type": "code",
   "execution_count": 166,
   "id": "17794d1b-7074-416f-9048-bc1b85592793",
   "metadata": {},
   "outputs": [
    {
     "data": {
      "text/plain": [
       "array([  33554432,   83886080,   16777216, 1509949440,   50331648,\n",
       "        671088640])"
      ]
     },
     "execution_count": 166,
     "metadata": {},
     "output_type": "execute_result"
    }
   ],
   "source": [
    "data.byteswap(True)"
   ]
  },
  {
   "cell_type": "code",
   "execution_count": 167,
   "id": "2f6b2c11-eeb7-453d-b02c-682b32405873",
   "metadata": {},
   "outputs": [
    {
     "data": {
      "text/plain": [
       "array([  33554432,   83886080,   16777216, 1509949440,   50331648,\n",
       "        671088640])"
      ]
     },
     "execution_count": 167,
     "metadata": {},
     "output_type": "execute_result"
    }
   ],
   "source": [
    "data"
   ]
  },
  {
   "cell_type": "code",
   "execution_count": 168,
   "id": "4b234903-d83c-4a0d-a387-5e1497794fec",
   "metadata": {},
   "outputs": [],
   "source": [
    "a = np.array([1,2,3,4,5])\n",
    "b = a"
   ]
  },
  {
   "cell_type": "code",
   "execution_count": 169,
   "id": "8456aa1a-ae89-4cc1-9cce-54c131a54e13",
   "metadata": {},
   "outputs": [
    {
     "data": {
      "text/plain": [
       "array([1, 2, 3, 4, 5])"
      ]
     },
     "execution_count": 169,
     "metadata": {},
     "output_type": "execute_result"
    }
   ],
   "source": [
    "b"
   ]
  },
  {
   "cell_type": "code",
   "execution_count": 170,
   "id": "0c0259f4-d738-4439-9507-7cb4bacb1c1b",
   "metadata": {},
   "outputs": [],
   "source": [
    "b[0]=10"
   ]
  },
  {
   "cell_type": "code",
   "execution_count": 171,
   "id": "49711e5f-2a66-465f-96c0-4f5899db6dbd",
   "metadata": {},
   "outputs": [
    {
     "data": {
      "text/plain": [
       "array([10,  2,  3,  4,  5])"
      ]
     },
     "execution_count": 171,
     "metadata": {},
     "output_type": "execute_result"
    }
   ],
   "source": [
    "a"
   ]
  },
  {
   "cell_type": "code",
   "execution_count": 172,
   "id": "67cdb52c-dcbe-444e-8f71-bf597299e02b",
   "metadata": {},
   "outputs": [
    {
     "data": {
      "text/plain": [
       "array([10,  2,  3,  4,  5])"
      ]
     },
     "execution_count": 172,
     "metadata": {},
     "output_type": "execute_result"
    }
   ],
   "source": [
    "c = np.copy(a)\n",
    "c"
   ]
  },
  {
   "cell_type": "code",
   "execution_count": 173,
   "id": "43278f09-9947-4567-811e-707ad60240b3",
   "metadata": {},
   "outputs": [],
   "source": [
    "c[1]=20"
   ]
  },
  {
   "cell_type": "code",
   "execution_count": 174,
   "id": "c2f86571-33e6-4677-a0bb-b5883cc49e0a",
   "metadata": {},
   "outputs": [
    {
     "data": {
      "text/plain": [
       "array([10, 20,  3,  4,  5])"
      ]
     },
     "execution_count": 174,
     "metadata": {},
     "output_type": "execute_result"
    }
   ],
   "source": [
    "c"
   ]
  },
  {
   "cell_type": "code",
   "execution_count": 175,
   "id": "5672610b-9ae3-4b62-a827-f1a32a02a7bd",
   "metadata": {},
   "outputs": [
    {
     "data": {
      "text/plain": [
       "array([10,  2,  3,  4,  5])"
      ]
     },
     "execution_count": 175,
     "metadata": {},
     "output_type": "execute_result"
    }
   ],
   "source": [
    "a"
   ]
  },
  {
   "cell_type": "code",
   "execution_count": 178,
   "id": "24da27d8-e535-407a-943b-9a692540199e",
   "metadata": {},
   "outputs": [
    {
     "data": {
      "text/plain": [
       "array([10,  2,  3,  4,  5])"
      ]
     },
     "execution_count": 178,
     "metadata": {},
     "output_type": "execute_result"
    }
   ],
   "source": [
    "d = a.view()\n",
    "d"
   ]
  },
  {
   "cell_type": "code",
   "execution_count": 179,
   "id": "52516d6b-c0a1-484b-8b8c-95f7e596fc4a",
   "metadata": {},
   "outputs": [],
   "source": [
    "a[2]=30"
   ]
  },
  {
   "cell_type": "code",
   "execution_count": 180,
   "id": "d8fb301b-4db2-480d-aca4-766d58b6e844",
   "metadata": {},
   "outputs": [
    {
     "data": {
      "text/plain": [
       "array([10,  2, 30,  4,  5])"
      ]
     },
     "execution_count": 180,
     "metadata": {},
     "output_type": "execute_result"
    }
   ],
   "source": [
    "a"
   ]
  },
  {
   "cell_type": "code",
   "execution_count": 181,
   "id": "c88ed1f0-89cf-4f91-b3c9-f20a406620ab",
   "metadata": {},
   "outputs": [
    {
     "data": {
      "text/plain": [
       "array([10,  2, 30,  4,  5])"
      ]
     },
     "execution_count": 181,
     "metadata": {},
     "output_type": "execute_result"
    }
   ],
   "source": [
    "d"
   ]
  },
  {
   "cell_type": "code",
   "execution_count": 182,
   "id": "8b10c3ed-482a-40f6-9d86-cd50529ed7f6",
   "metadata": {},
   "outputs": [],
   "source": [
    "import numpy.matlib as nm"
   ]
  },
  {
   "cell_type": "code",
   "execution_count": 186,
   "id": "fd3aafce-4d13-4aa4-aa8c-1a69ce398e08",
   "metadata": {},
   "outputs": [
    {
     "data": {
      "text/plain": [
       "matrix([[0., 0., 0., 0., 0.],\n",
       "        [0., 0., 0., 0., 0.],\n",
       "        [0., 0., 0., 0., 0.]])"
      ]
     },
     "execution_count": 186,
     "metadata": {},
     "output_type": "execute_result"
    }
   ],
   "source": [
    "nm.zeros((3,5))"
   ]
  },
  {
   "cell_type": "code",
   "execution_count": 187,
   "id": "1b866a19-5456-4058-82e0-c02496fa2d3b",
   "metadata": {},
   "outputs": [
    {
     "data": {
      "text/plain": [
       "matrix([[1., 1., 1., 1.],\n",
       "        [1., 1., 1., 1.],\n",
       "        [1., 1., 1., 1.]])"
      ]
     },
     "execution_count": 187,
     "metadata": {},
     "output_type": "execute_result"
    }
   ],
   "source": [
    "nm.ones((3,4))"
   ]
  },
  {
   "cell_type": "code",
   "execution_count": 190,
   "id": "38d5d4ba-65bb-4467-bf59-39cca3ea1a1d",
   "metadata": {},
   "outputs": [
    {
     "data": {
      "text/plain": [
       "matrix([[1., 0., 0., 0., 0.],\n",
       "        [0., 1., 0., 0., 0.],\n",
       "        [0., 0., 1., 0., 0.],\n",
       "        [0., 0., 0., 1., 0.],\n",
       "        [0., 0., 0., 0., 1.]])"
      ]
     },
     "execution_count": 190,
     "metadata": {},
     "output_type": "execute_result"
    }
   ],
   "source": [
    "nm.eye(5)"
   ]
  },
  {
   "cell_type": "code",
   "execution_count": 212,
   "id": "744de6ff-3e4f-475a-95c5-bb1b25d3019d",
   "metadata": {},
   "outputs": [],
   "source": [
    "data1 = np.random.randint(2,5, (3,3))\n",
    "data2 = np.random.randint([[2,5,4], [3,5,6], [4,3,4]])"
   ]
  },
  {
   "cell_type": "code",
   "execution_count": 213,
   "id": "07d10e77-9f2b-4a4b-ade5-e07730739811",
   "metadata": {},
   "outputs": [
    {
     "data": {
      "text/plain": [
       "array([[4, 4, 4],\n",
       "       [3, 3, 3],\n",
       "       [3, 4, 3]])"
      ]
     },
     "execution_count": 213,
     "metadata": {},
     "output_type": "execute_result"
    }
   ],
   "source": [
    "data1"
   ]
  },
  {
   "cell_type": "code",
   "execution_count": 214,
   "id": "a080e2bf-50f7-4091-b49f-8dc574b979f7",
   "metadata": {},
   "outputs": [
    {
     "data": {
      "text/plain": [
       "array([[1, 4, 3],\n",
       "       [1, 4, 5],\n",
       "       [2, 1, 0]])"
      ]
     },
     "execution_count": 214,
     "metadata": {},
     "output_type": "execute_result"
    }
   ],
   "source": [
    "data2"
   ]
  },
  {
   "cell_type": "code",
   "execution_count": 215,
   "id": "b3b959c7-437d-4adf-837e-40f14c6c7697",
   "metadata": {},
   "outputs": [
    {
     "data": {
      "text/plain": [
       "array([[16, 36, 32],\n",
       "       [12, 27, 24],\n",
       "       [13, 31, 29]])"
      ]
     },
     "execution_count": 215,
     "metadata": {},
     "output_type": "execute_result"
    }
   ],
   "source": [
    "np.dot(data1,data2)"
   ]
  },
  {
   "cell_type": "code",
   "execution_count": 216,
   "id": "a6d23235-04c3-4de4-9c68-863e57ae4679",
   "metadata": {},
   "outputs": [
    {
     "data": {
      "text/plain": [
       "array([[16, 36, 32],\n",
       "       [12, 27, 24],\n",
       "       [13, 31, 29]])"
      ]
     },
     "execution_count": 216,
     "metadata": {},
     "output_type": "execute_result"
    }
   ],
   "source": [
    "data1@data2"
   ]
  },
  {
   "cell_type": "code",
   "execution_count": null,
   "id": "c3bf3265-87e1-4d53-9395-23cf95a2cdd7",
   "metadata": {},
   "outputs": [],
   "source": []
  }
 ],
 "metadata": {
  "kernelspec": {
   "display_name": "Python 3 (ipykernel)",
   "language": "python",
   "name": "python3"
  },
  "language_info": {
   "codemirror_mode": {
    "name": "ipython",
    "version": 3
   },
   "file_extension": ".py",
   "mimetype": "text/x-python",
   "name": "python",
   "nbconvert_exporter": "python",
   "pygments_lexer": "ipython3",
   "version": "3.10.9"
  }
 },
 "nbformat": 4,
 "nbformat_minor": 5
}
