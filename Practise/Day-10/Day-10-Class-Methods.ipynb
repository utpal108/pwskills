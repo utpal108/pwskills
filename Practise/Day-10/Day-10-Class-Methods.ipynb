{
 "cells": [
  {
   "cell_type": "markdown",
   "id": "baadbcd3-0e7f-41b1-9baa-db3c427b1e22",
   "metadata": {},
   "source": [
    "## Class Methods"
   ]
  },
  {
   "cell_type": "code",
   "execution_count": 94,
   "id": "b3131af1-a5f9-4fd6-9986-0ea19bb8a8c4",
   "metadata": {},
   "outputs": [],
   "source": [
    "class students:\n",
    "    def __init__(self, name, email, student_rank):\n",
    "        self.name = name\n",
    "        self._email = email\n",
    "        self.__student_rank = student_rank\n",
    "    \n",
    "    @property\n",
    "    def show_student_rank(self):\n",
    "        return self.__student_rank"
   ]
  },
  {
   "cell_type": "code",
   "execution_count": 95,
   "id": "59238dad-baf6-43ce-a257-3ed6ef73cf22",
   "metadata": {},
   "outputs": [
    {
     "name": "stdout",
     "output_type": "stream",
     "text": [
      "Utpal\n"
     ]
    }
   ],
   "source": [
    "student_info = students(\"Utpal\", \"utpalseu@gmail.com\", 20)\n",
    "print(student_info.name)"
   ]
  },
  {
   "cell_type": "code",
   "execution_count": 96,
   "id": "d95e069c-c135-4cf7-90ab-ea989e82685b",
   "metadata": {},
   "outputs": [
    {
     "name": "stdout",
     "output_type": "stream",
     "text": [
      "utpalseu@gmail.com\n"
     ]
    }
   ],
   "source": [
    "print(student_info._email)"
   ]
  },
  {
   "cell_type": "code",
   "execution_count": 97,
   "id": "0a21e813-f6ae-4884-8fff-2bed5eba6c36",
   "metadata": {},
   "outputs": [],
   "source": [
    "student_info._email = \"rajesh@gmail.com\""
   ]
  },
  {
   "cell_type": "code",
   "execution_count": 98,
   "id": "2c8fe09f-c338-4f88-8558-e98c97492082",
   "metadata": {},
   "outputs": [
    {
     "name": "stdout",
     "output_type": "stream",
     "text": [
      "rajesh@gmail.com\n"
     ]
    }
   ],
   "source": [
    "print(student_info._email)"
   ]
  },
  {
   "cell_type": "code",
   "execution_count": 99,
   "id": "23b34c70-81e2-443a-b332-c2327d7d736a",
   "metadata": {},
   "outputs": [
    {
     "data": {
      "text/plain": [
       "20"
      ]
     },
     "execution_count": 99,
     "metadata": {},
     "output_type": "execute_result"
    }
   ],
   "source": [
    "student_info.show_student_rank"
   ]
  },
  {
   "cell_type": "code",
   "execution_count": null,
   "id": "75d3c988-cba3-4f45-bd94-72d0c0fb7329",
   "metadata": {},
   "outputs": [],
   "source": []
  },
  {
   "cell_type": "code",
   "execution_count": null,
   "id": "b11db901-427c-47a8-b4c0-dba0f62503ec",
   "metadata": {},
   "outputs": [],
   "source": []
  },
  {
   "cell_type": "code",
   "execution_count": null,
   "id": "3985d736-cf84-4ada-b769-062d482d28ca",
   "metadata": {},
   "outputs": [],
   "source": []
  }
 ],
 "metadata": {
  "kernelspec": {
   "display_name": "Python 3 (ipykernel)",
   "language": "python",
   "name": "python3"
  },
  "language_info": {
   "codemirror_mode": {
    "name": "ipython",
    "version": 3
   },
   "file_extension": ".py",
   "mimetype": "text/x-python",
   "name": "python",
   "nbconvert_exporter": "python",
   "pygments_lexer": "ipython3",
   "version": "3.10.9"
  }
 },
 "nbformat": 4,
 "nbformat_minor": 5
}
