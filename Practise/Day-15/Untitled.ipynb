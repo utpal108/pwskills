{
 "cells": [
  {
   "cell_type": "markdown",
   "id": "03d61a2e-3ea4-4a69-8cd7-3744557d90c4",
   "metadata": {},
   "source": [
    "## Multiprocessing"
   ]
  },
  {
   "cell_type": "code",
   "execution_count": 1,
   "id": "f0605531-0bdb-4be3-99cc-9c45021426dc",
   "metadata": {},
   "outputs": [],
   "source": [
    "import multiprocessing\n",
    "\n",
    "def cal_square(numbers):\n",
    "    return [n**2 for n in numbers]\n",
    "\n",
    "my_numbers = [1,2,3,4,5,6,7,8,9,10]\n",
    "\n",
    "if __name__ == \"__main__\":\n",
    "    p1 = multiprocessing.Process(target=cal_square, args=(my_numbers,))\n",
    "    \n",
    "    p1.start()\n",
    "    p1.join()"
   ]
  },
  {
   "cell_type": "code",
   "execution_count": null,
   "id": "510a6d65-9eac-49c8-a3b8-28e85f45e65c",
   "metadata": {},
   "outputs": [],
   "source": []
  }
 ],
 "metadata": {
  "kernelspec": {
   "display_name": "Python 3 (ipykernel)",
   "language": "python",
   "name": "python3"
  },
  "language_info": {
   "codemirror_mode": {
    "name": "ipython",
    "version": 3
   },
   "file_extension": ".py",
   "mimetype": "text/x-python",
   "name": "python",
   "nbconvert_exporter": "python",
   "pygments_lexer": "ipython3",
   "version": "3.10.9"
  }
 },
 "nbformat": 4,
 "nbformat_minor": 5
}
